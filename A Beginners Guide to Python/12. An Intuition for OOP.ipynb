{
 "cells": [
  {
   "cell_type": "markdown",
   "metadata": {},
   "source": [
    "# An Intuition for OOP\n",
    "\n",
    "'OOP' stands for **O**bject **O**rientated **D**esign. Today my aim to provide a quick overview of the topic which will help you develop an 'intuition' for what objects are and how methods work. \n",
    "\n",
    "Lets imagine X is an object. And for every X there is a set ‘Y’ of operations that can be performed on X. So for example, if X is a ‘Ball’ then a possible operation we can perform on this Ball is to kick it. Another operation would be to bounce it, name it, sell it, puncture it, and so on. \n",
    "\n",
    "Let’s build a simple interface (UI) for the object ‘Ball’. Our interface is just going to list all the operations (and their required arguments) and the end-user just picks an operation from the list. \n",
    "\n",
    "1. Name Ball (name)\n",
    "2. Kick Ball (power, direction)\n",
    "2. Bounce Ball (height)\n",
    "3. Move Ball (new position)\n",
    "4. Subtract Ball (integer)\n",
    "5. ...and so on...\n",
    "\n",
    "To interact with the Ball we just need to call these operations with the right arguments and stuff ['magically'](https://en.wikipedia.org/wiki/Magic_(programming)) happens. Notice that the end-user is not expected to understand physics here; the end-user simply kicks the ball in a given direction and with n force; behind the scenes someone (or something) else is doing the complex trajectory calculations. Basically, this UI adds a layer of abstraction that allows the end-user to meaningfully interact with the ball without needing to understand exactly *how* this stuff works. \n",
    "\n",
    "Talking of meaningful operations, what does subtracting ‘32’ from the Ball actually do? We can make sense of all the other operations but subtracting a number from a Ball doesn’t seem to mean anything, and so therefore we should remove it from the list of operations. \n",
    "\n",
    "Alright, so what does this have to do with Python? Well, Python is an object orientated language, and in it, everything is implemented as an object! And so for every object there is a set of valid operations which we can performed on objects of that type. We call these operations ‘methods’. \n",
    "\n",
    "## Building Your Own Objects\n",
    "\n",
    "In Python it is even possible to build your own objects, we do this by creating a ‘class’. In my opinion, going into detail about classes is probably a mistake in a course aimed at beginners, but with that said I do want to give you a ‘feel’ for it. Please be aware that I **DO NOT** expect you to understand the code below nor am I going to explain *how* it works either. I will however, explain the *what's* and *why's*.   "
   ]
  },
  {
   "cell_type": "code",
   "execution_count": 20,
   "metadata": {
    "collapsed": true
   },
   "outputs": [],
   "source": [
    "class Time(object):\n",
    "    def __init__(self, hours, mins=0):\n",
    "        assert isinstance(hours, int) and 0<= hours <=24\n",
    "        assert isinstance(mins, int) and  0<= mins  <=60\n",
    "\n",
    "        self.hours = hours\n",
    "        self.mins = mins\n",
    "\n",
    "    def __repr__(self):\n",
    "        return format_time(self.hours, self.mins)\n",
    "        \n",
    "    def __add__(self, other):\n",
    "        a = self.mins\n",
    "        b = other.mins\n",
    "\n",
    "        x = self.hours\n",
    "        y = other.hours\n",
    "        \n",
    "        c = str( (a + b) % 60 ).zfill(2)\n",
    "        z = str((((a+b) // 60) + x + y) % 25).zfill(2)\n",
    "        \n",
    "        return format_time(z, c)\n",
    "\n",
    "def format_time(h, m):\n",
    "    return \"{}:{}\".format(str(h).zfill(2), str(m).zfill(2))      "
   ]
  },
  {
   "cell_type": "markdown",
   "metadata": {},
   "source": [
    "Okay, so what does this code to? Well, it creates an object which I call ‘Time’.  A Time object takes two integers as input (hours and minutes). Let’s create a Time object and see what happens when I print it. "
   ]
  },
  {
   "cell_type": "code",
   "execution_count": 18,
   "metadata": {},
   "outputs": [
    {
     "name": "stdout",
     "output_type": "stream",
     "text": [
      "04:50 00:01 24:59\n"
     ]
    }
   ],
   "source": [
    "a = Time(4,50)\n",
    "b = Time(0, 1)\n",
    "c = Time(24, 59)\n",
    "\n",
    "print(a, b, c)"
   ]
  },
  {
   "cell_type": "markdown",
   "metadata": {},
   "source": [
    "When we print time objects they are represented as a string that looks just like an alarm clock; Time(12, 30) returns \"12:30\" \n",
    "\n",
    "Now, the code above also defines a method \"add\". This method adds Time Y to Time X which is effectively asking:\n",
    "\n",
    "    “If the time now is X what time is in Y hours and Z minutes from now?”\n",
    "\n",
    "Let's try adding some times together now:"
   ]
  },
  {
   "cell_type": "code",
   "execution_count": 19,
   "metadata": {},
   "outputs": [
    {
     "name": "stdout",
     "output_type": "stream",
     "text": [
      "11:00\n",
      "07:30\n"
     ]
    },
    {
     "ename": "AttributeError",
     "evalue": "'int' object has no attribute 'mins'",
     "output_type": "error",
     "traceback": [
      "\u001b[0;31m---------------------------------------------------------------------------\u001b[0m",
      "\u001b[0;31mAttributeError\u001b[0m                            Traceback (most recent call last)",
      "\u001b[0;32m<ipython-input-19-ac94f0473260>\u001b[0m in \u001b[0;36m<module>\u001b[0;34m()\u001b[0m\n\u001b[1;32m      2\u001b[0m \u001b[0mprint\u001b[0m\u001b[0;34m(\u001b[0m \u001b[0mTime\u001b[0m\u001b[0;34m(\u001b[0m\u001b[0;36m0\u001b[0m\u001b[0;34m,\u001b[0m\u001b[0;36m0\u001b[0m\u001b[0;34m)\u001b[0m  \u001b[0;34m+\u001b[0m  \u001b[0mTime\u001b[0m\u001b[0;34m(\u001b[0m\u001b[0;36m7\u001b[0m\u001b[0;34m,\u001b[0m\u001b[0;36m30\u001b[0m\u001b[0;34m)\u001b[0m \u001b[0;34m)\u001b[0m  \u001b[0;31m# 00:00 + 07:30 ---> 7:30\u001b[0m\u001b[0;34m\u001b[0m\u001b[0m\n\u001b[1;32m      3\u001b[0m \u001b[0;34m\u001b[0m\u001b[0m\n\u001b[0;32m----> 4\u001b[0;31m \u001b[0mprint\u001b[0m\u001b[0;34m(\u001b[0m \u001b[0mTime\u001b[0m\u001b[0;34m(\u001b[0m\u001b[0;36m20\u001b[0m\u001b[0;34m,\u001b[0m\u001b[0;36m20\u001b[0m\u001b[0;34m)\u001b[0m \u001b[0;34m+\u001b[0m \u001b[0;36m10\u001b[0m \u001b[0;34m)\u001b[0m \u001b[0;31m# Error, can't add integer to time object\u001b[0m\u001b[0;34m\u001b[0m\u001b[0m\n\u001b[0m",
      "\u001b[0;32m<ipython-input-17-b01a5db32023>\u001b[0m in \u001b[0;36m__add__\u001b[0;34m(self, other)\u001b[0m\n\u001b[1;32m     12\u001b[0m     \u001b[0;32mdef\u001b[0m \u001b[0m__add__\u001b[0m\u001b[0;34m(\u001b[0m\u001b[0mself\u001b[0m\u001b[0;34m,\u001b[0m \u001b[0mother\u001b[0m\u001b[0;34m)\u001b[0m\u001b[0;34m:\u001b[0m\u001b[0;34m\u001b[0m\u001b[0m\n\u001b[1;32m     13\u001b[0m         \u001b[0ma\u001b[0m \u001b[0;34m=\u001b[0m \u001b[0mself\u001b[0m\u001b[0;34m.\u001b[0m\u001b[0mmins\u001b[0m\u001b[0;34m\u001b[0m\u001b[0m\n\u001b[0;32m---> 14\u001b[0;31m         \u001b[0mb\u001b[0m \u001b[0;34m=\u001b[0m \u001b[0mother\u001b[0m\u001b[0;34m.\u001b[0m\u001b[0mmins\u001b[0m\u001b[0;34m\u001b[0m\u001b[0m\n\u001b[0m\u001b[1;32m     15\u001b[0m \u001b[0;34m\u001b[0m\u001b[0m\n\u001b[1;32m     16\u001b[0m         \u001b[0mx\u001b[0m \u001b[0;34m=\u001b[0m \u001b[0mself\u001b[0m\u001b[0;34m.\u001b[0m\u001b[0mhours\u001b[0m\u001b[0;34m\u001b[0m\u001b[0m\n",
      "\u001b[0;31mAttributeError\u001b[0m: 'int' object has no attribute 'mins'"
     ]
    }
   ],
   "source": [
    "print( Time(10,40) + Time(0,20) ) # 10:40 + 00:20 ---> 11:00\n",
    "print( Time(0,0)  +  Time(7,30) )  # 00:00 + 07:30 ---> 7:30\n",
    "\n",
    "print( Time(20,20) + 10 ) # Error, can't add integer to time object"
   ]
  },
  {
   "cell_type": "markdown",
   "metadata": {},
   "source": [
    "As a minor implementation detail my code adds Time to other Time objects, if we try to add an integer (e.g 4) to the time 10:30 we get an error. The reason for this is if we get handed an integer it is not entirely clear what should to happen; should we assume the integer is hours? But couldn’t that integer just as easily be minutes or total elapsed time (e.g 65 means 1:05) ? Since its not clear, we don't guess. Instead we just yield an error.\n",
    "\n",
    "> “In the face of ambiguity, refuse the temptation to guess.” ~ Zen of Python\n",
    "\n",
    "I could expand my Time object by adding more methods; maybe I could define subtraction, or a method for converting time-zones. But I wouldn’t add a ‘kick’ or a ‘bounce’ method the reason being we can’t make sense of kicking or bouncing “12:30”. \n",
    "\n",
    "## Built-in Objects\n",
    "\n",
    "And now comes the kicker:\n",
    "\n",
    "> \"How are integers/strings/etc implemented in Python?\"\n",
    "\n",
    "Well, it turns out strings are just a build-in class! Yes thats right, the built-in objects in Python are built using the same tools our own objects are made from. \n",
    "\n",
    "To add two numbers together (e.g. 10 + 4) we don't need know what Python is doing at the processor level, and thats the beauty of abstraction. "
   ]
  },
  {
   "cell_type": "code",
   "execution_count": null,
   "metadata": {},
   "outputs": [],
   "source": [
    "print(type(Time(10,0)),type(\"hello\"),type(10), type(5.67), sep=\"\\n\")"
   ]
  }
 ],
 "metadata": {
  "kernelspec": {
   "display_name": "Python 3",
   "language": "python",
   "name": "python3"
  },
  "language_info": {
   "codemirror_mode": {
    "name": "ipython",
    "version": 3
   },
   "file_extension": ".py",
   "mimetype": "text/x-python",
   "name": "python",
   "nbconvert_exporter": "python",
   "pygments_lexer": "ipython3",
   "version": "3.5.2"
  }
 },
 "nbformat": 4,
 "nbformat_minor": 2
}
