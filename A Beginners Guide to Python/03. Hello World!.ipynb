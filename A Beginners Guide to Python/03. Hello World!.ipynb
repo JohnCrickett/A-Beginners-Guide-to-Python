{
 "cells": [
  {
   "cell_type": "markdown",
   "metadata": {},
   "source": [
    "# Hello World!\n",
    "\n",
    "In this lecture, we shall be focusing on Python's print statement. As the word ‘print’ may suggest, this a command in Python that, err, prints to the console whatever you fed it as input.\n",
    "\n",
    "     The Syntax:\n",
    "     print({argument})\n",
    "\n",
    "Please take care to note that \"print\" is all lower-case (**Python is case-sensitive**). And don't forget the curly brackets! \"()\" \n",
    "\n",
    "Before moving on, I’d like to make quick note about how I talk about syntax in Python. In the lectures where I chose to talk about syntax I use the format above. With the exception of the “{}” symbols, you should assume that **all the the symbols/words are deliberate.** In other words if you see a comma (“,”), a colon (“:”) or whatever its there because Python needs it to be there! The exception to this rule is text sandwiched between the “{}” brackets. This is **MY syntax**, which I use as a 'place-holder'. In this particular case you should remove {argument} and replace with whatever you want to print. Lets run through a few examples:"
   ]
  },
  {
   "cell_type": "code",
   "execution_count": 5,
   "metadata": {},
   "outputs": [
    {
     "name": "stdout",
     "output_type": "stream",
     "text": [
      "hi\n",
      "8\n",
      "[1, 2, 3]\n"
     ]
    }
   ],
   "source": [
    "print(\"hi\")\n",
    "print(4 + 4)\n",
    "print([1, 2, 3])"
   ]
  },
  {
   "cell_type": "markdown",
   "metadata": {},
   "source": [
    "In the above case don't worry about *what* is going on, rather, I just want you to focus on the *how* we did it. The steps we took were: \n",
    "\n",
    "1. Type \"print\"\n",
    "1. Open bracket\n",
    "1. The object/statement we want to print\n",
    "1. Close bracket\n",
    "1. Enter key or run button. \n",
    "\n",
    "When learning programming languages a long-standing tradition has it that the first program you write is \"hello world\" and who am I to break [tradition](https://blog.hackerrank.com/the-history-of-hello-world/)? \n",
    "\n",
    "In Python text is handled by something we call a **“string”**. Strings are an important data-type in Python and later on in this course we shall devote a good deal of time to understanding how they work. But for now, let's just focus on the syntax and how we can print hello word.\n",
    "\n",
    "    The Syntax\n",
    "    \"{argument}\""
   ]
  },
  {
   "cell_type": "code",
   "execution_count": 6,
   "metadata": {},
   "outputs": [
    {
     "data": {
      "text/plain": [
       "'THIS IS A STRING'"
      ]
     },
     "execution_count": 6,
     "metadata": {},
     "output_type": "execute_result"
    }
   ],
   "source": [
    "\"THIS IS A STRING\""
   ]
  },
  {
   "cell_type": "markdown",
   "metadata": {},
   "source": [
    "Yep, thats right, strings have a very simple syntax; to convert normal English text into a Python string all we have to do is surround it in quotation marks (\"\"). Okay we have all the tools we need, now lets give 'hello word' a go!"
   ]
  },
  {
   "cell_type": "code",
   "execution_count": 7,
   "metadata": {},
   "outputs": [
    {
     "name": "stdout",
     "output_type": "stream",
     "text": [
      "hello World\n"
     ]
    }
   ],
   "source": [
    "print(\"hello World\")"
   ]
  },
  {
   "cell_type": "markdown",
   "metadata": {},
   "source": [
    "## Homework\n",
    "\n",
    "For your homework, I want you to print the following phrase into the box below:\n",
    "> MY HUMAN UNDERSTANDS ME."
   ]
  },
  {
   "cell_type": "code",
   "execution_count": 8,
   "metadata": {
    "collapsed": true
   },
   "outputs": [],
   "source": [
    "# ENTER YOUR CODE BELOW THIS LINE AND HIT THE 'RUN CELL' BUTTON ABOVE.\n"
   ]
  }
 ],
 "metadata": {
  "kernelspec": {
   "display_name": "Python 3",
   "language": "python",
   "name": "python3"
  },
  "language_info": {
   "codemirror_mode": {
    "name": "ipython",
    "version": 3
   },
   "file_extension": ".py",
   "mimetype": "text/x-python",
   "name": "python",
   "nbconvert_exporter": "python",
   "pygments_lexer": "ipython3",
   "version": "3.5.2"
  }
 },
 "nbformat": 4,
 "nbformat_minor": 2
}
