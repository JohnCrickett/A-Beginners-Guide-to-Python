{
 "cells": [
  {
   "cell_type": "markdown",
   "metadata": {},
   "source": [
    "# CONTENTS     "
   ]
  },
  {
   "cell_type": "markdown",
   "metadata": {},
   "source": [
    "## Lectures\n",
    "\n",
    "1. Introduction\n",
    "1. Guide FAQ\n",
    "1. Hello World!             \n",
    "1. Comments\n",
    "1. Variables & Assignment\n",
    "1. Variable Names\n",
    "1. Philosophy\n",
    "1. Calling Functions\n",
    "1. Numbers\n",
    "1. Strings\n",
    "1. On the Importance of Errors (oh, and Operator Overloading)\n",
    "1. An Intuition for OOP\n",
    "1. Strings & methods    \n",
    "1. Lists\n",
    "1. Indexing & Slicing\n",
    "1. Sorting\n",
    "1. If, else, Logic, and Laziness\n",
    "1. Indentation\n",
    "1. For-Loops\n",
    "1. Functions & Namespaces\n",
    "1. The Joy of Fast Cars\n",
    "1. Common Error Messages\n",
    "1. Try / Except\n",
    "1. Getting Help\n",
    "1. Introduction to Testing\n",
    "1. Design Decisions: How to Build a Chess Game\n",
    "1. Final Project: An Introduction\n",
    "1. Where to go from here...\n",
    "1. Conclusion                          \n",
    "1. Updates & Acknowledgements"
   ]
  },
  {
   "cell_type": "markdown",
   "metadata": {},
   "source": [
    "# STUFF IN THE WORKS / CURRENT GUIDE PROGRESS\n",
    "\n",
    "* last update: 9th Dec 2017\n",
    "\n",
    "\n",
    "# ToDo list\n",
    "\n",
    "1. Polish Final Project.\n",
    "1. Try to add more images (as appropriate).\n",
    "1. Acknowedgements (ongoing)."
   ]
  }
 ],
 "metadata": {
  "kernelspec": {
   "display_name": "Python 3",
   "language": "python",
   "name": "python3"
  },
  "language_info": {
   "codemirror_mode": {
    "name": "ipython",
    "version": 3
   },
   "file_extension": ".py",
   "mimetype": "text/x-python",
   "name": "python",
   "nbconvert_exporter": "python",
   "pygments_lexer": "ipython3",
   "version": "3.6.3"
  }
 },
 "nbformat": 4,
 "nbformat_minor": 2
}
