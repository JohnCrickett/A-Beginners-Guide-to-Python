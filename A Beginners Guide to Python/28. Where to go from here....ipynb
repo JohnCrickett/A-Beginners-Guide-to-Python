{
 "cells": [
  {
   "cell_type": "markdown",
   "metadata": {},
   "source": [
    "# Where to go from here\n",
    "\n",
    "Okay so you guys have have slogged your way through my guide. Congratulations! I sincerely hope your time with me was rewarding. \n",
    "\n",
    "As we bring this lecture series to a close I wanted to spend a bit of time talking about your future. This course only covered the basics and there is still so much more to learn. My goal for this course was to give your guys a good foundation upon which you can build on. Below are a few of my recommendations for where you could go from here...\n",
    "\n",
    "## For the Gamers... \n",
    "\n",
    "* [An Introduction to Interactive Programming in Python (Parts 1 & 2)](www.coursera.org/learn/interactive-python-1), Rice University (Coursera).\n",
    "\n",
    "As I mentioned in the very first lecture this was my first Programming course; I dived head first into that course with zero experience and I struggled. BUT, you guys have more experience that what I did at the time and I still managed to pass with a grade of 90%!\n",
    "    \n",
    "I recommend this course because if you want to someday design your own games the projects in this course will be fantastic experience in the long term and in the short term you'll probably enjoy the projects you get to work on. Asteroids, Pong, Blackjack to name just a few. \n",
    "    \n",
    "## Machine Learning.\n",
    "\n",
    "* [Intro to Machine Learning](https://www.udacity.com/course/intro-to-machine-learning--ud120), Sebastian Thrun (Udacity)\n",
    "\n",
    "I myself have tried to learn Machine learning on several occasions but most of those I have taken a course in the subject I quit after two or three weeks; I don’t struggle with the programming aspect of these courses, rather, I struggle with the math. \n",
    "    \n",
    "One of the nice things about this introduction is that it is light on the math and so therefore its a great choice for those interested in the subject but do not feel confident with say calculus or linear algebra.\n",
    "    \n",
    "A lot of your time will be spent learning Pythons ‘sklearn’ module.   \n",
    "\n",
    "## Python, with a splash of computer Science\n",
    "  \n",
    "* [Introduction to Computer Science and Programming Using Python](https://www.edx.org/course/introduction-computer-science-mitx-6-00-1x-8), Massachusetts Institute of Technology (Edx)\n",
    "\n",
    "This is also a course I found difficult first time round. In fact I had to take it about three times before I finally past. While hard it is worth the effort, and apparently its roughly equivalent to course they actually teach MIT students on campus so you know its good shit. \n",
    "\n",
    "\n",
    "* [The Design of Computer Programs](https://www.udacity.com/course/design-of-computer-programs--cs212), Peter Norvig (Udacity)\n",
    "\n",
    "As noted in the very first lecture this is an **advanced** course, and so I’d recommend you get another 6+ months of experience before you tackle this beast. \n",
    "   \n",
    "This course is incredibly light on the Python Syntax, in fact most of the lecture time is discussing underlying design decisions, algorithms and efficiency. If you liked my lecture on 'design decisions' then this is most certainly a course you should take (some day).   \n",
    "   \n",
    "## For Puzzles and Practice\n",
    "\n",
    "* [Codewars.com](https://www.codewars.com/users/the_Hamster)\n",
    "\n",
    "Programming is not something like can be spoon-fed. Much like learning a musical instrument it is something you need *to do*, not merely read about. Most of the puzzles on this website can be done within 5 minutes and its a nice way to practice your skills with your morning coffee or during your lunch break. \n",
    "    \n",
    "Another cool thing about the website is once you have completed the challenge you can read other people's solutions and sometimes you can learn a thing or too in the process.\n",
    "    \n",
    "Long story short, if you enjoy puzzles and/or want to practice code by lack the time for a course then website like these are a good option. \n",
    "    \n",
    "* [Codility.com](https://codility.com/programmers/lessons/1-iterations/)\n",
    "    \n",
    "This website has a lot less puzzles, but compared to codewars it offers two main advantages. Firstly, this website is used by recruiters in the tech industry (thats how I learnt about it, actually) and so if you are looking to try to get a job in programming its probably not a bad idea to familiarise yourself with websites like this (if a potential employer wants to test your skills you’ll be ready for it). Secondly, unlike codewars, your solutions are evaluated for both correctness AND efficiency. So for people that enjoyed my \"joy of fast cards lecture\" you might have some fun with these puzzles.\n",
    "    \n",
    "## Mathmatics\n",
    "\n",
    "Within the programming world I believe that there is a divide between the people that think math is not necessary for good programming and those people the believe it is essential. I don't feel I have enough experience to weigh in on this issue, but I will say is that I strongly feel my lack of strong math skills has made it difficult to peruse the areas that I enjoy the most (artificial intelligence/ Machine Learning). \n",
    "\n",
    "Here, let me give you a quick puzzle, your task is to sum all the numbers 1 to 100. Easy, you say! lets use a for-loop:"
   ]
  },
  {
   "cell_type": "code",
   "execution_count": 20,
   "metadata": {},
   "outputs": [
    {
     "name": "stdout",
     "output_type": "stream",
     "text": [
      "5050\n"
     ]
    }
   ],
   "source": [
    "total = 0\n",
    "\n",
    "for i in range(1, 101):\n",
    "    total += i\n",
    "\n",
    "print (total)"
   ]
  },
  {
   "cell_type": "markdown",
   "metadata": {},
   "source": [
    "Now, we didn't cover [BigO notation](https://en.wikipedia.org/wiki/Big_O_notation) in this course but I'll tell you now that this code has a time complexity of about O(n). This means the time it takes to complete scales linearly with size of the input. So for example, if it took your computer one second to calculate 10,000 numbers then it would take ten seconds to calculate 100,000 numbers. \n",
    "\n",
    "Okay, so why did I show this code? Well, I show this code because with a little mathematical know-how we can solve this problem with an algorithm that is close to constant time O(1).\n",
    "\n",
    "The Trick is often attributed to Gauss; once you notice that if you pair all the numbers together there is a pattern:\n",
    "\n",
    "    100 + 0, 99 + 1, 98 + 3, 97 + 3, ... 60 + 40, 59 + 41, ...)\n",
    "    \n",
    "Yep, every pair is equal to 100. And there are fifty such pairs with an remainder to fifty.\n",
    "\n",
    "    (100 * 50) + 50 = 5050\n",
    "   \n",
    "in code:"
   ]
  },
  {
   "cell_type": "code",
   "execution_count": 21,
   "metadata": {},
   "outputs": [
    {
     "data": {
      "text/plain": [
       "5050.0"
      ]
     },
     "execution_count": 21,
     "metadata": {},
     "output_type": "execute_result"
    }
   ],
   "source": [
    "def gauss (lower, upper):\n",
    "    \"\"\"upper is exclusive. E.g if you want to include the number 100, type 101\"\"\"\n",
    "    return upper * (upper-1) / 2 - lower * (lower - 1) / 2\n",
    "\n",
    "gauss(0, 101)"
   ]
  },
  {
   "cell_type": "markdown",
   "metadata": {},
   "source": [
    "The lesson here is that a little bit of mathematical knowledge can help you understand and implement efficient algorithms for some problems. So yeah, I think a splashing of maths is useful the aspiring programmer.\n",
    "\n",
    "But what if you are a bit like me? Somebody who understands the value of mathematics but also kind of terrible at it and usually bored by it? What do you do then? Well, I have a course recommendation for that!\n",
    "\n",
    "* [Introduction to Mathmatical Thinking](https://www.coursera.org/learn/mathematical-thinking), Stanford University (Cousera)\n",
    "\n",
    "So this is one of the very few math online courses I have taken and actually completed. What I like about this course is that (when I took it) Keith Devlin (the instructor) was of the opinion that we teach math wrong in schools. Usually, math education is about learning rote procedures and somewhat rigid mechanical procedures. \n",
    "\n",
    "    \"Want to solve that equation, Jimmy?\" \n",
    "    Teacher: \"Here are ten rules you must remember and follow.\" \n",
    "    Continuing, \"Oh, and once you are done with that Jimmy, don't forget to remember all of your times tables.\" \n",
    "    \n",
    "In contrast, the course tries something different; the focus is on getting your brains to *think* mathematically. The first half of the course is about logic which is pretty relevant to programming. The second part of the course is about constructing mathematical proofs. During the final exam I remember I had to answer a question something like this:\n",
    "    \n",
    "    Prove that for ALL primes the the ONLY triple prime is [3,5,7]\n",
    "    \n",
    "Now, in my mind the real cool thing about the final exam is that you can solve these problems with very basic mathematical know-how, and honestly that’s the beauty of this question. Its possible to solve this problem with only basic knowledge of [mathmatical induction](https://en.wikipedia.org/wiki/Mathematical_induction) and a basic understanding of what primes are. That’s it. \n",
    "\n",
    "Once you strip away all the technical knowledge (like rules for equations and whatnot) what you are left with the most simple and elegant of problems:\n",
    "\n",
    "    \"How does one THINK about solving this problem?\"\n",
    "\n",
    "Looking back, I do feel that taking this course did make me a better programmer. And so, if you don't consider yourself great at maths I'd recommend you try to solve that problem for homework (for math majors, its way too trivial to interesting, I suspect). Rest assured you have the math skills necessary, but to solve it may take a little ingenuity and logical thought on your part. \n",
    "\n",
    "For the record, it took me about 20 minutes to prove this statement the first time I tried. If you enjoy this little puzzle, then I'd recommend checking out Devlin's course.\n",
    "\n",
    "## Pep8\n",
    "\n",
    "    URL: https://www.python.org/dev/peps/pep-0008/\n",
    "    \n",
    "Pep8 is the main style guide for Python. If you liked my \"readability\" sections dotted around the place then this ought to be a great read. Its not too long, you can probably get through it in an hour or two.  \n",
    "\n",
    "## Disclaimer\n",
    "\n",
    "I am *NOT* in any way affiliated with any of the websites/services listed here. Everything I have mentioned here is something I have personally used and I am recommending it because I feel it is worth checking out. \n",
    "\n",
    "As a further note, all the courses I have taken above were *free* (e.g. I didn't fork over the cash for the certificate). And so therefore please don’t conflate *\"this course is good\"* with *\"this course it worth the money\"*."
   ]
  },
  {
   "cell_type": "code",
   "execution_count": null,
   "metadata": {
    "collapsed": true
   },
   "outputs": [],
   "source": []
  }
 ],
 "metadata": {
  "kernelspec": {
   "display_name": "Python 3",
   "language": "python",
   "name": "python3"
  },
  "language_info": {
   "codemirror_mode": {
    "name": "ipython",
    "version": 3
   },
   "file_extension": ".py",
   "mimetype": "text/x-python",
   "name": "python",
   "nbconvert_exporter": "python",
   "pygments_lexer": "ipython3",
   "version": "3.6.3"
  }
 },
 "nbformat": 4,
 "nbformat_minor": 2
}
