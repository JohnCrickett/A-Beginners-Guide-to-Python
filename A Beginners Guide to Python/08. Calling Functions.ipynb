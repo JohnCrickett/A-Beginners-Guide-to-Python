{
 "cells": [
  {
   "cell_type": "markdown",
   "metadata": {},
   "source": [
    "# How to Call Functions...\n",
    "\n",
    "\n",
    "### What are functions... \n",
    "\n",
    "Functions are an incredibly useful concept and I will cover them in greater detail later on, I promise. But for now lets just say functions are bits of *self-contained code* that take some input value(s), do some process, and return some output. Today we shall be studying how to call functions, for what its worth you guys have already called functions, you just didn't know that was what you are doing!\n",
    "\n",
    "For the sake of simplicity, we are going to split functions into four basic categories:\n",
    "1. Those that take zero arguments as input.\n",
    "2. Those that take one argument as input.\n",
    "3. Those that take multiple arguments as input.\n",
    "4. Those that take optional arguments.\n",
    "\n",
    "Before we begin though I really want to stress that these categories are ***not real***, its an arbitrary distinction that is not founded upon anything of substance.\n",
    "\n",
    "If that’s the case, why do it, then? I here you ask. Well, just because a distinction is not *real* doesn't mean its not helpful. Basically, the reason I have made these categories is because I believe it makes the material easier to teach; a *pedagogical tool*, if you will.\n",
    "\n",
    "### 1. Zero argument functions....\n",
    "\n",
    "Calling zero argument functions are super simple, but they also tend to be rather uniteresting as well.\n",
    "\n",
    "    The syntax:\n",
    "    {function name} ()\n",
    "    \n",
    "In box below I've quickly made such a function and then calling it. Boring stuff ensues."
   ]
  },
  {
   "cell_type": "code",
   "execution_count": 1,
   "metadata": {},
   "outputs": [
    {
     "data": {
      "text/plain": [
       "'ZZZZZZZZ...'"
      ]
     },
     "execution_count": 1,
     "metadata": {},
     "output_type": "execute_result"
    }
   ],
   "source": [
    "# Defining the function...\n",
    "def boring():\n",
    "    return \"ZZZZZZZZ...\"\n",
    "\n",
    "# calling said function...\n",
    "boring()"
   ]
  },
  {
   "cell_type": "markdown",
   "metadata": {},
   "source": [
    "### 2. One argument functions....\n",
    "\n",
    "    The syntax:\n",
    "    {function name} ({argument})\n",
    "    \n",
    "\"len\" is a Python built-in function. Let's call it on a few strings and see if you can figure out what it does. "
   ]
  },
  {
   "cell_type": "code",
   "execution_count": 12,
   "metadata": {
    "scrolled": true
   },
   "outputs": [
    {
     "name": "stdout",
     "output_type": "stream",
     "text": [
      "1\n",
      "2\n",
      "3\n"
     ]
    }
   ],
   "source": [
    "print ( len(\"a\") )\n",
    "print ( len(\"aa\") )\n",
    "print ( len(\"aaa\") )\n"
   ]
  },
  {
   "cell_type": "markdown",
   "metadata": {},
   "source": [
    "'len' is short for length. When you call it returns how big the object is, in the case of strings, that’s how many characters the string contains (not number of words, or something). \n",
    "\n",
    "### 3. Functions with Multiple Arguments\n",
    "\n",
    "Functions that take multiple  arguments can be further defined into those that require exactly n arguments and those functions that can handle an arbitrary number of arguments. We shall briefly cover both. \n",
    "\n",
    "    The syntax:\n",
    "    {function name} ({argument}, {argument2}) \n",
    "\n",
    "You may remember that in a previous lecture I defined a function called ‘force’. Well, that is an example of a function that takes a fixed number of arguments, to work it needs exactly two numbers. \n",
    "\n",
    "The syntax for a function that takes an arbitary number of arguments is the same as the above, you just seperate the values by a comma and keep on going. \n",
    "\n",
    "As a matter of fact, we have seen such a function several times already. Its called 'print' : "
   ]
  },
  {
   "cell_type": "code",
   "execution_count": 13,
   "metadata": {},
   "outputs": [
    {
     "name": "stdout",
     "output_type": "stream",
     "text": [
      "hello\n",
      "hello world\n",
      "a b c d e f g\n"
     ]
    }
   ],
   "source": [
    "print(\"hello\")                            # calling print with one arguement\n",
    "print(\"hello\", \"world\")                   # two arguments\n",
    "print(\"a\", \"b\", \"c\", \"d\", \"e\", \"f\", \"g\")  # seven arguments"
   ]
  },
  {
   "cell_type": "markdown",
   "metadata": {},
   "source": [
    "### 4. Functions with optional arguments...\n",
    "\n",
    "If a particular function argument is optional is will have two parts, a 'keyword' and a 'default value'. \n",
    "\n",
    "    The syntax:\n",
    "    {keyword} = {value}\n",
    "    \n",
    "The 'default value' is what happens when we *don't* change anything, and obviously that is the bit we may want to change. \n",
    "\n",
    "If you do give a function an optional argument make sure it is **the last** argument you pass the function; if you don't python with throw and error.  \n",
    "\n",
    "    The syntax:\n",
    "    {function name} ({argument}, {argument2}, {keyword} = {value} ) \n",
    "\n",
    "As a matter of fact, the print function we have been calling has an optional argument, this argument is called \"sep\" and its default value is a single 'space character. \n",
    "\n",
    "Lets look at the print calls above a bit more closely, did you notice that when we gave print several arguments it separated everything with a space? Well, we can change that behaviour by changing 'sep'. \n",
    "\n",
    "For example..."
   ]
  },
  {
   "cell_type": "code",
   "execution_count": 14,
   "metadata": {},
   "outputs": [
    {
     "name": "stdout",
     "output_type": "stream",
     "text": [
      "abcdefg\n",
      "a ? b ? c ? d ? e ? f ? g\n",
      "aBATMANbBATMANcBATMANdBATMANeBATMANfBATMANg\n",
      "a\n",
      "b\n",
      "c\n",
      "d\n",
      "e\n",
      "f\n",
      "g\n"
     ]
    }
   ],
   "source": [
    "print(\"a\", \"b\", \"c\", \"d\", \"e\", \"f\", \"g\", sep=\"\")        # no spaces \n",
    "print(\"a\", \"b\", \"c\", \"d\", \"e\", \"f\", \"g\", sep=\" ? \")     # spaces with question mark\n",
    "print(\"a\", \"b\", \"c\", \"d\", \"e\", \"f\", \"g\", sep=\"BATMAN\")  # BATMAN!\n",
    "print(\"a\", \"b\", \"c\", \"d\", \"e\", \"f\", \"g\", sep=\"\\n\")      # New-line,  please see string lecture!"
   ]
  },
  {
   "cell_type": "code",
   "execution_count": 15,
   "metadata": {},
   "outputs": [
    {
     "ename": "SyntaxError",
     "evalue": "positional argument follows keyword argument (<ipython-input-15-6e9cd52157f2>, line 1)",
     "output_type": "error",
     "traceback": [
      "\u001b[0;36m  File \u001b[0;32m\"<ipython-input-15-6e9cd52157f2>\"\u001b[0;36m, line \u001b[0;32m1\u001b[0m\n\u001b[0;31m    print(sep=\"\", \"a\", \"b\", \"c\") # Keywords must be at the end!\u001b[0m\n\u001b[0m                 ^\u001b[0m\n\u001b[0;31mSyntaxError\u001b[0m\u001b[0;31m:\u001b[0m positional argument follows keyword argument\n"
     ]
    }
   ],
   "source": [
    "print(sep=\"\", \"a\", \"b\", \"c\") # Keywords must be at the end! "
   ]
  },
  {
   "cell_type": "markdown",
   "metadata": {},
   "source": [
    "Alright that'll do for now. "
   ]
  }
 ],
 "metadata": {
  "kernelspec": {
   "display_name": "Python 3",
   "language": "python",
   "name": "python3"
  },
  "language_info": {
   "codemirror_mode": {
    "name": "ipython",
    "version": 3
   },
   "file_extension": ".py",
   "mimetype": "text/x-python",
   "name": "python",
   "nbconvert_exporter": "python",
   "pygments_lexer": "ipython3",
   "version": "3.5.2"
  }
 },
 "nbformat": 4,
 "nbformat_minor": 2
}
