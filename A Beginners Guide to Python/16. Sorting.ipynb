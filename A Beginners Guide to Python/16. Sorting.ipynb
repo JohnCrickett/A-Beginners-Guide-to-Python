{
 "cells": [
  {
   "cell_type": "markdown",
   "metadata": {},
   "source": [
    "# Sorting\n",
    "\n",
    "The sort method takes a list and shuffles the data around such that the list is sorted into some order. The sort method has two optional arguments, reverse (which can take the value True or False) and key (which requires a function).\n",
    "\n",
    "By default, Python sorts from smallest-to-largest value, but obviously if you set reverse=True the returned list will be ordered largest-to-smallest.\n",
    " \n",
    "Let’s start with a simple example involving numbers:"
   ]
  },
  {
   "cell_type": "code",
   "execution_count": 1,
   "metadata": {},
   "outputs": [
    {
     "name": "stdout",
     "output_type": "stream",
     "text": [
      "shuffled list:     [10, 15, 6, 12, 11, 5, 3, 4, 9, 13, 7, 8, 1, 14, 2]\n",
      "sorted list:       [1, 2, 3, 4, 5, 6, 7, 8, 9, 10, 11, 12, 13, 14, 15]\n",
      "sorted (reverse):  [15, 14, 13, 12, 11, 10, 9, 8, 7, 6, 5, 4, 3, 2, 1]\n"
     ]
    }
   ],
   "source": [
    "import random\n",
    "list_1 = list(range(1, 16))   # creates a list 1...15\n",
    "\n",
    "random.shuffle(list_1)     # shuffles the list \n",
    "print( \"shuffled list:    \", list_1)\n",
    "\n",
    "list_1.sort()\n",
    "print(\"sorted list:      \", list_1)\n",
    "\n",
    "list_1.sort(reverse= True)\n",
    "print(\"sorted (reverse): \", list_1)"
   ]
  },
  {
   "cell_type": "markdown",
   "metadata": {},
   "source": [
    "Sorting can get a bit more tricky when dealing with different data types, for example, how do you sort a list of strings? or a list of lists? Well, Python will have a default behaviour in each case, and if you ever need to know I'd recommend google.\n",
    "\n",
    "As a quick word of caution, I'd be careful about sorting lists containing multiple data types. The logic being your code is more likely to throw errors. Far worse still, instead of errors your data may just end up being junk!\n",
    "\n",
    "Simple example:"
   ]
  },
  {
   "cell_type": "code",
   "execution_count": 2,
   "metadata": {},
   "outputs": [
    {
     "name": "stdout",
     "output_type": "stream",
     "text": [
      "[-4, -3, -2, False, True, 2, 3, 4]\n"
     ]
    }
   ],
   "source": [
    "our_list = [True, False, -4, -3, -2, 2, 3, 4]\n",
    "our_list.sort()\n",
    "print(our_list)"
   ]
  },
  {
   "cell_type": "markdown",
   "metadata": {},
   "source": [
    "In this case, we have a list containing booleans (more on those later) and integers. \n",
    "Before we even start to question what Python is doing it might be worth asking ourselves the following question:\n",
    "> “How would we sort a list like this?”\n",
    "\n",
    "Does it really make sense to sort by size and then shove True, False in the middle? A more 'human' approach might be to sort by type and then by size.\n",
    "    \n",
    "    [False, True, -4, -3, -2, 2, 3, 4]\n",
    "    \n",
    "In any case, I can explain to you Pythons weird look decision to put True, False right in the smack of the list by spending a few moments explaining that Booleans (i.e. True/False) are ‘special’ in Python. As a matter of fact, True is just the number 1 and False is just the number 0. Here, let me show you:"
   ]
  },
  {
   "cell_type": "code",
   "execution_count": 8,
   "metadata": {},
   "outputs": [
    {
     "name": "stdout",
     "output_type": "stream",
     "text": [
      "3\n",
      "21\n",
      "0\n"
     ]
    }
   ],
   "source": [
    "print(True + True + True)   # 1 + 1 + 1 = 3\n",
    "print(True + 20)            # 1 + 20  = 21\n",
    "print((True + 20) * False)  # (20 + 1) * 0 = 0"
   ]
  },
  {
   "cell_type": "markdown",
   "metadata": {},
   "source": [
    "Once you understand that True/False are actually numbers in Python (specifically 1 and 0) its easy to understand why the sort function put these two values smack centre in our list of numbers.\n",
    "\n",
    "So yeah, to protect yourself against \"junk\" output you have to really careful about what you are doing; a good question to ask yourself is: \n",
    "\n",
    ">\"Does this task I'm asking of Python even make sense?\" \n",
    "\n",
    "Alright, before wrapping up this section on sorting lets checkout the optional argument 'key'. Basically, the sort function, when given this optional argument will sort the data according to the specified key. Its probably easiest if I just show you..."
   ]
  },
  {
   "cell_type": "code",
   "execution_count": 16,
   "metadata": {},
   "outputs": [
    {
     "name": "stdout",
     "output_type": "stream",
     "text": [
      "Default sort (small to large)...\n",
      "[0, 0, 1, 1, 1, 1, 1, 1, 2, 3, 3, 4, 5, 8, 8, 8, 9, 33, 33, 40, 50, 55, 55, 55, 55, 98, 40000, 324343434]\n",
      "\n",
      "Sort by 'count' (i.e. how many times each number occurs)...\n",
      "[9, 2, 4, 5, 324343434, 40000, 50, 40, 98, 0, 0, 3, 3, 33, 33, 8, 8, 8, 55, 55, 55, 55, 1, 1, 1, 1, 1, 1]\n",
      "\n",
      "Sort by 'number of digits'...\n",
      "[8, 8, 8, 0, 0, 9, 1, 2, 3, 4, 5, 1, 1, 1, 1, 1, 3, 55, 55, 55, 55, 50, 40, 33, 33, 98, 40000, 324343434]\n"
     ]
    }
   ],
   "source": [
    "the_list = [8, 8, 8, 0, 0, 9, 1, 2, 3, 4, 5, 55, 55, 55, 55, 324343434, 40000, 50, 40, 1, 1, 1, 1, 1, 3, 33, 33, 98]\n",
    "\n",
    "by_default    = sorted(the_list)\n",
    "by_count      = sorted(the_list, key= lambda x: the_list.count(x)) # Lambda is explained below!\n",
    "by_digits_num = sorted(the_list, key= lambda x: len(str(x)))\n",
    "\n",
    "\n",
    "print(\"Default sort (small to large)...\", by_default,  \n",
    "      \"\\nSort by 'count' (i.e. how many times each number occurs)...\", by_count,\n",
    "      \"\\nSort by 'number of digits'...\", by_digits_num, sep=\"\\n\")"
   ]
  },
  {
   "cell_type": "markdown",
   "metadata": {},
   "source": [
    "So, you may notice that the 'sort by n digits' list only checks how many digits are in a number and doesn't sort beyond that. In other words, because the sort puts all the one digit numbers e.g before the two digit numbers but the numbers are not in any order beyond that (e.g one digit numbers are NOT sorted from smallest-to-largest)."
   ]
  },
  {
   "cell_type": "markdown",
   "metadata": {},
   "source": [
    "## Lambda functions \n",
    "\n",
    "There is nothing particularly special about lambda functions, all the are is another way to build a function. But, lambda's are mainly used when you are trying to create a simple function quickly. \n",
    "\n",
    "    is_zero = lambda x: x == 0\n",
    "    add = lambda x, y: x + y\n",
    "\n",
    "The first lambda function above is simply asking if x is equal to zero. In the syntax you are more familiar with it would be written like this:\n",
    "\n",
    "    def is_zero(x):\n",
    "        return x == 0\n",
    "\n",
    "similarly the second lambda adds x to y. In 'normal' syntax:\n",
    "\n",
    "    def add(x, y):\n",
    "        return x + y"
   ]
  }
 ],
 "metadata": {
  "kernelspec": {
   "display_name": "Python 3",
   "language": "python",
   "name": "python3"
  },
  "language_info": {
   "codemirror_mode": {
    "name": "ipython",
    "version": 3
   },
   "file_extension": ".py",
   "mimetype": "text/x-python",
   "name": "python",
   "nbconvert_exporter": "python",
   "pygments_lexer": "ipython3",
   "version": "3.6.3"
  }
 },
 "nbformat": 4,
 "nbformat_minor": 2
}
