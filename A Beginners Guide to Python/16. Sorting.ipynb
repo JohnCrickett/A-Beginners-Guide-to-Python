{
 "cells": [
  {
   "cell_type": "markdown",
   "metadata": {},
   "source": [
    "# Sorting\n",
    "\n",
    "The sort method takes a list and shuffles the data around such that the list is sorted into some order. The sort method has two optional arguments, reverse (which can take the value True or False) and key (which requires a function).\n",
    "By default, Python sorts from smallest-to-largest value, but obviously if you set reverse=True the returned list will be ordered largest-to-smallest.\n",
    "\n",
    "Lets start with a simple example involving numbers:"
   ]
  },
  {
   "cell_type": "code",
   "execution_count": 6,
   "metadata": {},
   "outputs": [
    {
     "name": "stdout",
     "output_type": "stream",
     "text": [
      "shuffled list:     [6, 4, 5, 2, 13, 9, 7, 1, 15, 11, 10, 12, 3, 8, 14]\n",
      "sorted list:       [1, 2, 3, 4, 5, 6, 7, 8, 9, 10, 11, 12, 13, 14, 15]\n",
      "sorted (reverse):  [15, 14, 13, 12, 11, 10, 9, 8, 7, 6, 5, 4, 3, 2, 1]\n"
     ]
    }
   ],
   "source": [
    "import random\n",
    "list_1 = list(range(1, 16))   # creates a list 1...15\n",
    "\n",
    "random.shuffle(list_1)     # shuffles the list \n",
    "print( \"shuffled list:    \", list_1)\n",
    "\n",
    "list_1.sort()\n",
    "print(\"sorted list:      \", list_1)\n",
    "\n",
    "list_1.sort(reverse= True)\n",
    "print(\"sorted (reverse): \", list_1)"
   ]
  },
  {
   "cell_type": "markdown",
   "metadata": {},
   "source": [
    "Sorting can get a bit more tricky when dealing with different data types, for example, how do you sort a list of strings? or a list of lists? Well, Python will have a default behaviour in each case, and if you ever need to know I'd recommend google.\n",
    "\n",
    "As a quick word of caution, I'd be careful about sorting lists containing multiple data types. The logic being your code is more likely to throw errors. Far worse still, instead of errors your data may just end up being junk!\n",
    "Simple example:"
   ]
  },
  {
   "cell_type": "code",
   "execution_count": 7,
   "metadata": {},
   "outputs": [
    {
     "name": "stdout",
     "output_type": "stream",
     "text": [
      "[-4, -3, -2, False, True, 2, 3, 4]\n"
     ]
    }
   ],
   "source": [
    "our_list = [True, False, -4, -3, -2, 2, 3, 4]\n",
    "our_list.sort()\n",
    "print(our_list)"
   ]
  },
  {
   "cell_type": "markdown",
   "metadata": {},
   "source": [
    "In this case, we have a list containing booleans (more on those later) and integers. \n",
    "Before we even start to question what Python is doing it might be worth asking ourselves the following question:\n",
    "> “How would we sort a list like this?”\n",
    "\n",
    "Does it really make sense to sort by size and then shove True, False in the middle? A more 'human' approach might be to sort by type and then by size.\n",
    "    \n",
    "    [False, True, -4, -3, -2, 2, 3, 4]\n",
    "    \n",
    "In any case, I can explain to you Pythons weird look decision to put True, False right in the smack of the list by spending a few moments explaining that Booleans (i.e. True/False) are ‘special’ in Python. As a matter of fact, True is just the number 1 and False is just the number 0. Here, let me show you:"
   ]
  },
  {
   "cell_type": "code",
   "execution_count": 8,
   "metadata": {},
   "outputs": [
    {
     "name": "stdout",
     "output_type": "stream",
     "text": [
      "3\n",
      "21\n",
      "0\n"
     ]
    }
   ],
   "source": [
    "print(True + True + True)   # 1 + 1 + 1 = 3\n",
    "print(True + 20)            # 1 + 20  = 21\n",
    "print((True + 20) * False)  # (20 + 1) * 0 = 0"
   ]
  },
  {
   "cell_type": "markdown",
   "metadata": {},
   "source": [
    "Once you understand that True/False are actually numbers in Python (specifically 1 and 0) its easy to understand why the sort function put these two values smack centre in our list of numbers.\n",
    "\n",
    "So yeah, to protect yourself against \"junk\" output you have to really careful about what you are doing; a good question to ask yourself is: \n",
    ">\"Does this task I'm asking of Python even make sense?\" \n",
    "\n",
    "Alright, before wrapping up this section on sorting lets checkout the optional argument 'key'. Basically, the sort function, when given this optional argument will sort the data according to the specified key. Its probably easiest if I just show you..."
   ]
  },
  {
   "cell_type": "code",
   "execution_count": 9,
   "metadata": {},
   "outputs": [
    {
     "name": "stdout",
     "output_type": "stream",
     "text": [
      "Default sort (small to large)...\n",
      "[0, 1, 1, 1, 2, 2, 3, 4, 5, 7, 10, 15, 23, 23, 32, 71, 73, 90, 90, 90, 90, 92, 100, 139, 666, 999, 3232]\n",
      "\n",
      "Sort by 'count' (i.e. how many times each number occurs)...\n",
      "[0, 139, 71, 73, 100, 10, 92, 666, 999, 5, 3232, 32, 15, 3, 4, 7, 23, 23, 2, 2, 1, 1, 1, 90, 90, 90, 90]\n",
      "\n",
      "Sort by 'if divisible by 10'...\n",
      "[139, 71, 73, 1, 92, 666, 999, 5, 3232, 23, 32, 15, 3, 4, 7, 23, 2, 1, 2, 1, 0, 100, 10, 90, 90, 90, 90]\n",
      "\n",
      "Sort by 'if even number'...\n",
      "[139, 71, 73, 1, 999, 5, 23, 15, 3, 7, 23, 1, 1, 0, 100, 10, 90, 90, 92, 90, 666, 3232, 90, 32, 4, 2, 2]\n",
      "\n",
      "Sort by 'if prime'...\n",
      "[0, 100, 1, 10, 90, 90, 92, 90, 666, 999, 3232, 90, 32, 15, 4, 1, 1, 139, 71, 73, 5, 23, 3, 7, 23, 2, 2]\n"
     ]
    }
   ],
   "source": [
    "the_list = [0, 139, 71, 73, 100, 1, 10, 90, 90, 92, 90, 666, 999, 5, 3232, 90, 23, 32, 15, 3, 4, 7, 23, 2, 1, 2, 1]\n",
    "\n",
    "by_default   = sorted(the_list)\n",
    "by_count     = sorted(the_list, key= lambda x: the_list.count(x))\n",
    "by_divide_10 = sorted(the_list, key= lambda x: x % 10 == 0)\n",
    "by_is_even   = sorted(the_list, key= lambda x: x % 2  == 0)\n",
    "\n",
    "# And now to sort by whether the number is a prime, or not...\n",
    "# Step 1, define our function (this will be given to key)\n",
    "def is_prime(num):\n",
    "    \"\"\"Returns True if number is prime, False otherwise\"\"\"\n",
    "    if num > 1:    # negetive numbers are not prime\n",
    "    # check for factors\n",
    "        for i in range(2,num): # for loop that iterates 2-to-num. Each number in the iteration is called \"i\"\n",
    "            if (num % i) == 0: # modular arithmetic; this asks if num is divisible by i (with no remainder).\n",
    "                return False\n",
    "        # If we have iterated through every number upto num without finding a divisor it must be prime.\n",
    "        return True\n",
    "    else:\n",
    "        return False\n",
    "\n",
    "# Step 2 use 'is_prime' as our sort key.\n",
    "by_is_prime  = sorted(the_list, key= is_prime)\n",
    "\n",
    "# Printing results... \n",
    "# Note the statement continues over several lines rather than one super long line of code.\n",
    "# Why? Cuz readibility counts!\n",
    "print(\"Default sort (small to large)...\", by_default,  \n",
    "      \"\\nSort by 'count' (i.e. how many times each number occurs)...\", by_count,\n",
    "      \"\\nSort by 'if divisible by 10'...\", by_divide_10, \n",
    "      \"\\nSort by 'if even number'...\", by_is_even, \"\\nSort by 'if prime'...\", by_is_prime, sep=\"\\n\")"
   ]
  },
  {
   "cell_type": "markdown",
   "metadata": {},
   "source": [
    "Okay, so the above has a lot of stuff to take in. I wont cover lambda functions in this lecture series but basically they are a convienant way to make 'throwaway' functions quickly and in a short amount of space.\n",
    "\n",
    "> lambda x: x % 10 == 0\n",
    "\n",
    "This may look complex but at heart all it says is:\n",
    "\n",
    "* Take any number (we shall call it 'x')\n",
    "* if x modulo 10 is 0, return True.\n",
    "* If not, return False. \n",
    "\n",
    "Notice that these sorts are True/False, for example, the 'is_prime sort' puts all the True values next to each other and all the False values next to each other, But this sort makes no further attempts to further sort the data (e.g. by size).\n",
    "\n",
    "You may have also noticed that I called sorted({list}) in these examples whereas above I called {list}.sort(). What if the difference? Well, the sort method **CHANGES the list**, whereas sorted(list) makes a **NEW list**. Another key difference is that sorted is not a list method and as such can be called on other data types, such as strings."
   ]
  },
  {
   "cell_type": "code",
   "execution_count": 10,
   "metadata": {},
   "outputs": [
    {
     "name": "stdout",
     "output_type": "stream",
     "text": [
      "['a', 'b', 'c', 'd', 'e', 'f', 'g', 'h', 'i', 'j', 'k', 'l', 'm', 'n', 'o', 'p', 'q', 'r', 's', 't', 'u', 'v', 'w', 'x', 'y', 'z']\n"
     ]
    }
   ],
   "source": [
    "print(sorted(\"zyxwvutsrqponmlkjihgfedcba\"))  # Alphabet backwards..."
   ]
  }
 ],
 "metadata": {
  "kernelspec": {
   "display_name": "Python 3",
   "language": "python",
   "name": "python3"
  },
  "language_info": {
   "codemirror_mode": {
    "name": "ipython",
    "version": 3
   },
   "file_extension": ".py",
   "mimetype": "text/x-python",
   "name": "python",
   "nbconvert_exporter": "python",
   "pygments_lexer": "ipython3",
   "version": "3.5.2"
  }
 },
 "nbformat": 4,
 "nbformat_minor": 2
}
