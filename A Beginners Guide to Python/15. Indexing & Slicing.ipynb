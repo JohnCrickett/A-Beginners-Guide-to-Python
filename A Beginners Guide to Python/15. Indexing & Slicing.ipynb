{
 "cells": [
  {
   "cell_type": "markdown",
   "metadata": {},
   "source": [
    "# Indexing\n",
    "\n",
    "Okay guys today's lecture is indexing. \n",
    "\n",
    "> What is indexing?\n",
    "\n",
    "At heart, indexing is the ability to inspect a value inside a object. So basically if we have a list, X, of 100 items and  our index is 'i' then 'i of X' returns the *ith value* inside the list (p.s. we can index strings too).\n",
    "\n",
    "Okay, so what is the Syntax for this? Glad you asked:\n",
    "\n",
    "    The Syntax:\n",
    "    {variable} [{integer}]\n",
    "\n",
    "So if we wanted to index into something called \"a_string\" in code it would look something like:\n",
    "\n",
    "    a_string[integer]\n",
    "\n",
    "Now, the integer in question cannot be any number from -infinity to +infinity. Rather, it is bounded by the size of the variable. For example, if the size of the variable is 5 that means our integer has to be in the range -5 to 4. Or more generally:\n",
    "\n",
    "    Index Range :: \n",
    "    Lower Bound = -len(variable)\n",
    "    Upper Bound =  len(variable) - 1 \n",
    "    Anything outside this range = IndexError\n",
    "    \n",
    "Just as a quick explanation, len() is a built-in command that gets the size of the object and adding a \"-\" sign infront of an integer 'flips' its sign:"
   ]
  },
  {
   "cell_type": "code",
   "execution_count": 1,
   "metadata": {},
   "outputs": [
    {
     "name": "stdout",
     "output_type": "stream",
     "text": [
      "-5 5\n"
     ]
    }
   ],
   "source": [
    "# flipping signs of numbers...\n",
    "a = 5\n",
    "b = -5\n",
    "print(-a, -b)"
   ]
  },
  {
   "cell_type": "code",
   "execution_count": 2,
   "metadata": {},
   "outputs": [
    {
     "name": "stdout",
     "output_type": "stream",
     "text": [
      "0 2 3\n"
     ]
    },
    {
     "ename": "IndexError",
     "evalue": "list index out of range",
     "output_type": "error",
     "traceback": [
      "\u001b[1;31m---------------------------------------------------------------------------\u001b[0m",
      "\u001b[1;31mIndexError\u001b[0m                                Traceback (most recent call last)",
      "\u001b[1;32m<ipython-input-2-6591fa29491f>\u001b[0m in \u001b[0;36m<module>\u001b[1;34m()\u001b[0m\n\u001b[0;32m      6\u001b[0m \u001b[1;33m\u001b[0m\u001b[0m\n\u001b[0;32m      7\u001b[0m \u001b[0mx\u001b[0m \u001b[1;33m=\u001b[0m \u001b[1;33m[\u001b[0m\u001b[1;36m1\u001b[0m\u001b[1;33m,\u001b[0m\u001b[1;36m2\u001b[0m\u001b[1;33m,\u001b[0m\u001b[1;36m3\u001b[0m\u001b[1;33m]\u001b[0m\u001b[1;33m\u001b[0m\u001b[0m\n\u001b[1;32m----> 8\u001b[1;33m \u001b[0mprint\u001b[0m\u001b[1;33m(\u001b[0m\u001b[0mx\u001b[0m\u001b[1;33m[\u001b[0m\u001b[1;36m100\u001b[0m\u001b[1;33m]\u001b[0m\u001b[1;33m)\u001b[0m \u001b[1;31m# <--- IndexError!  100 is waayyy out of bounds\u001b[0m\u001b[1;33m\u001b[0m\u001b[0m\n\u001b[0m",
      "\u001b[1;31mIndexError\u001b[0m: list index out of range"
     ]
    }
   ],
   "source": [
    "# len function\n",
    "x1 = []\n",
    "x2 = \"12\"\n",
    "x3 = [1,2,3]\n",
    "print(len(x1), len(x2), len(x3))\n",
    "\n",
    "x = [1,2,3]\n",
    "print(x[100]) # <--- IndexError!  100 is waayyy out of bounds"
   ]
  },
  {
   "attachments": {
    "IndexPic.png": {
     "image/png": "[encoded data removed]"
    }
   },
   "cell_type": "markdown",
   "metadata": {},
   "source": [
    "Now, those bounds I have just given might sound a bit arbitrary, but actually I can explain exactly how they work. Consider the following picture:\n",
    "\n",
    "![IndexPic.png](attachment:IndexPic.png)\n",
    "\n",
    "So in this picture we have the string ‘hello’. The two rows of numbers represent the indexes of this string. In Python we start counting from 0 which means the first item in a list/string always has an index of 0. And since we start counting at zero then that means the last item in the list/string is len(item)-1 like so:"
   ]
  },
  {
   "cell_type": "code",
   "execution_count": 3,
   "metadata": {},
   "outputs": [
    {
     "name": "stdout",
     "output_type": "stream",
     "text": [
      "h\n",
      "o\n"
     ]
    }
   ],
   "source": [
    "string = \"hello\"\n",
    "print(string[0])               # first item\n",
    "print(string[len(string)-1])   # last item"
   ]
  },
  {
   "cell_type": "markdown",
   "metadata": {},
   "source": [
    "So that explains the first row of numbers in the image. What about the second row? Well, in Python not only can you index forwards you can also index backwards.\n",
    "\n",
    "## Readabily counts...\n",
    "\n",
    "So basically index [0] will always be the start of the list/string and an index of [-1] will always be the end. If you wanted the middle \"l\" in \"hello\" have the choice to index at [2] or at [-3]. **And, as a general rule, if code ends up being equivalent your choice should be to go with whatever is more readable.**\n",
    "\n",
    "> There should be one-- and preferably only one --obvious way to do it. ~ Zen of Python\n",
    "\n",
    "For example:   "
   ]
  },
  {
   "cell_type": "code",
   "execution_count": null,
   "metadata": {
    "collapsed": true
   },
   "outputs": [],
   "source": [
    "a_string = \"Hello\"\n",
    "# indexing first item...\n",
    "print(a_string[0])                 # Readable\n",
    "print(a_string[-len(a_string)])    # Less readable\n",
    "\n",
    "print(a_string[-1])                # Readable\n",
    "print(a_string[len(a_string)-1])   # Less readable\n",
    "print(a_string[4])                 # Avoid this whereever possible! BAD BAD BAD!!"
   ]
  },
  {
   "cell_type": "markdown",
   "metadata": {},
   "source": [
    "You might wonder what is wrong with index[4] to reference the end of the list. Well this is totally fine if you are iterating through a for-loop or something (more on those later) but if you ever \"hard-code\" this I have to ask why.\n",
    "\n",
    "The problem with using index[4] instead of [-1] is that the former way of doing things is considerably less readable. Without actually checking the length of the input the meaning of index[4] is somewhat ambiguous; is this the end? Near the beginning/middle? Meanwhile [-1] **always** refers to the end regardless of input size, and so therefore its meaning is always clear **even when** we don’t know the size of the input.\n",
    "\n",
    "Index[len(a_string)-1] meanwhile always refers to the end of the list but it is considerably more verbose and less readable than the simple [-1]."
   ]
  },
  {
   "cell_type": "markdown",
   "metadata": {
    "collapsed": true
   },
   "source": [
    "## The Index Method\n",
    "\n",
    "The string class AND the list class both have an index method, and now that we have just covered indexing we are in a position to understand its output.\n",
    "\n",
    "Basically, we ask if an item is in a string/list. And if it is, the method returns an index for that item. For example:"
   ]
  },
  {
   "cell_type": "code",
   "execution_count": 1,
   "metadata": {},
   "outputs": [
    {
     "name": "stdout",
     "output_type": "stream",
     "text": [
      "0\n",
      "2\n"
     ]
    },
    {
     "ename": "ValueError",
     "evalue": "'chris' is not in list",
     "output_type": "error",
     "traceback": [
      "\u001b[0;31m---------------------------------------------------------------------------\u001b[0m",
      "\u001b[0;31mValueError\u001b[0m                                Traceback (most recent call last)",
      "\u001b[0;32m<ipython-input-1-aaa3f75df76e>\u001b[0m in \u001b[0;36m<module>\u001b[0;34m()\u001b[0m\n\u001b[1;32m      7\u001b[0m \u001b[0;34m\u001b[0m\u001b[0m\n\u001b[1;32m      8\u001b[0m \u001b[0;31m# if item is not in the list, you get an value error:\u001b[0m\u001b[0;34m\u001b[0m\u001b[0;34m\u001b[0m\u001b[0m\n\u001b[0;32m----> 9\u001b[0;31m \u001b[0mprint\u001b[0m\u001b[0;34m(\u001b[0m\u001b[0ma_list\u001b[0m\u001b[0;34m.\u001b[0m\u001b[0mindex\u001b[0m\u001b[0;34m(\u001b[0m\u001b[0;34m\"chris\"\u001b[0m\u001b[0;34m)\u001b[0m\u001b[0;34m)\u001b[0m\u001b[0;34m\u001b[0m\u001b[0m\n\u001b[0m",
      "\u001b[0;31mValueError\u001b[0m: 'chris' is not in list"
     ]
    }
   ],
   "source": [
    "a_list = [\"qwerty\", \"dave\", \"magic johnson\", \"qwerty\"]\n",
    "a_string = \"Helllllllo how ya doin fam?\"\n",
    "\n",
    "# notice that Python returns the index of the first match.\n",
    "print(a_list.index(\"qwerty\"))\n",
    "print(a_string.index(\"l\"))\n",
    "\n",
    "# if item is not in the list, you get an value error:\n",
    "print(a_list.index(\"chris\"))"
   ]
  },
  {
   "cell_type": "markdown",
   "metadata": {},
   "source": [
    "## What can we do with indexing?\n",
    "\n",
    "Obviously we can do a lot with indexing, in the cases of lists, for example, we change the value of the list at position ‘i’. Its simple to do that:"
   ]
  },
  {
   "cell_type": "code",
   "execution_count": 4,
   "metadata": {},
   "outputs": [
    {
     "name": "stdout",
     "output_type": "stream",
     "text": [
      "[1, 2, 3]\n",
      "[1, 2, 'a']\n",
      "['c', 2, 'a']\n",
      "['c', 'b', 'a']\n"
     ]
    },
    {
     "ename": "TypeError",
     "evalue": "'str' object does not support item assignment",
     "output_type": "error",
     "traceback": [
      "\u001b[1;31m---------------------------------------------------------------------------\u001b[0m",
      "\u001b[1;31mTypeError\u001b[0m                                 Traceback (most recent call last)",
      "\u001b[1;32m<ipython-input-4-eb95a49cea50>\u001b[0m in \u001b[0;36m<module>\u001b[1;34m()\u001b[0m\n\u001b[0;32m     10\u001b[0m \u001b[1;31m# NOTE!! this does NOT work with strings:\u001b[0m\u001b[1;33m\u001b[0m\u001b[1;33m\u001b[0m\u001b[0m\n\u001b[0;32m     11\u001b[0m \u001b[0ma_string\u001b[0m \u001b[1;33m=\u001b[0m \u001b[1;34m\"123\"\u001b[0m\u001b[1;33m\u001b[0m\u001b[0m\n\u001b[1;32m---> 12\u001b[1;33m \u001b[0ma_string\u001b[0m\u001b[1;33m[\u001b[0m\u001b[1;36m0\u001b[0m\u001b[1;33m]\u001b[0m \u001b[1;33m=\u001b[0m \u001b[1;34m\"a\"\u001b[0m   \u001b[1;31m# <-- Error; strings are an \"immutable\" data type in Python.\u001b[0m\u001b[1;33m\u001b[0m\u001b[0m\n\u001b[0m",
      "\u001b[1;31mTypeError\u001b[0m: 'str' object does not support item assignment"
     ]
    }
   ],
   "source": [
    "a_list = [1,2,3]\n",
    "print(a_list)\n",
    "a_list[-1] = \"a\"\n",
    "print(a_list)\n",
    "a_list[0] = \"c\"\n",
    "print(a_list)\n",
    "a_list[1] = \"b\"\n",
    "print(a_list)\n",
    "\n",
    "# NOTE!! this does NOT work with strings:\n",
    "a_string = \"123\"\n",
    "a_string[0] = \"a\"   # <-- Error; strings are an \"immutable\" data type in Python."
   ]
  },
  {
   "cell_type": "markdown",
   "metadata": {},
   "source": [
    "## Making Grids\n",
    "\n",
    "> \"Flat is better than nested\". ~ Zen of Python\n",
    "\n",
    "Talking of lists, remember that we can go all \"inception-like\" with lists and shove lists inside lists inside lists. How can we index a beast like that? Well, with difficulty..."
   ]
  },
  {
   "cell_type": "code",
   "execution_count": null,
   "metadata": {
    "collapsed": true
   },
   "outputs": [],
   "source": [
    "this_is_insane = [ [[[[[[[[[[[[100]]]]]]]]]]]] ]   # WTF !!??\n",
    "\n",
    "print(this_is_insane[0][0][0][0][0][0][0][0][0][0][0][0][0])"
   ]
  },
  {
   "cell_type": "markdown",
   "metadata": {},
   "source": [
    "To index a list inside a list the syntax is to add another [{integer}] on the end. Repeat until you get to the required depth. \n",
    "    \n",
    "    The Syntax\n",
    "    list[{integer}][{integer}]\n",
    "    \n",
    "In the case of the above the value 100 was nested inside so many lists that it took a lot of effort to tease it out.  Structures like this are hard to work with, which is why the usual advice is to 'flatten' your lists wherever possible.\n",
    "\n",
    "With this said, nested structures are not all bad. A really common way of representing a grid in Python is to use nested lists. In which case, we can index any square we want by first indexing the 'row' and then the 'column'. Like so:\n",
    "\n",
    "    grid[row][column]\n",
    "\n",
    "If you ever want to build simple board games (chess, connect 4, etc) you might find the representation useful. In code:"
   ]
  },
  {
   "cell_type": "code",
   "execution_count": 5,
   "metadata": {},
   "outputs": [
    {
     "name": "stdout",
     "output_type": "stream",
     "text": [
      "The Grid looks like this...: [['0', '0', '0', '0', '0'], ['0', '0', '0', '0', '0'], ['0', '0', '0', '0', '0']] \n",
      "\n",
      "['0', '0', '0', '0', '0']\n",
      "['0', '0', '0', '0', '0']\n",
      "['0', '0', '0', '0', '0']\n",
      "['0', '0', '0', '0', '0']\n",
      "['0', '0', '0', '0', '0']\n",
      "\n",
      "\n",
      "['X', '0', '0', '0', 'Y']\n",
      "['0', '0', '0', '0', '0']\n",
      "['0', '0', 'A', '0', '0']\n",
      "['0', '0', '0', '0', '0']\n",
      "['W', '0', '0', '0', 'Z']\n"
     ]
    }
   ],
   "source": [
    "grid = [ [\"0\"] * 5 for _ in range(5) ]  # building a nested list, in style. 'List Comprehensions' are not covered in this course.\n",
    "\n",
    "print(\"The Grid looks like this...:\", grid[2:], \"\\n\")  \n",
    "# Note: \"grid[2:]\" above is a 'slice' (more on slicing below), in this case I'm using slicing to truncate the results,\n",
    "# observe that three lists get printed, not five. \n",
    "\n",
    "def print_grid():\n",
    "    \"\"\"This function simply prints grid, row by row.\"\"\"\n",
    "    for row in grid: # This is a for-loop, more on these later!\n",
    "        print(row)\n",
    "\n",
    "print_grid()\n",
    "print(\"\\n\")\n",
    "grid[0][0]     = \"X\" # Top-left corner\n",
    "grid[0][-1]    = \"Y\" # Top-right corner\n",
    "grid[-1][0]    = \"W\" # Bottom-left corner   \n",
    "grid[-1][-1]   = \"Z\" # Bottom-right corner\n",
    "grid[2][2]     = \"A\" # Somewhere near the middle\n",
    "print_grid()\n",
    "\n",
    "# Quick note, since the corners index are defined by 0 and -1, these numbers should work for all nxn grids. "
   ]
  },
  {
   "cell_type": "markdown",
   "metadata": {},
   "source": [
    "Anyway, thats enough about indexing for now, let's move onto the topic of slicing...\n",
    "\n",
    "## Slicing\n",
    " \n",
    "What is slicing? Well it is a bit like indexing, only instead of returning point 'X' we return all the values between the points (x, y). Just as with indexing, you can slice strings as well as lists.\n",
    "\n",
    "Note: start points are *inclusive* and endpoints are *exclusive*. \n",
    "    \n",
    "    The Syntax:\n",
    "    {variable} [{start} : {end} : {step}] \n",
    "    * Where start, end and step are all integer values. \n",
    "    \n",
    "It is also worth noting that each of start, end and step are optional arguments, when nothing is given they default to the start of the list, end of the list and the default step is 1.\n",
    " \n",
    "If you give start/step an integer Python will treat that number as an index. Thus, a_list[2:10] says \"Hey Python, go fetch me all the values in 'a_list' starting at index 2 up-to **(but not including)** index 10. \n",
    " \n",
    "Unlike indexing however, if you try to slice outside of range you won't get an error message. If you have a list of length five and try to slice with values 0 and 100 Python will just return the whole list. If you try to slice the list at 100 and 200 an empty list '[]' will be the result. Lets see a few examples:"
   ]
  },
  {
   "cell_type": "code",
   "execution_count": 12,
   "metadata": {},
   "outputs": [
    {
     "name": "stdout",
     "output_type": "stream",
     "text": [
      "STARTING LIST IS: [1, 2, 3, 4, 5, 6, 7, 8, 9, 10, 11, 12, 13, 14, 15, 16, 17, 18, 19, 20]\n",
      "\n",
      "SLICING LISTS...\n",
      "slice is '[:]', which returns: [1, 2, 3, 4, 5, 6, 7, 8, 9, 10, 11, 12, 13, 14, 15, 16, 17, 18, 19, 20]\n",
      "slice is '[:5]', which returns: [1, 2, 3, 4, 5]\n",
      "slice is '[14:]', which returns: [15, 16, 17, 18, 19, 20]\n",
      "slice is '[200:500]', which returns: []\n",
      "slice is '[5:10]', which returns: [6, 7, 8, 9, 10]\n",
      "slice is '[4:5]', which returns: [5]\n",
      "slice is '[-5:-2]', which returns: [16, 17, 18]\n",
      "slice is '[-20:-1]', which returns: [1, 2, 3, 4, 5, 6, 7, 8, 9, 10, 11, 12, 13, 14, 15, 16, 17, 18, 19]\n",
      "\n",
      "SLICING STRINGS...\n",
      "slice is '[:]', which returns: Hello how are you?\n",
      "slice is '[0:5]', which returns: Hello\n",
      "slice is '[6:9]', which returns: how\n",
      "slice is '[10:13]', which returns: are\n",
      "slice is '[14:17]', which returns: you\n",
      "slice is '[17:]', which returns: ?\n"
     ]
    }
   ],
   "source": [
    "lst = list(range(1,21)) # list(range) just makes a list of numbers 1 to 20\n",
    "\n",
    "# The below function just makes it faster for me to type out the test cases below.\n",
    "def printer(start, end, lst): \n",
    "    \"\"\" Helper function, takes two integers (start, end) and a list/string.\n",
    "    Function returns a formated string that contains: start, end and lst[start:end]\"\"\"\n",
    "    if start: \n",
    "        if end: \n",
    "            sliced = lst[start:end]\n",
    "        else:\n",
    "            sliced = lst[start:]\n",
    "    elif end:\n",
    "        sliced = lst[:end]\n",
    "    else:\n",
    "        sliced = lst[:]\n",
    "            \n",
    "    return \"slice is '[{}:{}]', which returns: {}\".format(start, end, sliced)\n",
    "\n",
    "print(\"STARTING LIST IS:\", lst)\n",
    "print(\"\")\n",
    "\n",
    "# Test cases\n",
    "print(\"SLICING LISTS...\")\n",
    "print(printer(\"\",\"\", lst))    # [:] is sometimes called a 'shallow copy' of a list. \n",
    "print(printer(\"\", 5, lst ))   # first 5 items.\n",
    "print(printer(14,\"\", lst))    # starting at index 14, go to the end.\n",
    "print(printer(200,500,lst))   # No errors for indexes that should be \"out of bounds\".\n",
    "print(printer(5,10, lst))\n",
    "print(printer(4,5, lst))  \n",
    "# Negative numbers work too. In the case below we start at the 5th last item and move toward the 2nd to last item.\n",
    "print(printer(-5,-2, lst))\n",
    "print(printer(-20,-1, lst))  # note that this list finishes at 19, not 20.\n",
    "\n",
    "# and for good measure, a few strings:\n",
    "print(\"\\nSLICING STRINGS...\")\n",
    "a_string = \"Hello how are you?\"\n",
    "print(printer(\"\",\"\", a_string)) # The whole string aka a 'shallow copy'\n",
    "print(printer(0,5, a_string))\n",
    "print(printer(6,9, a_string))\n",
    "print(printer(10,13, a_string))\n",
    "print(printer(14, 17, a_string))\n",
    "print(printer(17, \"\", a_string))"
   ]
  },
  {
   "cell_type": "markdown",
   "metadata": {},
   "source": [
    "Alright, so that's the basics of slicing covered, the only remaining question is what the final \"step\" argument does. Well basically, the step allows us to 'skip' every *nth *element of the list/string.\n",
    "\n",
    "For example, suppose that I have (just as before) a list of numbers 1-to-20, but this time I want to return the EVEN numbers between 15 and 19. Intuitively we know that the result should be [16,18] but how can we do this in code?"
   ]
  },
  {
   "cell_type": "code",
   "execution_count": 13,
   "metadata": {},
   "outputs": [
    {
     "name": "stdout",
     "output_type": "stream",
     "text": [
      "[16, 18]\n",
      "18\n"
     ]
    }
   ],
   "source": [
    "a_list = list(range(1,21))\n",
    "sliced_list = a_list[15:19:2]\n",
    "print(sliced_list)\n",
    "print(a_list[17])"
   ]
  },
  {
   "cell_type": "markdown",
   "metadata": {},
   "source": [
    "How does this work? Well, index 15 is the number 16 (remember we count from 0 in Python), and then we skip index 16 (an odd number) and go straight to index 17 (which is the number 18). The next index to look at is 20, but since that is larger than our end step (19) we terminate.\n",
    "\n",
    "On last thing I'd like to note is that we got even numbers in this case because we started with an even number (index 15= 16). Had we of started with an odd number, this process would have returned odd numbers. For example:"
   ]
  },
  {
   "cell_type": "code",
   "execution_count": 15,
   "metadata": {},
   "outputs": [
    {
     "name": "stdout",
     "output_type": "stream",
     "text": [
      "[0, 10, 20, 30, 40, 50, 60, 70, 80, 90, 100, 110, 120, 130, 140, 150, 160, 170, 180, 190, 200]\n",
      "[5, 15, 25, 35, 45, 55, 65, 75, 85, 95, 105, 115, 125, 135, 145, 155, 165, 175, 185, 195, 205]\n",
      "aaaaaaa\n",
      "3333333\n"
     ]
    }
   ],
   "source": [
    "a_list = list(range(0,206))\n",
    "slice1 = a_list[::10]    # every 10th element starting from zero = [0, 10, 20, ...]\n",
    "slice2 = a_list[5::10]   # every 10th element starting from 5 = [5, 15, 25,...]\n",
    "\n",
    "a_string = \"a123a123a123a123a123a123a123\"  # this pattern has a period of 4. \n",
    "slice3 = a_string[::4]  # starts at a, returns aaaaaa\n",
    "slice4 = a_string[3::4] # starts at 3, returns 333333\n",
    "\n",
    "print(slice1, slice2, slice3, slice4, sep=\"\\n\")"
   ]
  },
  {
   "cell_type": "markdown",
   "metadata": {},
   "source": [
    "In both of the above cases we are using a step of size 10. If we start at 0 that means we get:\n",
    "\n",
    "    10,20,30... \n",
    "\n",
    "but if we start at 5 then the sequence we get is\n",
    "\n",
    "    5, 15, 25...\n",
    "\n",
    "In the case of the string example above, the patten has a length of four and then repeats. Thus, if we start with n charater and have a step of 4 the resulting pattern with be \"nnnnnn\".\n",
    "\n",
    "## Reversing lists with step\n",
    "\n",
    "The very last thing I want to show you about a the step argument is that if you set step to -1 it will reverse the string/list. \n",
    "\n",
    "For example:"
   ]
  },
  {
   "cell_type": "code",
   "execution_count": null,
   "metadata": {
    "collapsed": true
   },
   "outputs": [],
   "source": [
    "a_list = list(range(1, 11))\n",
    "\n",
    "print(a_list)\n",
    "print(a_list[::-1])     # reverses the list\n",
    "print(a_list[-1:-7:-1]) # last 5 numbers, in reverse order."
   ]
  },
  {
   "cell_type": "markdown",
   "metadata": {},
   "source": [
    "## The Range Function\n",
    "\n",
    "You maybe have observed me use the range function here and elsewhere. This function doesn't have anything to do with indexing or slicing, but I thought I would briefly talk about it here because although the syntax is different this function works in a very similar way to slicing. More specifically, the range function takes 3 arguments; start, end, step (optional). And these arguments work in a similar way to how start, end and step work with regards slicing. Allow me to demonstrate:"
   ]
  },
  {
   "cell_type": "code",
   "execution_count": 16,
   "metadata": {},
   "outputs": [
    {
     "name": "stdout",
     "output_type": "stream",
     "text": [
      "[3, 6, 9, 12, 15, 18]\n",
      "[3, 6, 9, 12, 15, 18]\n"
     ]
    }
   ],
   "source": [
    "list_1 = list(range(1,21))\n",
    "list_1 = list_1[2::3] \n",
    "print(list_1)\n",
    "\n",
    "# The above 3 lines can be refactored to:\n",
    "list_2 = list(range(3, 21, 3))\n",
    "print(list_2)"
   ]
  },
  {
   "cell_type": "markdown",
   "metadata": {},
   "source": [
    "You will note a small difference between the two ways of doing things. When we slice we start the the count at 2 whereas with range we start the count at 3. The difference is the result of the fact the range function is dealing with numbers, whereas the slice is using indexing (e.g. list_1[2] is the number 3).   \n",
    "And just as with slicing, a step of -1 counts backwards..."
   ]
  },
  {
   "cell_type": "code",
   "execution_count": 17,
   "metadata": {},
   "outputs": [
    {
     "name": "stdout",
     "output_type": "stream",
     "text": [
      "[10, 9, 8, 7, 6, 5, 4, 3, 2, 1, 0]\n"
     ]
    }
   ],
   "source": [
    "list_3 = list(range(10, -1, -1)) # this says: \"start at the number 10 and count backwards to 0\n",
    "\n",
    "# please remember that start points are inclusive BUT endpoints are exclusive, \n",
    "# if we want to include 0 in the results we must have an endpoint +1 of our target.\n",
    "# in this case the number one past zero (when counting backwards) is -1. \n",
    "\n",
    "print(list_3)"
   ]
  }
 ],
 "metadata": {
  "kernelspec": {
   "display_name": "Python 3",
   "language": "python",
   "name": "python3"
  },
  "language_info": {
   "codemirror_mode": {
    "name": "ipython",
    "version": 3
   },
   "file_extension": ".py",
   "mimetype": "text/x-python",
   "name": "python",
   "nbconvert_exporter": "python",
   "pygments_lexer": "ipython3",
   "version": "3.6.3"
  }
 },
 "nbformat": 4,
 "nbformat_minor": 2
}
