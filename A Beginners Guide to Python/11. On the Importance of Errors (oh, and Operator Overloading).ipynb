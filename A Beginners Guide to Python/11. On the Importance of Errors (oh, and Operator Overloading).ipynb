{
 "cells": [
  {
   "cell_type": "markdown",
   "metadata": {},
   "source": [
    "# On the Importance of Errors (oh, and Operator Overloading)\n",
    "\n",
    "You may remember seeing the following code in the ‘Philosophy’ lectures:"
   ]
  },
  {
   "cell_type": "code",
   "execution_count": 5,
   "metadata": {
    "collapsed": true
   },
   "outputs": [],
   "source": [
    "def net_force(mass, acceleration):\n",
    "    return mass * acceleration"
   ]
  },
  {
   "cell_type": "markdown",
   "metadata": {},
   "source": [
    "I argued that one of the main drawbacks of this code it that \"[it] implicitly assumes the user knows to pass in numbers\". \n",
    "\n",
    "And then I proposed two possible fixes to this issue, (1) add documentation explaining the codes purpose or (b) add in some error checking. To jog your memory, here's the code:"
   ]
  },
  {
   "cell_type": "code",
   "execution_count": 6,
   "metadata": {
    "collapsed": true
   },
   "outputs": [],
   "source": [
    "# DOCUMENTATION ONLY ... \n",
    "def net_force(mass, acceleration):\n",
    "    \"\"\"\n",
    "    Calculates f=ma, returns force.\n",
    "    We assume mass, acceleration are of type int/float.\n",
    "    \"\"\"\n",
    "    return mass * acceleration\n",
    "\n",
    "# Having the cake AND eating it!\n",
    "def net_force(mass, acceleration):\n",
    "    \"\"\"\n",
    "    Calculates f=ma, returns force (a float).\n",
    "    We assume mass, acceleration are of type int/float.\n",
    "    \"\"\"\n",
    "    return float(mass * acceleration)"
   ]
  },
  {
   "cell_type": "markdown",
   "metadata": {},
   "source": [
    "In those lectures past I proposed two possible fixes but I never actually explained what the problem was. That changes now. Here's the problem: "
   ]
  },
  {
   "cell_type": "code",
   "execution_count": 7,
   "metadata": {},
   "outputs": [
    {
     "name": "stdout",
     "output_type": "stream",
     "text": [
      "✓✓\n",
      "3\n",
      "[1, 2]\n",
      "(1, 2)\n"
     ]
    }
   ],
   "source": [
    "print( \"✓\"  +  \"✓\")     # strings (rememeber strings support *any* unicode character)\n",
    "print(  1   +   2)      # integers\n",
    "print( [1]  +  [2])     # lists\n",
    "print( (1,) +  (2,))    # tuples      \n",
    "\n",
    "# Also possible:\n",
    "# Class Object + Class Object (e.g Time(2,3) + Time(0,10) <-- see OOP lecture)"
   ]
  },
  {
   "cell_type": "markdown",
   "metadata": {},
   "source": [
    "The salient point is to notice that the \"+\" operator works not just on integers, but also tuples, lists, strings, class objects and so on. This is what we call operator overloading; it happens when a single operator (in this case \"+\") has several different meaning/uses, depending on context. For numbers, + means addition, for strings in means concatenation, and for other objects (i.e. custom classes) it could mean literally whatever we want it to mean.\n",
    "\n",
    "In many ways, this is a great feature since it means the language ends up being a bit more concise and we have less symbols to remember. But you must be careful; There are bugs ahead!\n",
    "\n",
    "Lets return to our function \"force\" shall we, lets call it with a bunch of objects (of different types) and see what happens!"
   ]
  },
  {
   "cell_type": "code",
   "execution_count": 8,
   "metadata": {},
   "outputs": [
    {
     "name": "stdout",
     "output_type": "stream",
     "text": [
      "100\n",
      "2222222222\n",
      "[1, 1, 1, 1, 1, 1, 1, 1, 1, 1]\n"
     ]
    }
   ],
   "source": [
    "force = lambda x, y: x * y  \n",
    "# This Lambda function is equivilant to the \"force\" function above, but shorter. :)\n",
    "\n",
    "print(force(10, 10))\n",
    "print(force(\"2\", 10))\n",
    "print(force([1], 10 ))"
   ]
  },
  {
   "cell_type": "markdown",
   "metadata": {},
   "source": [
    "So in the three cases above we give the force function two integers, a string and an integer, and a list and an integer. **In each case the code \"worked\", and I'd argue that’s the problem!**\n",
    "\n",
    "## Errors love you, love them back\n",
    "\n",
    "> \"Errors should never pass silently\". ~ Zen of Python\n",
    "\n",
    "As beginners you might hate it when Python throws error messages at you. You got something wrong and now you are being mocked for it. I’d counter that by saying this is very unhealthy attitude to have regarding error messages. Personally, I'd rather an error message over junk data any day of the week! \n",
    "\n",
    "Why? I'll give you two reasons...\n",
    "\n",
    "Suppose you have medical data that you feed through a computer. It parses the data and the computer crashes on some error. What happens next? You reboot, fix, and re-run. Annoying sure, but no big deal.\n",
    "\n",
    "Now imagine instead of getting an error Python just returns the wrong answer; think about the consequences of that just for a moment, wrong answers could easily have a disastrous impact on patient care.\n",
    "    \n",
    "Another reason you should prefer error messages instead of bad output is because an error in one place of code will probably cause an error much further on down the line (if you are lucky!). And the longer the error goes unoticed the harder it is to debug. I actually have example of exactly that happening in the ‘common error messages’ lecture. \n",
    "\n",
    "**Just to be clear, I’m not worried about feeding the force function dodgy input and the computer crashing. Rather, I’m concerned about those cases where the error may ‘sneak through’ unnoticed and we get a bad result.** And that could actually happen very very easily. In fact, let me show you just how easily we could get the wrong result. \n",
    "\n",
    "But instead of calling our function \"force\", lets change its name to  “Chemotherapy_radiation_dose”. The function is going to be exactly the same functionally, the name change is just for dramatic effect. I'm just gonna run with the medical disaster theme I’ve got going on here."
   ]
  },
  {
   "cell_type": "code",
   "execution_count": 9,
   "metadata": {},
   "outputs": [
    {
     "name": "stdout",
     "output_type": "stream",
     "text": [
      "130\n",
      "6565\n"
     ]
    }
   ],
   "source": [
    "def chemotherapy_radiation_dose(patient_weight, cancer_stage):\n",
    "    radiation_dose = patient_weight * cancer_stage\n",
    "    return radiation_dose\n",
    "\n",
    "print(chemotherapy_radiation_dose(65, 2))\n",
    "print(chemotherapy_radiation_dose(\"65\", 2))"
   ]
  },
  {
   "cell_type": "markdown",
   "metadata": {},
   "source": [
    "Okay, we have called the chemo function twice and we get the number 130 and the string 6565 returned to us. We shall use those values in a jiffy. Okay, now lets suppose that part of our program has a 'parse results' function. The task of this function is to get the results ready for printing. "
   ]
  },
  {
   "cell_type": "code",
   "execution_count": 10,
   "metadata": {},
   "outputs": [
    {
     "ename": "TypeError",
     "evalue": "Can't convert 'int' object to str implicitly",
     "output_type": "error",
     "traceback": [
      "\u001b[0;31m---------------------------------------------------------------------------\u001b[0m",
      "\u001b[0;31mTypeError\u001b[0m                                 Traceback (most recent call last)",
      "\u001b[0;32m<ipython-input-10-2ffd6954accd>\u001b[0m in \u001b[0;36m<module>\u001b[0;34m()\u001b[0m\n\u001b[1;32m      2\u001b[0m     \u001b[0;32mreturn\u001b[0m \u001b[0;34m\"The correct doesage for the patient is\"\u001b[0m \u001b[0;34m+\u001b[0m \u001b[0mnumber\u001b[0m\u001b[0;34m\u001b[0m\u001b[0m\n\u001b[1;32m      3\u001b[0m \u001b[0;34m\u001b[0m\u001b[0m\n\u001b[0;32m----> 4\u001b[0;31m \u001b[0mparse_results\u001b[0m\u001b[0;34m(\u001b[0m\u001b[0;36m130\u001b[0m\u001b[0;34m)\u001b[0m\u001b[0;34m\u001b[0m\u001b[0m\n\u001b[0m",
      "\u001b[0;32m<ipython-input-10-2ffd6954accd>\u001b[0m in \u001b[0;36mparse_results\u001b[0;34m(number)\u001b[0m\n\u001b[1;32m      1\u001b[0m \u001b[0;32mdef\u001b[0m \u001b[0mparse_results\u001b[0m\u001b[0;34m(\u001b[0m\u001b[0mnumber\u001b[0m\u001b[0;34m)\u001b[0m\u001b[0;34m:\u001b[0m\u001b[0;34m\u001b[0m\u001b[0m\n\u001b[0;32m----> 2\u001b[0;31m     \u001b[0;32mreturn\u001b[0m \u001b[0;34m\"The correct doesage for the patient is\"\u001b[0m \u001b[0;34m+\u001b[0m \u001b[0mnumber\u001b[0m\u001b[0;34m\u001b[0m\u001b[0m\n\u001b[0m\u001b[1;32m      3\u001b[0m \u001b[0;34m\u001b[0m\u001b[0m\n\u001b[1;32m      4\u001b[0m \u001b[0mparse_results\u001b[0m\u001b[0;34m(\u001b[0m\u001b[0;36m130\u001b[0m\u001b[0;34m)\u001b[0m\u001b[0;34m\u001b[0m\u001b[0m\n",
      "\u001b[0;31mTypeError\u001b[0m: Can't convert 'int' object to str implicitly"
     ]
    }
   ],
   "source": [
    "def parse_results(number):\n",
    "    return \"The correct doesage for the patient is\" + number\n",
    "\n",
    "parse_results(130)"
   ]
  },
  {
   "cell_type": "markdown",
   "metadata": {},
   "source": [
    "So in the above code I called parse_results with the number 130 and the it returns an error. Now, since are expecting to be given numbers as input and we want to return a string it makes sense to use str() to convert the number. Afterall, a program that spins errors when we give it correct input is of no use at all.\n",
    "\n",
    "So okay, we add str(number) to avoid spinning errors on valid inputs. Thats totally fine. BUT notice there is a nasty and insidious side-effect to doing this; from this point on \"6535\" is going to look like good data because all numbers are now strings. \n",
    "\n",
    "Just stop and think about that for a moment. \n",
    "\n",
    "From this point on the only clue you have that something went wrong is the sheer magnitude of the number, **ERROR MESSAGES CAN'T SAVE US NOW!**\n",
    "\n",
    "Okay, let's further suppose that there is some other function that takes the string generated by 'parse results' and stores the numbers in log10, and it is this number the human operator of the 'big-cancer-zappy-machine' sees...\n",
    "\n",
    "    log10(130)  = 2.11394335231\n",
    "    log10(6565) = 3.81723473043\n",
    "    \n",
    "... and now the sheer magnitude of the fuck-up is masked. It is so easy to imagine some unaware lab technician not realising that there is a huge difference between 2.11 and 3.81. \n",
    "\n",
    "The result? A patient gets a radiation dose 50x more powerful than it should be!\n",
    "\n",
    "## Therac-25, or why this shit matters...\n",
    "\n",
    "And before you consider all this a bit far-fetched, it is worth considering that medical accidents involving software bugs have happened before. The Therac-25 was a radiation therapy machine that on least six separate occasions delivered a radiation dose 100x more powerful than they should have been; all due to a software bug. \n",
    "\n",
    "A commission looking into these incidents cited several safety breaches and poor practices that lead to this disaster. For our purposes, this paragraph stands out:\n",
    "\n",
    "> \"The system noticed that something was wrong and halted the X-ray beam, but merely displayed the word \"MALFUNCTION\" followed by a number from 1 to 64. The user manual did not explain or even address the error codes, so the operator pressed the P key to override the warning and proceed anyway.\"  ~ [Wikipedia article](https://en.wikipedia.org/wiki/Therac-25#Root_causes)\n",
    "\n",
    "What can we learn from this? \n",
    "\n",
    "1. It might not be a good idea to simply report \"MALFUNCTION 15\" when you are killing people (readability counts).\n",
    "2. If you must have a error message as abstruse as \"MALFUNCTION 15\" it might be a good idea to jot down \"This means you are killing people\" somewhere (documentation matters).  \n",
    "3. Maybe make it harder to kill people than merely typing \"P\" on the keyboard? (serious errors should be given weight)\n",
    "\n",
    "Basically the Therac-25 machine did raise errors but the mistake made was to not have a those errors mean anything to the end-user. Because the danger was not made explicit people literally died; When things go wrong it is crucial that error messages are not only raised but also respected."
   ]
  }
 ],
 "metadata": {
  "kernelspec": {
   "display_name": "Python 3",
   "language": "python",
   "name": "python3"
  },
  "language_info": {
   "codemirror_mode": {
    "name": "ipython",
    "version": 3
   },
   "file_extension": ".py",
   "mimetype": "text/x-python",
   "name": "python",
   "nbconvert_exporter": "python",
   "pygments_lexer": "ipython3",
   "version": "3.5.2"
  }
 },
 "nbformat": 4,
 "nbformat_minor": 2
}
