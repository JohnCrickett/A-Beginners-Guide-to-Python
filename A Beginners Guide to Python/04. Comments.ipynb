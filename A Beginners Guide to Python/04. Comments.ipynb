{
 "cells": [
  {
   "cell_type": "markdown",
   "metadata": {},
   "source": [
    "# Comments\n",
    "\n",
    "In the previous lecture we learnt how to print \"hello world\". Lets try to do that again..."
   ]
  },
  {
   "cell_type": "code",
   "execution_count": 2,
   "metadata": {
    "collapsed": true
   },
   "outputs": [],
   "source": [
    "# print(\"Hello World)"
   ]
  },
  {
   "cell_type": "code",
   "execution_count": 3,
   "metadata": {
    "collapsed": true
   },
   "outputs": [],
   "source": [
    "# This time it didn't work. Any guesses as to why?\n",
    "\n",
    "# Well, the reason this bit of code didn't do anything is because Python has these things called \"comments\". \n",
    "# When we use comments, Python ignores anything and everything we type in them. \n",
    "# We could be writing a novel or a bit of code, Python simply doesn't care!"
   ]
  },
  {
   "cell_type": "markdown",
   "metadata": {},
   "source": [
    "    The Syntax:\n",
    "    # {Any text we want}\n",
    "    # {More gibberish}\n",
    "\n",
    "To use comments its really easy, we just use the \"#\" character, and this will make Python ignore everything **on that line from that point on**. If we want comments to span multiple lines, then we have to remember to put a # at the start of every line. If you scroll up, you’ll notice I have already provided you with examples of exactly that. \n",
    "\n",
    "Another thing we can do is write code and then comment afterwards, this is what is sometimes known as a ‘in-line’ comment. See directly below:"
   ]
  },
  {
   "cell_type": "code",
   "execution_count": 4,
   "metadata": {},
   "outputs": [
    {
     "name": "stdout",
     "output_type": "stream",
     "text": [
      "this works\n"
     ]
    }
   ],
   "source": [
    "print(\"this works\")  # this works because the \"#\" symbol is placed AFTER the bit of code we want to run!"
   ]
  },
  {
   "cell_type": "markdown",
   "metadata": {},
   "source": [
    "## What are comments for?\n",
    "\n",
    "Comments have a few uses, but the main one is to communicate with other human beings (including your future self!). Helpful comments can make reading and understanding code a lot less difficult, and thats why leaving good comments is a **GREAT** idea.   \n",
    "\n",
    "## Homework\n",
    "\n",
    "Your task for this week is to get the code in the box below to work, use your understanding of comments to fix it!"
   ]
  },
  {
   "cell_type": "code",
   "execution_count": 2,
   "metadata": {},
   "outputs": [
    {
     "name": "stdout",
     "output_type": "stream",
     "text": [
      "\n"
     ]
    }
   ],
   "source": [
    "# print(\"\\n            *      ,MMM8&&&.            *\\n                  MMMM88&&&&&    .\\n                 MMMM88&&&&&&&\\n     *           MMM88&&&&&&&&\\n                 MMM88&&&&&&&&\\n                 'MMM88&&&&&&'\\n                   'MMM8&&&'      *\\n          |\\\\___/|\\n          )     (             .              '\\n         =\\\\     /=\\n           )===(       *\\n          /     \\\\\\n          |     |\\n         /       \\\\\\n         \\\\       /\\n  _/\\\\_/\\\\_/\\\\__  _/_/\\\\_/\\\\_/\\\\_/\\\\_/\\\\_/\\\\_/\\\\_/\\\\_/\\\\_\\n  |  |  |  |( (  |  |  |  |  |  |  |  |  |  |\\n  |  |  |  | ) ) |  |  |  |  |  |  |  |  |  |\\n  |  |  |  |(_(  |  |  |  |  |  |  |  |  |  |\\n  |  |  |  |  |  |  |  |  |  |  |  |  |  |  |\\n  |  |  |  |  |  |  |  |  |  |  |  |  |  |  |\\n\")"
   ]
  }
 ],
 "metadata": {
  "kernelspec": {
   "display_name": "Python 3",
   "language": "python",
   "name": "python3"
  },
  "language_info": {
   "codemirror_mode": {
    "name": "ipython",
    "version": 3
   },
   "file_extension": ".py",
   "mimetype": "text/x-python",
   "name": "python",
   "nbconvert_exporter": "python",
   "pygments_lexer": "ipython3",
   "version": "3.5.2"
  }
 },
 "nbformat": 4,
 "nbformat_minor": 2
}
