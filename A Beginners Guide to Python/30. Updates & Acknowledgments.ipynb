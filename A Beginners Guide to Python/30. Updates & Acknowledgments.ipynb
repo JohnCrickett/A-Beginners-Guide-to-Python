{
 "cells": [
  {
   "cell_type": "markdown",
   "metadata": {},
   "source": [
    "### Last Updated:  \n",
    "\n",
    "8th dec 2017"
   ]
  },
  {
   "cell_type": "markdown",
   "metadata": {},
   "source": [
    "### Version History\n",
    "\n",
    "* 8th  Dec  '17:  Redone all lectures, changed/added some content, fixed a lot of typos/grammer stuff.\n",
    "* 26th June '17:  Redone lecture numbers, added \"Guide FAQ\" section, completed (first draft) of main project.\n",
    "* 23rd June '17:  Added first drafts of the main project, added a new lecture on how to use/install jupyter notebooks.\n",
    "* 22nd June '17:  1.0 (Alpha) released! Posted to 'learn python' subreddit."
   ]
  },
  {
   "cell_type": "markdown",
   "metadata": {},
   "source": [
    "### Acknowledgements\n",
    "\n",
    "* Thankyou to everyone who helped make this possible, however small your contribution. :)"
   ]
  }
 ],
 "metadata": {
  "kernelspec": {
   "display_name": "Python 3",
   "language": "python",
   "name": "python3"
  },
  "language_info": {
   "codemirror_mode": {
    "name": "ipython",
    "version": 3
   },
   "file_extension": ".py",
   "mimetype": "text/x-python",
   "name": "python",
   "nbconvert_exporter": "python",
   "pygments_lexer": "ipython3",
   "version": "3.6.3"
  }
 },
 "nbformat": 4,
 "nbformat_minor": 2
}
