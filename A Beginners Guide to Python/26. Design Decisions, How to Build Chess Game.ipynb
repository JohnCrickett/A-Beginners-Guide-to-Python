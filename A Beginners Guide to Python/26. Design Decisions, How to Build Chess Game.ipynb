{
 "cells": [
  {
   "cell_type": "markdown",
   "metadata": {},
   "source": [
    "## Features of Good Design\n",
    " \n",
    "Hi guys, this lecture is a bit different, today we are mostly glossing over Python itself and instead we are going to be talk about software development. \n",
    " \n",
    "At this moment in time you are writing tiny programs, programs that in many cases are ten lines (or less) long. This is all good experience but you will quickly learn that programs that the longer the program the harder to is get it working. For example, writing two-hundred one page letters to your grandma over the course of a year is much easier than trying to write a two-hundred page novel. The main reason being is that the bunch of letters are mostly independent bits of writing, whereas a novel is not simply the sum of its pages.\n",
    " \n",
    "I’d argue software development is a bit like that too; writing small independant programs is very different from writing a substantial and working piece of software. For small problems, knowledge of  syntax and language semantics are often sufficient and concepts like ‘readability’ can even be ignored (although you shouldn’t). However, if you try to scale up and write something over weeks and months you will likely find your casual disregard for readability ends up harming the project. And similarly, if you jumped ‘straight-in’ without considering the ‘bigger picture’ chances are you will end up rewriting a lot of code as you start to realise, weeks later, that the current implementation is not scalable, or something. \n",
    " \n",
    "Today’s lecture is intended as an introduction to some of skills you will likely need once you try to develop a substantial programs. **The TLDR version; figuring out a good design ‘off the bat’ can potentially save you hours upon hours of work later on down the line.** \n",
    " \n",
    "Today I will be showing you an example of how we might code up a game of chess. But crucially I’m going to skip over a lot of the ‘low-level’ stuff and instead try to provide a ‘high-level’ sketch for what such a program may look like. If you have the time it may be worthwhile to quickly skim back over the *intuition for OOP* lecture. \n",
    " \n",
    "When reading today’s code please consider it a ‘rough sketch’ rather than definitive, if you look at it with a magnifying glass it will collapse like a house of cards. But as I say, today is all about the bigger picture, or  ‘high-level’ thinking. \n",
    " \n",
    "There is a saying in England:\n",
    " \n",
    ">“[you] can’t see the forest for the trees”*. \n",
    " \n",
    "It means that if you examine something closely (i.e. each tree) you might miss the bigger picture (i.e. that all the trees come together to make a forest). Most of this lecture series has been talking about trees, but today we are talking about the forest. \n",
    "\n",
    "## What is good design?\n",
    "\n",
    "So before we start looking at a chess game lets say a few words about design; in particular, what counts as good program design?\n",
    "\n",
    "#### Simplicity\n",
    "\n",
    "    Simple is better than complex.\n",
    "    Complex is better than complicated.\n",
    "    [...]\n",
    "    If the implementation is hard to explain, it's a bad idea.\n",
    "    If the implementation is easy to explain, it may be a good idea.\n",
    "    \n",
    "As always, Tim Peter's ‘Zen of Python’ has a thing or two to say about design, the lines highlighted here place an emphasis on simplicity and clarity of expression, these concepts are core to the entire language and we would do well to remember that;  if things start to get complicated maybe it would be prudent to take a step back and reconsider our approach.\n",
    "\n",
    "In short, projects should only be as complicated as they absolutely need to be. \n",
    "\n",
    "#### Performance\n",
    " \n",
    "At first glance we might think performance is a 'low-level' consideration. You write something and then find ways to save a byte of memory here or there. But considering performance merely as ‘fine-tuning’ would be a crucial mistake. \n",
    " \n",
    "Those of you that read my 'joy of fast cars' lecture would have seen a few examples of such low-level 'fine tuning', in one example I showed how we could optimize a call to range such that we could search for prime numbers faster. And for what its worth this tinkering did in fact pay off, we were able to lower the time taken from ten seconds to three seconds, our tweaking resulted in a performance boost upwards of 66%.\n",
    " \n",
    "However, that lecture also contained a ‘high-level’ idea as well; our tinkering with the range function was, although faster, still blindly searching for *a needle in a haystack*. We then stepped back and wondered if there was a better way to do it and indeed there was; *generating* primes is better than blindly *searching* for them.\n",
    " \n",
    "The lesson here is that good design choices, even if executed poorly, can easily out-perform bad ideas implemented well. If you want to know more about this, please check do some reading on [‘algorithmic complexity’](https://en.wikipedia.org/wiki/Analysis_of_algorithms) and Big(O) notation (we wont cover this stuff in this course).\n",
    " \n",
    "In short, good design/algorithm choices tend to be very performant once we scale up the problem to huge data sets, and this is why it’s worth taking the time to come up with a good idea. \n",
    "\n",
    "#### Readable\n",
    " \n",
    "Throughout this lectures series I have highlighted readability numerous times so I'm going to keep this section super short:\n",
    "\n",
    "> Readability Counts!\n",
    " \n",
    "#### Modular\n",
    "\n",
    "For big projects with multiple developers a really nice feature is to try your best to keep everything neatly compartmentalised. In other words, a good design choice to create a bunch of big black boxes that ‘talk’ to one another. Think of your code as a network where each ‘node’ sends and receives requests. By contrast If you build a massive function that literally does itself it WILL go wrong and WHEN it goes wrong it going absolute nightmare trying to locate the source of your error.\n",
    "\n",
    "#### Generalisable / Reusable\n",
    "\n",
    "Writing good code once and then reusing it is often better than starting from scratch each time. The way to make code reusable is to generalise it to solve variety of problems. This concept is probably best understood by example. \n",
    "\n",
    "Suppose we were making a function that counted *1-to-100*. What can we use this for other than its intended purpose? \n",
    "\n",
    "Now suppose we write a function that counts from *n-to-m*. This code works for the current problem but because its design is generalised we may be able to reuse this code at a later date, in this project or the next. "
   ]
  },
  {
   "cell_type": "code",
   "execution_count": 1,
   "metadata": {
    "collapsed": true
   },
   "outputs": [],
   "source": [
    "# One use, \"throw away\" code:\n",
    "def one_to_one_hundred():\n",
    "    for i in range(1, 101):\n",
    "        print (i)\n",
    "        \n",
    "# Multi use, 'generalised' code:\n",
    "def n_to_x(n, m):\n",
    "    for i in range(n, m+1):\n",
    "        print(i)"
   ]
  },
  {
   "cell_type": "markdown",
   "metadata": {},
   "source": [
    "#### Beauty\n",
    "\n",
    "> *Beautiful is better than ugly.*  \n",
    "Tim Peters, ‘Zen of Python’\n",
    "\n",
    "Beauty!? At first glance making beauty a consideration my sound like a strange or 'out-of-place' concept. But if you take a broad view of human achievement you’ll find that we mere mortals make things, and then make those things beautiful.  Just think of something like a sword, it is an object made with the most brutal of applications in mind and yet we still decided that even this was an object worthy of being made beautiful. \n",
    "\n",
    "Another discipline where discussions of aesthetics may initially seem out-of-place is mathematics, and yet, there are no shortage of mathematicians throughout the ages  discussing the [aesthetic qualities of field](http://www.huffingtonpost.com/david-h-bailey/why-mathematics-matters_b_4794617.html) and moreover there is some [experimental evidence](http://www.bbc.co.uk/news/science-environment-26151062) to suggest mathematicians genuinely see beauty in formula's in the same way the rest of us see beauty in music or art. For some, beauty truly is the joy of mathematics.\n",
    "\n",
    "*\"Why are numbers beautiful? It's like asking why is Beethoven's Ninth Symphony beautiful. If you don't see why, someone can't tell you.\"*  -Paul Erdos\n",
    "\n",
    "I think it would be wrong to dismiss beauty as a trivial aspect of mathematics or programming for that matter.  There truly is a joy in experiencing good code, you just need to learn to appreciate it, I guess. \n",
    "\n",
    "## Building a Chess Program...\n",
    "\n",
    "Okay so the above discussion highlighted a few aspirations and considerations for our chess project. Let’s start by making a list of all the things we need to do:\n",
    "\n",
    "1. Represent the board (8x8 grid, alternating black/white squares)\n",
    "1. Define piece movement, capture rules.\n",
    "1. Define all other rules (e.g. promotion, castling, checkmate, 3-fold repetition, etc)\n",
    "1. Peripherals (e.g. clocks, GUI's, multiplayer features like match-making, etc)\n",
    "\n",
    "Thats a lot of stuff to do right there, today's lecture will mostly deal with points one and two.\n",
    "\n",
    "### Building the board\n",
    "\n",
    "How should we represent a board in Python? This question mostly just boils down to what data-type we should use. Right now, I have two candidates in mind; strings and lists. \n",
    "\n",
    "We could of course jump ‘straight-in’, pick one the data types at random and see what happens but, as alluded to in the above discussions such a method is both silly and wasteful. A better use of time would be to carefully consider our options BEFORE we write even a single line of code.\n",
    "\n",
    "#### The Board as a string\n",
    "\n",
    "Okay, so let’s consider using a string for the board. What might that look like?\n",
    "\n",
    "Well, the letters \"QKPN\" could represent the pieces (lower-case for white), and we could use the new-line character (\"\\\\n\") to separate the rows. Something like this:"
   ]
  },
  {
   "cell_type": "code",
   "execution_count": 1,
   "metadata": {},
   "outputs": [
    {
     "name": "stdout",
     "output_type": "stream",
     "text": [
      "RNBQKBNR\n",
      "PPPPPPPP\n",
      "-x-x-x-x\n",
      "x-x-x-x-\n",
      "-x-x-x-x\n",
      "pppppppp\n",
      "rnbkqbnr\n"
     ]
    }
   ],
   "source": [
    "print(\"RNBQKBNR\\nPPPPPPPP\\n-x-x-x-x\\nx-x-x-x-\\n-x-x-x-x\\npppppppp\\nrnbkqbnr\") # 'x' and '-' represent black and white squares."
   ]
  },
  {
   "cell_type": "markdown",
   "metadata": {},
   "source": [
    "Actually, we can do even better than this, Python strings support unicode and there are [unicode characters for chessmen](https://en.wikipedia.org/wiki/Chess_symbols_in_Unicode#Unicode_codepoints_and_HTML). So now our string implementation even comes with some basic graphics:"
   ]
  },
  {
   "cell_type": "code",
   "execution_count": 20,
   "metadata": {},
   "outputs": [
    {
     "name": "stdout",
     "output_type": "stream",
     "text": [
      "♖♘♗♔♕♗♘♖\n",
      "♙♙♙♙♙♙♙♙\n",
      "□ ■ □ ■ □ ■ □ ■\n",
      "x-x-x-x-\n",
      "-x-x-x-x\n",
      "♟♟♟♟♟♟♟♟\n",
      "♜♞♝♛♚♝♞♜\n"
     ]
    }
   ],
   "source": [
    "print(\"♖♘♗♔♕♗♘♖\\n♙♙♙♙♙♙♙♙\\n□ ■ □ ■ □ ■ □ ■\\nx-x-x-x-\\n-x-x-x-x\\n♟♟♟♟♟♟♟♟\\n♜♞♝♛♚♝♞♜\")"
   ]
  },
  {
   "cell_type": "markdown",
   "metadata": {},
   "source": [
    "Okay so the board as a string seems possible, but are there any drawbacks of an implementation like this? Well, I can think of two. Firstly, notice that because these unicode characters are a bigger than normal letters (e.g -, x) we are going to need a new way to denote black and white squares. You can see from above I tried to use a combination of spaces and ‘□■’ characters but even then the formating is a bit off. In short, it looks like trying to get the board to look nice is going to be both tedious and fiddly. \n",
    "\n",
    "#### What is the second problem? \n",
    " \n",
    "You remember me mentioning that strings are an *immutable data-type*, which means that every time we want to change the board we have to make a new one. Not only would this be computationally inefficient it may also be a bit tricky to actually change the board.\n",
    "\n",
    "For example, lets see what sort of work we would have to to make the move 1.Nf3:"
   ]
  },
  {
   "cell_type": "code",
   "execution_count": 4,
   "metadata": {},
   "outputs": [
    {
     "name": "stdout",
     "output_type": "stream",
     "text": [
      "RNBQKBNR\n",
      "PPPPPPPP\n",
      "-x-x-x-x\n",
      "x-x-x-x-\n",
      "-x-x-n-x\n",
      "pppppppp\n",
      "rnbkqb-r\n"
     ]
    }
   ],
   "source": [
    "def make_move(move):\n",
    "    \"\"\"Takes a string a returns a new string with the specified move\"\"\"\n",
    "    # Code here\n",
    "    pass\n",
    "\n",
    "# Our new function would have to take the original string and return the new string (both below)...\n",
    "original_string = \"RNBQKBNR\\nPPPPPPPP\\n-x-x-x-x\\nx-x-x-x-\\n-x-x-x-x\\npppppppp\\nrnbkqbnr\"\n",
    "new_string =      \"RNBQKBNR\\nPPPPPPPP\\n-x-x-x-x\\nx-x-x-x-\\n-x-x-n-x\\npppppppp\\nrnbkqb-r\"\n",
    "print(new_string)"
   ]
  },
  {
   "cell_type": "markdown",
   "metadata": {},
   "source": [
    "Now, to be clear, it is certainly possible to make the “make_move” function work, but it does seem to have several small moving parts and therefore probably lots of interesting ways to go wrong. And then lets think about the more complex functions; if movement seems a bit tricky, how easy do we think defining checkmate is going to be?\n",
    "\n",
    "Basically, using strings seems doable but complicated. And as Tim Peters says, simple and complex are both better than complicated. Alright, on that note, let’s see if lists seem more straight-forward.\n",
    "\n",
    "#### The Board as a List\n",
    "\n",
    "       [[00, 01, 02],\n",
    "        [10, 11, 12],\n",
    "        [20, 21, 22]]\n",
    "        \n",
    "The above is a nested list but we have put each of the sublists on a new line to make it easier to visualise how such a structure can work like a game board. The numbers represent the (x, y) coordinate of that 'square'. And remember that lists can contain strings as well, so this option doesn't stop us from using those pretty graphics we saw earlier.  \n",
    " \n",
    "Compared to the string implementation, the 1.Nf3 move should be somewhat straightforward:\n",
    " \n",
    "    current_position_knight = (a,  b)    # where (a, b) are coordinates. \n",
    "    next_position_knight    = (a2, b2)\n",
    " \n",
    "    Board[a][b]   = {‘Black’} # vacated square is assigned a colour. \n",
    "    Board[a2][b2] = {Knight}\n",
    " \n",
    "Current and New_squares being represented as something like 'board[x][y]'. At first glance, this seems considerably easier than a messing arround mutating strings. \n",
    " \n",
    "There is also another possible advantage to lists as well, and that is they can store a variety of data-types. I haven't spoken about classes in this lecture series and I'm not going to into detail * (classes are not suitable for a beginner class, in my opinion)* But, I’ll will very briefly introduce you to the concept and how we could use it here.*\n",
    "\n",
    "In short, the brainwave is that if we use lists we could litterally build Knight objects, King Objects, etc and they can be placed inside a list. We can't do that with strings.\n",
    "\n",
    "## Defining Chessmen\n",
    " \n",
    "Basically  Python makes it possible to create your own objects with their own methods. Using classes it is *literally* possible make a knight and put him onto a game board. Below I’ve provided a very rough sketch of what such a class could look like.\n",
    "\n",
    "I would like to stress that this code is intended as a 'high-level' sketch and by that I mean lots of the small details are missing. Notice that the code for a Queen, King, Pawn, etc could all be written in the same way."
   ]
  },
  {
   "cell_type": "code",
   "execution_count": 32,
   "metadata": {},
   "outputs": [
    {
     "data": {
      "text/plain": [
       "'Invalid Move!'"
      ]
     },
     "execution_count": 32,
     "metadata": {},
     "output_type": "execute_result"
    }
   ],
   "source": [
    "class Knight (object):\n",
    "    \n",
    "    def __init__ (self, current_square, colour):\n",
    "        self.colour = colour\n",
    "        self.current_square = current_square\n",
    "    \n",
    "    @staticmethod # This is a wrapper, just ignore it, how it works is not important.\n",
    "    def is_legal_move(square1, square2):\n",
    "        \"\"\"\n",
    "        Checks if moving from square1 to square2 is a legal move for the Knight.\n",
    "        Returns True/False\n",
    "        \"\"\"\n",
    "        # Code goes here... i.e we calculate all 'game legal' squares a Knight could reach from position X. \n",
    "        pass\n",
    "    \n",
    "    def make_move(self, new_square):\n",
    "        # since we don't want to make illegal moves, we check the intended move is legal first.\n",
    "        if Knight.is_legal_move(self.current_square, new_square):\n",
    "            self.current_square = new_square # <= moves the knight!\n",
    "        else:\n",
    "            return \"Invalid Move!\"\n",
    "    \n",
    "    # Other methods would go here. \n",
    "\n",
    "# Lets make a White Knight. Let's call him 'Dave'. \n",
    "Dave = Knight((0,0), \"White\")\n",
    "\n",
    "# Once the knight is made, we can move it using the move_to method:\n",
    "Dave.make_move((3,3))"
   ]
  },
  {
   "cell_type": "markdown",
   "metadata": {},
   "source": [
    "## Defining Piece movement\n",
    "\n",
    "Alright, onto the next problem. \"How are we going to make the peices move?\" And once again a smart choice here will make things so much easier than it otherwise could be.\n",
    "\n",
    "One simple approach is to write a function for each piece, like so:"
   ]
  },
  {
   "cell_type": "code",
   "execution_count": null,
   "metadata": {
    "collapsed": true
   },
   "outputs": [],
   "source": [
    "# Note the following code doesn't work, it is for demonstration purposes only!\n",
    "\n",
    "def move_bishop(position, board):\n",
    "    \"\"\" When given a starting square, returns all squares the bishop can move to\"\"\"\n",
    "    pass\n",
    "    \n",
    "def move_rook(position, board):\n",
    "    \"\"\" When given a starting square, returns all squares the rook can move to\"\"\"\n",
    "    pass\n",
    "    \n",
    "def move_queen(position, board):\n",
    "    \"\"\"When given a starting square, returns all squares the queen can move to\"\"\"\n",
    "    pass"
   ]
  },
  {
   "cell_type": "markdown",
   "metadata": {},
   "source": [
    "At first glance this code seems pretty good, but there are a few drawbacks. Firstly it looks like we are going to be repeating ourselves a lot; queen movement for example is just a copy & paste of the rook + bishop. The king function is likely a copy & paste of queen but where we change the distance to 1.\n",
    " \n",
    "And by the way guys, repeating oneself is NOT quite the same as reusing code! \n",
    "\n",
    "<img src=\"http://hgm.nubati.net/rules/Capablanca.png\" style=\"width:300px;height:213px;\" ALIGN=\"right\">\n",
    "What we would really like to do here is generalise the problem as much as we can. And good technique for doing that is to think of the next project we might want to implement. For example, let’s suppose after building my chess game I want to support [Capablanca Chess](https://en.wikipedia.org/wiki/Capablanca_chess)?\n",
    " \n",
    "Capablanca chess is played on a 10x8 board and it has two new pieces; the ‘archbishop’ moves like a bishop combined with a knight and a ‘chancellor’ moves like a rook and a knight.\n",
    " \n",
    "So, what should we do here? Well, I think the first thing we should do is define movement of pieces **WITHOUT** referencing a board. If we don’t reference a board that means we should be able to handle boards of many different sizes. Secondly, if we define pieces in terms of combining general patterns (e.g Queen = diagonal + orthogonal movement) then defining new pieces will probably be less the five lines of code in many cases. \n",
    " \n",
    "Let’s examine what that might look like:"
   ]
  },
  {
   "cell_type": "code",
   "execution_count": null,
   "metadata": {
    "collapsed": true
   },
   "outputs": [],
   "source": [
    "# Note the following code doesn't work, it is for demonstration purposes only!\n",
    "\n",
    "def diagonal(position, direction=\"frontleft, rearright, etc\", distance =1):\n",
    "    \"\"\"Returns all squares in diagonal direction X with a max of N distance from original position\"\"\"\n",
    "    # code here\n",
    "    pass\n",
    "\n",
    "def othagonal_movement(position, direction=\"left/right/down/up/all\", distance=1):\n",
    "    \n",
    "    # doctests showing example useage.\n",
    "    \"\"\"\n",
    "    >>> othagonal_movement( (2, 2), direction=Left, distance =2)\n",
    "    [(2,2), (2, 1), (2, 0)]\n",
    "    >>> othagonal_movement( (2, 2), direction=right, distance= 4)\n",
    "    [(2, 2), (2, 3), (2, 4), (2, 5), (2, 6)]\n",
    "    \"\"\"\n",
    "    \n",
    "    possible_moves = []\n",
    "    x, y = position[0], position[1]\n",
    "    \n",
    "    if direction == 'right':\n",
    "        for move in range(x, x + distance + 1):\n",
    "            possible_moves.append ( (y, move) )\n",
    "\n",
    "    # ...and so on for right, up, down ...\n",
    "    \n",
    "    return possible_moves"
   ]
  },
  {
   "cell_type": "markdown",
   "metadata": {},
   "source": [
    "Notice here that we have defined movement without reference to a board, our code here simply takes an (x,y) coordinate in space and will keep returning valid squares until it reaches the limit set by distance. The documentation in row movement explains the idea.\n",
    " \n",
    "With this generalisation, we should be able to handle different boards AND we can define pieces with just a few lines of code like so:"
   ]
  },
  {
   "cell_type": "code",
   "execution_count": null,
   "metadata": {
    "collapsed": true
   },
   "outputs": [],
   "source": [
    "def queen_movement(position, limit):\n",
    "    return [diagonal(position, direction=\"all\", distance=limit) + othagonal_movement(position, direction=\"all\", distance=limit)]\n",
    "\n",
    "def bishop_movement(position, limit):\n",
    "    return [diagonal(position, direction=\"all\", distance=limit)]"
   ]
  },
  {
   "cell_type": "markdown",
   "metadata": {},
   "source": [
    "In the case of an 8x8 board 'limit' would be set to 8. If a piece is only allowed to move 1 square forward (regardless of board shape/size) we can easily model that by setting the limit to 1. \n",
    " \n",
    "For more complex pieces (such as pawns/kings) obviously we would require more lines of code, but with the above generalisations we shouldn't have too much difficulty in defining them..."
   ]
  },
  {
   "cell_type": "code",
   "execution_count": null,
   "metadata": {
    "collapsed": true
   },
   "outputs": [],
   "source": [
    "# Note the following code doesn't work, it is for demonstration purposes only!\n",
    "\n",
    "gameboard = None  # These two variables represent the current board state and a list of the moves played thus far.\n",
    "gamemoves = None\n",
    "\n",
    "##############################################\n",
    "# Because pawn movement is more complicated, we need to build some helper functions...\n",
    "##############################################\n",
    "def check_square(gameboard, square):\n",
    "    \"\"\"\n",
    "    returns what peice (if any) is on the square\n",
    "    \"\"\"\n",
    "    pass\n",
    "\n",
    "def is_enemy(me, them):\n",
    "    \"\"\"\n",
    "    Returns True is other peice is on opposing side, otherwise False.\n",
    "    \n",
    "    >>> is_enemy(\"WHITE\", \"BLACK\")\n",
    "    True\n",
    "    \n",
    "    >>> is_enemy(\"BLACK\", \"BLACK\")\n",
    "    False\n",
    "    \"\"\"\n",
    "    return me == them\n",
    "\n",
    "def prev_moves(game, n):\n",
    "    \"\"\"\n",
    "    returns the previous N moves of the game.\n",
    "    \"\"\"\n",
    "    return game[n:]\n",
    "\n",
    "##########################################\n",
    "# Movement  Function\n",
    "##########################################\n",
    "def pawn_movement(position, my_colour, moved_this_game= False):\n",
    "    \n",
    "    possible_moves = []\n",
    "    \n",
    "    if not moved_this_game: \n",
    "        # pawns are allowed to move 2 squares from thier starting square.\n",
    "        possible_moves.append(orthagonal_movement(position, direction=\"up\", distance = 2))\n",
    "    else:\n",
    "        possible_moves.append(orthagonal_movement(position, direction=\"up\", distance = 1))\n",
    "        \n",
    "    # capture logic...Pawns move diagonally forward ONLY IF they can capture an enemy peice.\n",
    "    d1 = diagonal(position, direction=[\"forwardleft\"], distance= 1)\n",
    "    d2 = diagonal(position, direction=[\"forwardright\"], distance= 1)\n",
    "    \n",
    "    s1 = check_square(gameboard, d1) # see above definition, s1/s2 are pieces, for example s1= \"WHITE KNIGHT\"\n",
    "    s2 = check_square(gameboard, d2)\n",
    "    \n",
    "    if is_enemy(my_colour, s1):\n",
    "        possible_moves.append(d1)\n",
    "    if is_enemy(my_colour, s2):\n",
    "        possible_moves.append(d2)\n",
    "        \n",
    "    # en-passant logic...\n",
    "    # See: https://en.wikipedia.org/wiki/En_passant\n",
    "    if prev_moves(game, 1) # was the last move a pawn moving 2 spaces?\n",
    "    \n",
    "        # if so...is that pawn next to me?\n",
    "              x = # d1 or d2 depending on where the enemy pawn is.\n",
    "              possible_moves.append(x)\n",
    "        \n",
    "    return possible_moves"
   ]
  },
  {
   "cell_type": "markdown",
   "metadata": {},
   "source": [
    "To get the queen moves it took us just one line of code, to get the pawns moving it took considerably more but still less than 20 lines. To get them pawns rolling I wrote a few extra helper functions (e.g. 'prev moves') in order to implement some of the more fiddly rules concerning pawns (e.g en-passant, capturing). \n",
    " \n",
    "Interestingly enough these 'helper functions' would probably be useful for other functions within a chess program too; prev_moves' could used to implement the '50 move rule' and maybe castling. We could also use the 'is_enemy' function to check a if Queen is trying to kill off friendly units!\n",
    "\n",
    "## Conclusion\n",
    " \n",
    "So today we moved away from the nitty-gritty and focused on the ‘big picture’. We looked at a few ways to represent a chess program in Python and although my code today was very ‘loose’ hopefully you guys followed along and understood the main lesson I was trying to teach; **good, thought-out design matters; it makes coding faster, less frustrating, and also more expressive.**\n",
    " \n",
    "As we move toward the final project you would do well to remember some of these principles. Alright that’s it for this lecture, no homework this week. See ya next time!"
   ]
  }
 ],
 "metadata": {
  "kernelspec": {
   "display_name": "Python 3",
   "language": "python",
   "name": "python3"
  },
  "language_info": {
   "codemirror_mode": {
    "name": "ipython",
    "version": 3
   },
   "file_extension": ".py",
   "mimetype": "text/x-python",
   "name": "python",
   "nbconvert_exporter": "python",
   "pygments_lexer": "ipython3",
   "version": "3.6.3"
  }
 },
 "nbformat": 4,
 "nbformat_minor": 2
}
