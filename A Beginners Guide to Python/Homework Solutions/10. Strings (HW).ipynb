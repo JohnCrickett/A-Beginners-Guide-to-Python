{
 "cells": [
  {
   "cell_type": "markdown",
   "metadata": {},
   "source": [
    "# Homework:\n",
    "\n",
    "Name a variable \"cool_story_bro\" and then assign the the following text as a string:\n",
    "\n",
    ">\"Ahhh!!!! spiders!\", cried the monster.\"Don't worry\" said our hero, \"I have a sharp spoon\".\n",
    "\n",
    "Once complete, print it.\n",
    "\n",
    "## Possible Solutions:"
   ]
  },
  {
   "cell_type": "code",
   "execution_count": 10,
   "metadata": {},
   "outputs": [
    {
     "name": "stdout",
     "output_type": "stream",
     "text": [
      "\"Ahhh!!!! spiders!\", cried the monster.\"Don't worry\" said our hero, \"I have a sharp spoon\".\n"
     ]
    }
   ],
   "source": [
    "# Solution One:  Triple Quotes!!\n",
    "cool_story_bro = \"\"\"\"Ahhh!!!! spiders!\", cried the monster.\"Don't worry\" said our hero, \"I have a sharp spoon\".\"\"\"\n",
    "print(cool_story_bro)"
   ]
  },
  {
   "cell_type": "markdown",
   "metadata": {},
   "source": [
    "I’ll be honest, the above solution of using triple-quotes isn’t something I knew about before making the guide. As it turns out this is a really neat solution I think, its clean, readable, and above all simple. "
   ]
  },
  {
   "cell_type": "code",
   "execution_count": 11,
   "metadata": {},
   "outputs": [
    {
     "name": "stdout",
     "output_type": "stream",
     "text": [
      "\"Ahhh!!!! spiders!\", cried the monster.\"Don't worry\" said our hero, \"I have a sharp spoon\".\n"
     ]
    }
   ],
   "source": [
    "# Solution Two: Escape characters...\n",
    "cool_story_bro = '\"Ahhh!!!! spiders!\", cried the monster.\"Don\\'t worry\" said our hero, \"I have a sharp spoon\".'\n",
    "print(cool_story_bro)"
   ]
  },
  {
   "cell_type": "markdown",
   "metadata": {},
   "source": [
    "For this solution we use the single quote character to enclose the string and then we use escape on the ' character in the word “Don't”. \n",
    "\n",
    "    “...Don’t...” ---> “...Don\\’t...”\n",
    "\n",
    "Another clean and simple solution."
   ]
  },
  {
   "cell_type": "code",
   "execution_count": 14,
   "metadata": {},
   "outputs": [
    {
     "name": "stdout",
     "output_type": "stream",
     "text": [
      "\"Ahhh!!!! spiders!\", cried the monster.\"Don't worry\" said our hero, \"I have a sharp spoon\".\n"
     ]
    }
   ],
   "source": [
    "# Solution Three: Splitting up the string into seperate parts...\n",
    "a = '\"Ahhh!!!! spiders!\", cried the monster.\"Don'\n",
    "b = \"'t \"\n",
    "c = \"worry\"\n",
    "d =  '\" said our hero, \"I have a sharp spoon\".'\n",
    "\n",
    "cool_story_bro = a + b + c + d\n",
    "print(cool_story_bro)"
   ]
  },
  {
   "cell_type": "markdown",
   "metadata": {},
   "source": [
    "This third solution of splitting the word up into parts is just plain terrible compared to the other two ways of doing it; its less readable, more complex and above all else utterly necessary.\n",
    "\n",
    "As for the best method to use, I think its a close race between solution #1 and #2, but I think #1 wins it for me because this solution is a bit more scalable. I mean think about it, if the string we are handling is part of a book we have to process then its possible that there are going to be hundreds of ‘ in the document; *David’s spoon, can’t, won’t, o’clock* are just a tiny handful of possible phrases that could exist. Do we really want to go through a manuscript to find and then correct such instances? Triple quotes are simply more economical.  "
   ]
  }
 ],
 "metadata": {
  "kernelspec": {
   "display_name": "Python 3",
   "language": "python",
   "name": "python3"
  },
  "language_info": {
   "codemirror_mode": {
    "name": "ipython",
    "version": 3
   },
   "file_extension": ".py",
   "mimetype": "text/x-python",
   "name": "python",
   "nbconvert_exporter": "python",
   "pygments_lexer": "ipython3",
   "version": "3.5.2"
  }
 },
 "nbformat": 4,
 "nbformat_minor": 2
}
