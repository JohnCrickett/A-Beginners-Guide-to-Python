{
 "cells": [
  {
   "cell_type": "markdown",
   "metadata": {},
   "source": [
    "# Homework Assignment:\n",
    "\n",
    "> Prove that for ALL primes the the ONLY triple prime is [3,5,7]"
   ]
  },
  {
   "cell_type": "markdown",
   "metadata": {},
   "source": [
    "# Possible Solution\n",
    "\n",
    "Proof by cases. \n",
    "\n",
    "    Premise 1: \n",
    "\n",
    "For any N, a prime triplet can be written in the form [N, N+2, N+4]\n",
    "\n",
    "    Our Method:\n",
    "\n",
    "If we can prove that for any N: either N, N+2, or N+4 is divisible by some number, D (where D is not either 1 or N) then we have proved that for that at least one number in the triplet is not prime, and therefore the sequence is not a prime triplet. \n",
    "  \n",
    "For any number, N, we can show that either N, N+2, or N+4 is divisible by the number 3. And since, by definition, a Prime is divisible by itself and 1 only we can show that the only prime triplet is [3, 5, 7].\n",
    "\n",
    "    Our Proof(by cases), Case 1:\n",
    "\n",
    "Suppose N (or N-3) is divisible by 3. This means the sequence N, N+2, N+4 cannot be a prime triplet unless one of the numbers is 3. Case closed.  \n",
    "\n",
    "    Case 2:\n",
    "    \n",
    "Lets suppose N-1 is divisible by 3. \n",
    "\n",
    "If N-1 is divisible by 3 then this means (N-1) + 3 is the next number divisible by 3. This simplifies to N + 2. This means the sequence N, N+2, N+4 cannot be a prime triplet. Case closed.  \n",
    "\n",
    "    Case 3:\n",
    "    \n",
    "Lets suppose N-2 is divisible by 3. The Next number divisible by 3 is there N-2+3. or N+1. If N+1 is divisible by 3, then so is N+1+3 (N+4).\n",
    "\n",
    "This means the sequence N, N+2, N+4 cannot be a prime triplet. Case closed.\n",
    "\n",
    "    Conclusion\n",
    "    \n",
    "We have enumerated all cases, and in each case one of N, N+2, N+4 is divisible by 3. Therefore there cannot be any prime triplet other that [3,5,7].\n",
    "\n",
    "~ Q.E.D"
   ]
  }
 ],
 "metadata": {
  "kernelspec": {
   "display_name": "Python 3",
   "language": "python",
   "name": "python3"
  },
  "language_info": {
   "codemirror_mode": {
    "name": "ipython",
    "version": 3
   },
   "file_extension": ".py",
   "mimetype": "text/x-python",
   "name": "python",
   "nbconvert_exporter": "python",
   "pygments_lexer": "ipython3",
   "version": "3.5.2"
  }
 },
 "nbformat": 4,
 "nbformat_minor": 2
}
