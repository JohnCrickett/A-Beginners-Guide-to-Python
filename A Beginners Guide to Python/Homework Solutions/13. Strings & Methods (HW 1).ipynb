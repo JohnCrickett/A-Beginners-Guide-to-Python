{
 "cells": [
  {
   "cell_type": "markdown",
   "metadata": {},
   "source": [
    "# Homework Assignment #1\n",
    "\n",
    "Your first homework assignment for this week is to take the variable named \"text\" (this has been defined for you)  and count the number of times \"z\" occurs AND the letter \"k\" occurs. Add those numbers up and print the result.\n",
    "\n",
    "As a further complication,  we **DO NOT** care about case (e.g. ‘z’ and ‘Z’ should both be included in the count).\n",
    "\n",
    "Don’t feel bad if you struggle, this homework is a step up in difficulty compared to normal. Oh and I have also included a few test cases below that should help you figure out what do to (just in case my instructions were not clear enough).\n",
    "\n",
    "For bonus difficulty, make your code work for any letter (e.g. \"a\", \"b\" returns the count of 'a' + 'A' + 'b' + 'B')."
   ]
  },
  {
   "cell_type": "code",
   "execution_count": null,
   "metadata": {
    "collapsed": true
   },
   "outputs": [],
   "source": [
    "text = \"zzzzzzzzzzzzzzzzzzzzzzzzzzzzzzZZZZeeeewwwwwwwwkKewewe2324____23!!!!!fsdffskdsdzzzzZZZZZZZZZZZZZZZZroiooioi\"\n",
    "\n",
    "# Simple Examples (string --> total you should return)\n",
    "# \"zZ\"       --> 2\n",
    "# \"kK\"       --> 2\n",
    "# \"KZ\"       --> 2\n",
    "# \"1aZZZabc\" --> 3\n",
    "# \"hello\"    --> 0\n",
    "# \"ZzKk\"     --> 4\n",
    "\n",
    "\n",
    "# Your code goes here..."
   ]
  },
  {
   "cell_type": "markdown",
   "metadata": {},
   "source": [
    "## Possible Solutions..."
   ]
  },
  {
   "cell_type": "code",
   "execution_count": 4,
   "metadata": {},
   "outputs": [
    {
     "name": "stdout",
     "output_type": "stream",
     "text": [
      "Solution 1:  57\n",
      "Solution 2:  57\n",
      "Solution 3:  57\n",
      "Solution 4:  57\n"
     ]
    }
   ],
   "source": [
    "text = \"zzzzzzzzzzzzzzzzzzzzzzzzzzzzzzZZZZeeeewwwwwwwwkKewewe2324____23!!!!!fsdffskdsdzzzzZZZZZZZZZZZZZZZZroiooioi\"\n",
    "\n",
    "##################################### Solution #1  ###################################\n",
    "\n",
    "a = \"Z\"  # set a,b to any letter you like in order to solve the bonus problem.\n",
    "b = \"K\"\n",
    "text2 = text.upper()\n",
    "result = text2.count(a) + text2.count(b)\n",
    "print(\"Solution 1: \", result)\n",
    "\n",
    "##################################### Solution #2  ###################################\n",
    "\n",
    "a1 = \"Z\"\n",
    "a2 = \"z\"\n",
    "b1 = \"K\"\n",
    "b2 = \"k\"\n",
    "result2 = text.count(a1) + text.count(a2) + text.count(b1) + text.count(b2)\n",
    "print (\"Solution 2: \", result2)\n",
    "\n",
    "##################################### Solution #3  ###################################\n",
    "\n",
    "# Note, we shall cover for-loops later on in this course.\n",
    "\n",
    "seq = \"KZkz\"  # <--- change this to solve bonus problem\n",
    "counter = 0\n",
    "for character in text:\n",
    "    if character in seq:\n",
    "        counter += 1\n",
    "print(\"Solution 3: \", counter)\n",
    "\n",
    "##################################### Solution #4  ###################################\n",
    "\n",
    "# Note, this is an advanced solution, I don't expect you to understand it.\n",
    "# I just wanted to show off, lol\n",
    "\n",
    "seq = \"KZkz\"\n",
    "result4 = len([i for i in text if i in seq])\n",
    "print(\"Solution 4: \", result4)"
   ]
  },
  {
   "cell_type": "markdown",
   "metadata": {},
   "source": [
    "> Okay so what’s the best solution? \n",
    "\n",
    "Well solution #1 is more concise the solution #2, instead of looking for “kK” the code just converts everything to upper-case which means it only has to count capital letters. In order to save two or three lines of code we create a new string (or overwrite the old one) and that upper on it. For very very large strings this is probably quite slower (but still probably faster than solution #2).\n",
    "\n",
    "Solution #4 is basically looking at every character in the string and if it is a character it is looking for (e.g “K” or “z”) it adds it the list and returns the length of the list. In terms of performance this solution is building a list (which could cost a lot of memory) only to discard it and return a single number (i.e. the length of the list). On the bright-side, at just two lines of code its the most concise solution we have.  \n",
    "\n",
    "Overall though, I think solution #3 is probably the best; it should be decent in terms of performance (both memory and speed) and is quite readable.  "
   ]
  }
 ],
 "metadata": {
  "kernelspec": {
   "display_name": "Python 3",
   "language": "python",
   "name": "python3"
  },
  "language_info": {
   "codemirror_mode": {
    "name": "ipython",
    "version": 3
   },
   "file_extension": ".py",
   "mimetype": "text/x-python",
   "name": "python",
   "nbconvert_exporter": "python",
   "pygments_lexer": "ipython3",
   "version": "3.5.2"
  }
 },
 "nbformat": 4,
 "nbformat_minor": 2
}
