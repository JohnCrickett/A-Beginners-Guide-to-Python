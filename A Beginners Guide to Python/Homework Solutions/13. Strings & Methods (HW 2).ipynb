{
 "cells": [
  {
   "cell_type": "markdown",
   "metadata": {},
   "source": [
    "# Homework Assignment #2\n",
    "\n",
    "Your working on a program that has a greeting message and a goodbye message for several languages. Your job is to simply make the code more elegant and readable. Do what ever you think needs doing (note, there isn't really a right/wrong awnser)."
   ]
  },
  {
   "cell_type": "code",
   "execution_count": null,
   "metadata": {
    "collapsed": true
   },
   "outputs": [],
   "source": [
    "# Make this more readable...\n",
    "\n",
    "bye_spain = \"buenas noches\"\n",
    "english_greeting = \"hello\"\n",
    "english_goodbye = \"sod off, lad\"\n",
    "greeting_japanese = \"konichiwa\"\n",
    "spanish_greeting = \"hola\"\n",
    "hello_in_french = \"bonjour\"\n",
    "japanese_bye = \"sayonara\""
   ]
  },
  {
   "cell_type": "markdown",
   "metadata": {},
   "source": [
    "## Possible solution #1\n",
    "\n",
    "Here we sort by language, and for each language the greeting is listed before goodbye message. Empty lines are used to separate the languages. All variable names are in the format:\n",
    "    \n",
    "    {language}_{greeting/goodbye} "
   ]
  },
  {
   "cell_type": "code",
   "execution_count": null,
   "metadata": {
    "collapsed": true
   },
   "outputs": [],
   "source": [
    "spanish_greeting = \"hola\"\n",
    "spanish_goodbye = \"buenas noches\"\n",
    "\n",
    "japanese_greeting = \"konichiwa\"\n",
    "japanese_goodbye = \"sayonara\"\n",
    "\n",
    "english_greeting = \"hello\"\n",
    "english_goodbye = \"sod off, lad\"\n",
    "\n",
    "french_greeting = \"bonjour\"\n"
   ]
  },
  {
   "cell_type": "markdown",
   "metadata": {},
   "source": [
    "## Possible Solution #2 \n",
    "\n",
    "listed by type(greeting/goodbye), names all standardised to be {type}_{language}. Single empty line separating greetings from goodbyes."
   ]
  },
  {
   "cell_type": "code",
   "execution_count": null,
   "metadata": {
    "collapsed": true
   },
   "outputs": [],
   "source": [
    "greeting_english = \"hello\"\n",
    "greeting_spanish = \"hola\"\n",
    "greeting_japanese = \"konichiwa\"\n",
    "greeting_french = \"bonjour\"\n",
    "\n",
    "goodbye_japanese = \"sayonara\"\n",
    "goodbye_spanish = \"buenas noches\"\n",
    "goodbye_english = \"sod off, lad\"\n"
   ]
  },
  {
   "cell_type": "markdown",
   "metadata": {},
   "source": [
    "## Whats best?\n",
    "\n",
    "This homework was about elegance and readability and thus there is a good amount of subjectivity here. For me personally I feel the #1 is a bit more elegant than the first solution.  In my mind, if I were building a big project think it is better to group by language rather than type, but maybe either is totally fine."
   ]
  },
  {
   "cell_type": "code",
   "execution_count": null,
   "metadata": {
    "collapsed": true
   },
   "outputs": [],
   "source": []
  }
 ],
 "metadata": {
  "kernelspec": {
   "display_name": "Python 3",
   "language": "python",
   "name": "python3"
  },
  "language_info": {
   "codemirror_mode": {
    "name": "ipython",
    "version": 3
   },
   "file_extension": ".py",
   "mimetype": "text/x-python",
   "name": "python",
   "nbconvert_exporter": "python",
   "pygments_lexer": "ipython3",
   "version": "3.5.2"
  }
 },
 "nbformat": 4,
 "nbformat_minor": 2
}
