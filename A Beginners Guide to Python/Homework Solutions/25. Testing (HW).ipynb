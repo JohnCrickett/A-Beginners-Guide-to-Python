{
 "cells": [
  {
   "cell_type": "markdown",
   "metadata": {},
   "source": [
    "## Quick recap...\n",
    "\n",
    "Let's take a step back and ask ourselves what division actually is. The answer is basically the opposite of multiplication. And so, we can actually write test cases for our function by \"reverse engineering\" the problem. We know from math that the following are always true: \n",
    "\n",
    "    (y * y) / y = y\n",
    "    (x * y) / y = x\n",
    "\n",
    "and so, so long as we have a function that multiplies correctly, we can be confident that our function is getting the right answer *even though* we do not know what the right answer is ourselves. \n",
    "\n",
    "## Homework assignment\n",
    "\n",
    "Get_primes is a function that takes a list, L, of numbers and returns a list of all the primes found within L. Your task is to finish the test_it function below..."
   ]
  },
  {
   "cell_type": "code",
   "execution_count": null,
   "metadata": {
    "collapsed": true
   },
   "outputs": [],
   "source": [
    "def get_primes(l):\n",
    "    # This function is broken (but please dont fix it!).\n",
    "    return l\n",
    "\n",
    "def get_primes_correct(l):\n",
    "    # correct implementation of get_primes\n",
    "    primes = []\n",
    "    for num in l:\n",
    "        if num == 2:\n",
    "            primes.append(num)\n",
    "        elif num % 2 == 0:\n",
    "            continue\n",
    "        else:\n",
    "            for n in range(3, math.ceil(math.sqrt(num))+1, 2):\n",
    "                if num % n == 0:\n",
    "                    continue\n",
    "            primes.append(num)\n",
    "    return primes\n",
    "\n",
    "### YOUR CODE HERE #### \n",
    "def test_it():\n",
    "    \"\"\"returns a very large list of numbers (1000-to-10,000) and the expected solution when we call Get_primes on that list\"\"\"\n",
    "    # Your code here (note the return statement has already been done for you!)\n",
    "    # l = the big list, solution = a list containing all the primes in l. \n",
    "    return (l, solution)\n",
    "    \n",
    "l, solution = test_it()\n",
    "solution.sort()\n",
    "print(sorted(get_primes(l)) == solution) # This test should fail.\n",
    "print(sorted(get_primes_correct(l)) == solution) # This test should pass."
   ]
  },
  {
   "cell_type": "markdown",
   "metadata": {},
   "source": [
    "## Possible Solution"
   ]
  },
  {
   "cell_type": "code",
   "execution_count": 5,
   "metadata": {},
   "outputs": [],
   "source": [
    "import math\n",
    "import random\n",
    "\n",
    "def test_it():\n",
    "    \"\"\"returns a very large list of numbers and the expected solution when we call Get_primes on that list\"\"\"\n",
    "    solution = [2, 5, 11, 13, 17] \n",
    "    l = solution[:] # shallow copy of solution\n",
    "    \n",
    "    for i in range(2000):\n",
    "        ## By using a step of we can only add even numbers > 6. I.e we CANNOT add primes to the list \n",
    "        x = random.choice(range(6, 10000, 2))\n",
    "        l.append(x)\n",
    "        \n",
    "    random.shuffle(l) # randomises the order.     \n",
    "    # So l is a list of 100 random even numbers > 6 and 5 prime numbers.\n",
    "    # Thus we have a list of size 2005.\n",
    "    # and we know with complete certainity what the solution to get_primes(l) is solution.\n",
    "        \n",
    "    return (l, solution)"
   ]
  },
  {
   "cell_type": "markdown",
   "metadata": {},
   "source": [
    "Now lets test with a proper implementation of get_primes..."
   ]
  },
  {
   "cell_type": "code",
   "execution_count": 8,
   "metadata": {},
   "outputs": [
    {
     "name": "stdout",
     "output_type": "stream",
     "text": [
      "False\n",
      "True\n"
     ]
    }
   ],
   "source": [
    "def get_primes(l):\n",
    "    # This function is broken (but please dont fix it!).\n",
    "    return l\n",
    "\n",
    "def get_primes_correct(l):\n",
    "    # correct implementation of get_primes\n",
    "    primes = []\n",
    "    for num in l:\n",
    "        if num == 2:\n",
    "            primes.append(num)\n",
    "        elif num % 2 == 0:\n",
    "            continue\n",
    "        else:\n",
    "            for n in range(3, math.ceil(math.sqrt(num))+1, 2):\n",
    "                if num % n == 0:\n",
    "                    continue\n",
    "            primes.append(num)\n",
    "    return primes\n",
    "\n",
    "l, solution = test_it()\n",
    "solution.sort()\n",
    "print(sorted(get_primes(l)) == solution) # This test should fail.\n",
    "print(sorted(get_primes_correct(l)) == solution) # This test should pass."
   ]
  },
  {
   "cell_type": "code",
   "execution_count": null,
   "metadata": {
    "collapsed": true
   },
   "outputs": [],
   "source": []
  }
 ],
 "metadata": {
  "kernelspec": {
   "display_name": "Python 3",
   "language": "python",
   "name": "python3"
  },
  "language_info": {
   "codemirror_mode": {
    "name": "ipython",
    "version": 3
   },
   "file_extension": ".py",
   "mimetype": "text/x-python",
   "name": "python",
   "nbconvert_exporter": "python",
   "pygments_lexer": "ipython3",
   "version": "3.5.2"
  }
 },
 "nbformat": 4,
 "nbformat_minor": 2
}
