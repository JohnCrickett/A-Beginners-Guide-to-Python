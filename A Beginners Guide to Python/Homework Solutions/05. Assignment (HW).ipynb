{
 "cells": [
  {
   "cell_type": "markdown",
   "metadata": {},
   "source": [
    "# Homework\n",
    "\n",
    "1. create a variable called \"my_name\". Its value should be your name (a string).\n",
    "2. create a variable called \"kitchen_utensil\". its value should be your favourite kitchen tool. Personally, I like a good spoon (a string).\n",
    "3. Now type into python:    \n",
    "        print(\"Hello, my name is \" + my_name + \" and one time, at band-camp, I used a \" + kitchen_utensil + \".\")\n",
    "        \n",
    "## Possible Solution"
   ]
  },
  {
   "cell_type": "code",
   "execution_count": 5,
   "metadata": {},
   "outputs": [
    {
     "name": "stdout",
     "output_type": "stream",
     "text": [
      "Hello, my name is Chris and one time, at band-camp, I used a big fat shiny spoon.\n"
     ]
    }
   ],
   "source": [
    "my_name = \"Chris\"\n",
    "kitchen_utensil = \"big fat shiny spoon\"\n",
    "\n",
    "print(\"Hello, my name is \" + my_name + \" and one time, at band-camp, I used a \" + kitchen_utensil + \".\")"
   ]
  }
 ],
 "metadata": {
  "kernelspec": {
   "display_name": "Python 3",
   "language": "python",
   "name": "python3"
  },
  "language_info": {
   "codemirror_mode": {
    "name": "ipython",
    "version": 3
   },
   "file_extension": ".py",
   "mimetype": "text/x-python",
   "name": "python",
   "nbconvert_exporter": "python",
   "pygments_lexer": "ipython3",
   "version": "3.5.2"
  }
 },
 "nbformat": 4,
 "nbformat_minor": 2
}
