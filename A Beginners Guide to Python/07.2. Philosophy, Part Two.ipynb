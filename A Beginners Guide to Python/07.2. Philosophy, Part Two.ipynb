{
 "cells": [
  {
   "cell_type": "markdown",
   "metadata": {},
   "source": [
    "## “Explicit is better than implicit”\n",
    "\n",
    "What does this line of the poem refer to? Well, there are several examples and interpretations one could give, but today I would to interpret this line with reference to the idea of readability. \n",
    "\n",
    "We wrapped part one by talking about a function that contains no defenses against misue. To jog your memory, here's the code again:"
   ]
  },
  {
   "cell_type": "code",
   "execution_count": 9,
   "metadata": {
    "collapsed": true
   },
   "outputs": [],
   "source": [
    "def net_force(mass, acceleration):\n",
    "    return mass * acceleration  "
   ]
  },
  {
   "cell_type": "markdown",
   "metadata": {},
   "source": [
    "in a very literal this function takes two objects and returns mass * acceleration. What does that mean? Why should we care? Well, the meaning of this code is implicit, the author just assumes you are going to understand what it does and how to use it. The premise of today's lecture is that this code can be rewritten to be more explicit, and being explicit is to be prefered. \n",
    "\n",
    "To be more precise, the code make two implicit assumpts:\n",
    "\n",
    "1. The end user has a basic understanding of Physics. \n",
    "1. The end user knows to pass it numbers. \n",
    "\n",
    "Regarding the second point above I'm not going to explain *why* this is a problem today *(for that explanation, see Operator Overloading)*, but I will propose a few possible fixes. But first things first, lets talk physics!\n",
    "\n",
    "To People with a modest background in Physics its pretty obvious all we are doing is taking the formula for force, ***f=ma***, and putting it in code form. \n",
    "\n",
    "But to understand the problem with the code, we need to imagine talking to someone that NEVER took a physics lesson at school before. For this person, they understand that we are multiplying two numbers (i.e. Mass, Acceleration) but they have not concept of what the result *actually means.* In short, the code only returns *force* if you know the physics, for everyone else the function returns two numbers multiplied together.\n",
    "\n",
    "In short, the code is being implicit but the poem tells us to be explicit. Alright, let's try and fix that now... "
   ]
  },
  {
   "cell_type": "code",
   "execution_count": 10,
   "metadata": {},
   "outputs": [
    {
     "name": "stdout",
     "output_type": "stream",
     "text": [
      "100.0\n"
     ]
    }
   ],
   "source": [
    "def net_force(mass, acceleration):\n",
    "    force = float(mass * acceleration)\n",
    "    return force\n",
    "\n",
    "print(net_force(10,10))"
   ]
  },
  {
   "cell_type": "markdown",
   "metadata": {},
   "source": [
    "Okay so this code does two things differently; (1) is makes *what* we are doing more explicit and (2) this code will throw up errors if misused. \n",
    "\n",
    "## Defining Force\n",
    "\n",
    "This code does one more thing that makes things more explicit. instead of returning:\n",
    "\n",
    "    Mass * Acceleration\n",
    "    \n",
    "we now return:\n",
    "\n",
    "    Force \n",
    "    \n",
    "...And the line above the return statement clearly assigns force to 'Mass \\* Acceleration'. So now even those readers without the physics background understand the meaning behind what we are doing; the function isn't merely returning A times B, its returning *force*. \n",
    "\n",
    "## Converting to a float\n",
    "\n",
    "In the function above the keyword 'float' is used. We shall cover floats in more detail later on, but for now I think it is suffice to say a float is a decimal number. The float keyword takes X as an input and returns X as a decimal. If we cannot convert X into a decimal, that means float(X) would return an error. Let’s see a few examples:"
   ]
  },
  {
   "cell_type": "code",
   "execution_count": 11,
   "metadata": {},
   "outputs": [
    {
     "name": "stdout",
     "output_type": "stream",
     "text": [
      "10.0\n",
      "2.4\n",
      "3.2\n"
     ]
    },
    {
     "ename": "ValueError",
     "evalue": "could not convert string to float: 'hello'",
     "output_type": "error",
     "traceback": [
      "\u001b[0;31m---------------------------------------------------------------------------\u001b[0m",
      "\u001b[0;31mValueError\u001b[0m                                Traceback (most recent call last)",
      "\u001b[0;32m<ipython-input-11-36ccd7a850db>\u001b[0m in \u001b[0;36m<module>\u001b[0;34m()\u001b[0m\n\u001b[1;32m      2\u001b[0m \u001b[0mprint\u001b[0m\u001b[0;34m(\u001b[0m\u001b[0mfloat\u001b[0m\u001b[0;34m(\u001b[0m\u001b[0;36m2.4\u001b[0m\u001b[0;34m)\u001b[0m\u001b[0;34m)\u001b[0m      \u001b[0;31m# 2.4 is already a float, so it doesn't change.\u001b[0m\u001b[0;34m\u001b[0m\u001b[0m\n\u001b[1;32m      3\u001b[0m \u001b[0mprint\u001b[0m\u001b[0;34m(\u001b[0m\u001b[0mfloat\u001b[0m\u001b[0;34m(\u001b[0m\u001b[0;34m\"3.2\"\u001b[0m\u001b[0;34m)\u001b[0m\u001b[0;34m)\u001b[0m    \u001b[0;31m# This string can be represented as a decimal number \"3.2\" --> 3.2\u001b[0m\u001b[0;34m\u001b[0m\u001b[0m\n\u001b[0;32m----> 4\u001b[0;31m \u001b[0mprint\u001b[0m\u001b[0;34m(\u001b[0m\u001b[0mfloat\u001b[0m\u001b[0;34m(\u001b[0m\u001b[0;34m\"hello\"\u001b[0m\u001b[0;34m)\u001b[0m\u001b[0;34m)\u001b[0m  \u001b[0;31m# An error, we cannot convert a string like \"hello\" to a number.\u001b[0m\u001b[0;34m\u001b[0m\u001b[0m\n\u001b[0m",
      "\u001b[0;31mValueError\u001b[0m: could not convert string to float: 'hello'"
     ]
    }
   ],
   "source": [
    "print(float(10))       # 10 --> 10.0\n",
    "print(float(2.4))      # 2.4 is already a float, so it doesn't change.\n",
    "print(float(\"3.2\"))    # This string can be represented as a decimal number \"3.2\" --> 3.2\n",
    "print(float(\"hello\"))  # An error, we cannot convert a string like \"hello\" to a number."
   ]
  },
  {
   "cell_type": "markdown",
   "metadata": {},
   "source": [
    "In our net_force function 'X' is *mass \\* acceleration* and If X cannot be converted to a float we get an error. In the 'importance of errors' lecture I will explain both *how* X could fail to return a number and *why* we should care. But until then you'll just have to take my word for it when I say this line:\n",
    "\n",
    "    mass * acceleration\n",
    "    \n",
    "Is not as good as this line of code (generally speaking):\n",
    "\n",
    "    float(mass * acceleration)\n",
    "\n",
    "## We ain't finished Yet!\n",
    "\n",
    "Lets study the following two lines of code within our net_force function:\n",
    "\n",
    "    force = float(mass * acceleration)\n",
    "    return force\n",
    "    \n",
    "Can someone remind me why we are doing this instead of the much more simple:\n",
    "\n",
    "    return float(mass * acceleration)\n",
    "    \n",
    "The answer I gave just moments ago is that the former code makes it more explicit what we are doing, even readers without an understanding of physics can grasp what the number we are returning *actually means. *\n",
    "\n",
    "However, there is a problem with this:\n",
    "\n",
    "> \"Do we really want to add code to our function whose sole purpose is to make things readable?\"\n",
    "\n",
    "Honestly that is exactly what we have done in this case, defining and then returning force simply adds an unnecessary step. Unnecessary lines of code *harms* readability which is ironic since we only added this unnecessary line to make the code more readable! \n",
    "\n",
    "As a matter of fact there is a solution to this problem, we could just add an in-line comment like this:\n",
    "\n",
    "    # ...and now we return force...\n",
    "    return float(mass * acceleration)\n",
    "\n",
    "Such a comment makes the code more explicit, but doesn't add unnecessary code. So already this looks like a better solution. It turns out though we can do even better than a comment, we can add a ‘docstring’:"
   ]
  },
  {
   "cell_type": "code",
   "execution_count": null,
   "metadata": {
    "collapsed": true
   },
   "outputs": [],
   "source": [
    "def net_force(mass, acceleration):\n",
    "    \"\"\"\n",
    "    Calculates f=ma, returns force.\n",
    "    We assume mass & acceleration are of type int/float.\n",
    "    \"\"\"\n",
    "    return mass * acceleration"
   ]
  },
  {
   "cell_type": "markdown",
   "metadata": {},
   "source": [
    "## Docstrings\n",
    "\n",
    "The above code has a new concept to talk about. The red text encased in triple quotes is called a docstring, its a special of string that Python Programmers use to communicate with each other. Usually docstrings contain information about how the function works, and how to use it. Such is the case here.  \n",
    "\n",
    "\tThe Syntax\n",
    "\t“””\n",
    "\t{Text}\n",
    "\t“”” \n",
    "\n",
    "The particular docstring above tells use that the function expected us to give floats, and it also mentions what it is supposed to do (i.e. calculate f=ma). In short, adding documentation has helped make our function much more explict. And for what it is worth, adding docstrings to all your functions is generally regarded as good practice.\n",
    "\n",
    "## What solution is best?\n",
    "\n",
    "After some discussion it seems like we have two reasonable approaches to writing this function. We can add docummentation and leave it at that OR we can add the docummentation and also convert the result to a float. Let’s put the two code samples next to one another, for ease of comparision."
   ]
  },
  {
   "cell_type": "code",
   "execution_count": null,
   "metadata": {
    "collapsed": true
   },
   "outputs": [],
   "source": [
    "# DOCUMENTATION ONLY ... \n",
    "def net_force(mass, acceleration):\n",
    "    \"\"\"\n",
    "    Calculates f=ma, returns force.\n",
    "    We assume mass, acceleration are of type int/float.\n",
    "    \"\"\"\n",
    "    return mass * acceleration\n",
    "\n",
    "# Having the cake AND eating it!\n",
    "def net_force(mass, acceleration):\n",
    "    \"\"\"\n",
    "    Calculates f=ma, returns force (a float).\n",
    "    We assume mass, acceleration are of type int/float.\n",
    "    \"\"\"\n",
    "    return float(mass * acceleration)"
   ]
  },
  {
   "cell_type": "markdown",
   "metadata": {},
   "source": [
    "These two functions are of course highly similar, the only difference is that one function is a bit more ‘restrictive’, should the end-user input data that cannot be converted to a float then the function returns an error. On the plus side this float conversion helps protect against misuse because ‘silly’ inputs will just be rejected. Meanwhile the documentation only function may let such such ‘silly’ inputs slide on through.  \n",
    "\n",
    "Essentially we can frame this discussion within a much broader context:\n",
    "\n",
    ">“Just how much freedom are we willing to cede to end-users?”\n",
    "\n",
    "## Freedom & Responsibility\n",
    "\n",
    "In Python there is a saying: \n",
    "\n",
    "> \"We are all responsible users\"\n",
    "\n",
    "The meaning of that quote is basically *\"hey, if you use my code I trust that you will call my code how it is intended to be called. If my code breaks because you did something I didn't anticipate then that’s not my fault, its yours”.*\n",
    "\n",
    "And lets not forget that...\n",
    "\n",
    "> \"...with great freedom comes great responsibility\" ~ Eleanor Roosevelt\n",
    "\n",
    "This idea openness and responsibility is very much core to Python Philosophy; the language allows you tinker with almost everything, and this incredible freedom is ultimately underpinned by a conventional wisdom that trusts you to be responsible. \n",
    "\n",
    "Think about it this way; if I write a piece of code has a bunch of 'helpful warnings' in the documentation but it doesn't ‘hard-wire’ any checks or tests for input then that means other developers have have the ability to use the code in unexpected ways; maybe the behaviour you consider *problematic* or ;'silly' is actually *useful* for some other developer out-there who wants to use your code for an entirely different purpose. \n",
    "\n",
    "All things considered what approach is best will depend on the intended purpose and nor is the matter ‘black or white’. But for now, let’s sum up this rather lengthy section by simply saying: \n",
    "* Document your code\n",
    "*  ...And if you have good documentation, you can get away with having less error checking. "
   ]
  }
 ],
 "metadata": {
  "kernelspec": {
   "display_name": "Python 3",
   "language": "python",
   "name": "python3"
  },
  "language_info": {
   "codemirror_mode": {
    "name": "ipython",
    "version": 3
   },
   "file_extension": ".py",
   "mimetype": "text/x-python",
   "name": "python",
   "nbconvert_exporter": "python",
   "pygments_lexer": "ipython3",
   "version": "3.5.2"
  }
 },
 "nbformat": 4,
 "nbformat_minor": 2
}
