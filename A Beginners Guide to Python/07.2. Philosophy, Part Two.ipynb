{
 "cells": [
  {
   "cell_type": "markdown",
   "metadata": {},
   "source": [
    "## “Explicit is better than implicit”\n",
    "\n",
    "What does this line of the poem refer to? Well, there are several examples and interpretations one could give, but today I would to interpret this line with reference to the idea of readability. \n",
    "\n",
    "We wrapped part one by talking about a function that contains no defenses against misuse. To jog your memory, here's the code again:"
   ]
  },
  {
   "cell_type": "code",
   "execution_count": 9,
   "metadata": {
    "collapsed": true
   },
   "outputs": [],
   "source": [
    "def net_force(mass, acceleration):\n",
    "    return mass * acceleration  "
   ]
  },
  {
   "cell_type": "markdown",
   "metadata": {},
   "source": [
    "Literally this function takes two objects and returns mass * acceleration; But what does that actually mean? And why should we care? \n",
    " \n",
    "Well, the meaning of this code is implicit, the author just assumes you are going to understand what it does and how to use it. The premise of today's lecture however is that this code can be rewritten to be more explicit, and being explicit is generally to be prefered. \n",
    " \n",
    "To be more precise, the code make two implicit assumptions:\n",
    "\n",
    "1. The end user has a basic understanding of Physics. \n",
    "1. The end user knows to pass it numbers. \n",
    "\n",
    "Regarding the second point above I'm not going to explain *why* this is a problem today *(for that explanation, see lecture on Operator Overloading)*, but I will propose a few possible fixes. But first things first, lets talk physics!\n",
    "\n",
    "To People with a modest background in Physics it is pretty obvious all we are doing is taking the formula for force, ***f=ma***,\n",
    "and putting it in code form.\n",
    "\n",
    "But to understand the problem with the code, we need to imagine talking to someone that NEVER took a physics lesson at school before. For this person, they understand that we are multiplying two numbers (i.e. Mass, Acceleration) but they have not concept of what the result *actually means.* In short, the code only returns *force* if you know the physics, for everyone else the function return simply returns two numbers multiplied together.\n",
    "\n",
    "In short, the code is being implicit but the poem tells us to be explicit. Alright, let's try and fix that now... "
   ]
  },
  {
   "cell_type": "code",
   "execution_count": 1,
   "metadata": {},
   "outputs": [
    {
     "name": "stdout",
     "output_type": "stream",
     "text": [
      "100\n"
     ]
    }
   ],
   "source": [
    "def net_force(mass, acceleration):\n",
    "    force = mass * acceleration\n",
    "    return force\n",
    "\n",
    "print(net_force(10,10))"
   ]
  },
  {
   "cell_type": "markdown",
   "metadata": {},
   "source": [
    "## Defining Force\n",
    "\n",
    "This code does one more thing that makes things more explicit. instead of returning:\n",
    "\n",
    "    Mass * Acceleration\n",
    "    \n",
    "we now return:\n",
    "\n",
    "    Force \n",
    "    \n",
    "...And the line above the return statement clearly assigns force to 'Mass \\* Acceleration'. So now even those readers without the physics background understand the meaning behind what we are doing; the function isn't merely returning A times B, its returning *force*. \n",
    "    \n",
    "So, we have succesfully made our code more explicit, even readers without an understanding of physics can grasp what the number we are returning *actually means. *\n",
    "\n",
    "However, there is a problem with this:\n",
    "\n",
    "> \"Do we really want to add code to our function whose sole purpose is to make things readable?\"\n",
    "\n",
    "Honestly that is exactly what we have done in this case, defining and then returning force simply adds an unnecessary step. Unnecessary lines of code *harms* readability which is ironic since we only added this unnecessary line to make the code more readable! \n",
    "\n",
    "As a matter of fact there is a solution to this problem, we could just add an in-line comment like this:\n",
    "\n",
    "    # ...and now we return force...\n",
    "    return mass * acceleration\n",
    "\n",
    "Such a comment makes the code more explicit, but doesn't add unnecessary code. So already this looks like a better solution. It turns out though we can do even better than a comment, we can add a ‘docstring’:"
   ]
  },
  {
   "cell_type": "code",
   "execution_count": null,
   "metadata": {
    "collapsed": true
   },
   "outputs": [],
   "source": [
    "def net_force(mass, acceleration):\n",
    "    \"\"\"\n",
    "    Calculates f=ma, returns force.\n",
    "    We assume mass & acceleration are of type int/float.\n",
    "    \"\"\"\n",
    "    return mass * acceleration"
   ]
  },
  {
   "cell_type": "markdown",
   "metadata": {},
   "source": [
    "## Docstrings\n",
    "\n",
    "The above code has a new concept to talk about. The red text encased in triple quotes is called a docstring, it is a special type of string that Python Programmers use to communicate with each other. Usually docstrings contain information about how the function works, and how to use it. Such is the case here. Docstrings can also serve as another way to write comments that span several lines.\n",
    "\n",
    "\tThe Syntax\n",
    "\t\"\"\"\n",
    "\t{Text}\n",
    "\t\"\"\"\n",
    "\n",
    "The particular docstring above tells use that the function expected us to give floats, and it also mentions what it is supposed to do (i.e. calculate f=ma). In short, adding documentation has helped make our function much more explicit. And for what it is worth, adding docstrings to all your functions is generally regarded as good practice."
   ]
  }
 ],
 "metadata": {
  "kernelspec": {
   "display_name": "Python 3",
   "language": "python",
   "name": "python3"
  },
  "language_info": {
   "codemirror_mode": {
    "name": "ipython",
    "version": 3
   },
   "file_extension": ".py",
   "mimetype": "text/x-python",
   "name": "python",
   "nbconvert_exporter": "python",
   "pygments_lexer": "ipython3",
   "version": "3.6.3"
  }
 },
 "nbformat": 4,
 "nbformat_minor": 2
}
