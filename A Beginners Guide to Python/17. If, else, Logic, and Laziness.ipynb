{
 "cells": [
  {
   "cell_type": "markdown",
   "metadata": {},
   "source": [
    "## If, else, Logic, and Laziness\n",
    "\n",
    "These commands are Python break and butter! You would do well to pay attention to this lecture because 'if statements' are both very common and very useful with Python code. \n",
    "\n",
    "There are a few ways to use the if statement within your code, and each way has slightly different syntax. For now, we are going to focus on in-line expressions. \n",
    "\n",
    "    The Syntax:\n",
    "    {value} if {condition} else {value_2}  \n",
    "    * Caveat: {condition} must evaluate to a boolean value (True or False).\n",
    "\n",
    "This code will return {value} if the condition is True. If the condition is False we return whatever is in the \"else\" bit of the code, i.e. {value_2}. To restate the logic in normal English:\n",
    "\n",
    "> \"If the condition is true we do {this} but if the condition is False we do {that}\".\n",
    "    \n",
    "Okay, lets show you how this works with an example. You guys remember how \"input\" works, right?"
   ]
  },
  {
   "cell_type": "code",
   "execution_count": 10,
   "metadata": {},
   "outputs": [
    {
     "name": "stdout",
     "output_type": "stream",
     "text": [
      "give me integer... 23\n",
      "23 is NOT divisible by four\n"
     ]
    }
   ],
   "source": [
    "# Takes a number as input, prints whether that number is divisible by 4.\n",
    "text = input(\"give me integer... \")\n",
    "\n",
    "result = \"{} is divisible by 4\".format(text) if int(text) % 4 == 0 else \"{} is NOT divisible by four\".format(text)\n",
    "\n",
    "print(result)"
   ]
  },
  {
   "cell_type": "markdown",
   "metadata": {},
   "source": [
    "I would recommend you call this function a few times, to ensure you understand it. Notice that \"result\" has different values depending on whether the number you gave is/is not divisible by 4. \n",
    "\n",
    "Notice above when I was speaking of syntax I said the conditions have to be True/False. Let me just quickly show you that it is the case here:"
   ]
  },
  {
   "cell_type": "code",
   "execution_count": 11,
   "metadata": {},
   "outputs": [
    {
     "name": "stdout",
     "output_type": "stream",
     "text": [
      "False\n",
      "True\n"
     ]
    }
   ],
   "source": [
    "print (10 % 4 == 0)\n",
    "print (16 % 4 == 0)\n",
    "\n",
    "# Note: \"==\" is NOT to be confused with \"=\"!!  This has NOTHING TO DO WITH assignment. see below for details"
   ]
  },
  {
   "cell_type": "markdown",
   "metadata": {},
   "source": [
    "# Logic Operators...\n",
    "\n",
    "Before moving on, I should probably give you a bit more Python vocabulary. Again, ** Pay attension** becuase this stuff comes in useful...\n",
    "\n",
    "     SYMBOL + SYNTAX           ::   MEANING    ::               :: EXAMPLE ::                  :: IMPORTANCE ::\n",
    "    \n",
    "         (if) a              if a exists               if a print(a)  \n",
    "         (if) not a          if a does not exist       . . .  \n",
    "         a == b              is a equal to b           10 == 10 is True, 5 == 10 is False.            !!!!!\n",
    "         a != b              is a not equal to b       10 != 10 is False, 5 != 10 is True.\n",
    "         a > b               is a greater than b       10 > 5 is True, 10 > 5 is False\n",
    "         a < b               is a less than b          10 < 5 is False, 5 < 10 is True\n",
    "         a >= b              is a greater or equal b   10 >= 10 is True                               !!\n",
    "         a <= b              is a less or equal b      10 <= 10 is True                               !! \n",
    "         \n",
    "\n",
    "\n",
    "The above table has a bunch of logical operators, with meanings and examples. The importance column highlights the symbols I consider the most important to learn. So if you remember only one symbol today please remember ‘is a equal to b?’ which is ‘==’.  \n",
    "\n",
    "Anyway, I suspect the most complex of these commands to grasp is the simple “if a”. Below I have a few more test cases to help you understand how it works and I also have a section on readability today,  which will help explain why you will frequently see code like *if a != “” * rewritten as *if a*."
   ]
  },
  {
   "cell_type": "code",
   "execution_count": 12,
   "metadata": {},
   "outputs": [
    {
     "name": "stdout",
     "output_type": "stream",
     "text": [
      "if 1 equates to... True\n",
      "if \"\" equates to... False\n",
      "if 0 equates to... False\n",
      "if [] equates to... False\n",
      "if [0] equates to... True\n"
     ]
    }
   ],
   "source": [
    "def exists(x): \n",
    "    return True if x else False\n",
    "    \n",
    "print (\"if 1 equates to...\", exists(10))\n",
    "print (\"if \\\"\\\" equates to...\", exists(\"\"))    # empty string\n",
    "print (\"if 0 equates to...\", exists(0))        # remember True/False are 1/0 in Python\n",
    "print (\"if [] equates to...\", exists([]))      # empty list\n",
    "print (\"if [0] equates to...\", exists([0]))    # list contains 0, therefore list not empty"
   ]
  },
  {
   "cell_type": "markdown",
   "metadata": {},
   "source": [
    "Why does [0] = True and [] = False? The answer is that when we ask Python ‘if a exists’ Python decides that statement is True is a is anything but empty. In other words, an empty string/list is basically the same as not existing and hence returns False. \n",
    "\n",
    "The way this works is a bit tricky to get your hand around, but once you do you can really some really nice *idiomatic code*.\n",
    "\n",
    "## Readibility counts...\n",
    "\n",
    "This is a minor detour, but I feel that I should not be simply teaching you guys how to do stuff, I should be trying to teach you guys how to do stuff in the most *'Pythonic'* way possible. This is a good juncture to talk a little about style. \n",
    "Consider the following code:\n",
    "\n",
    "    if variable != []:\n",
    "        {do something} \n",
    "    \n",
    "    OR:\n",
    "    \n",
    "    if variable == True:\n",
    "        {do something}    \n",
    "        \n",
    "The fist code snippet asks if 'variable' is an empty list. If it isn't empty we enter the main body of code and do something (see indentation). The second snippet of code asks if our value is equal to the value True. \n",
    "In many cases code like this can be written to be more 'Pythonic'. You see, both these statements are essentially asking 'if variable exists do X', which means we can refactor this to:\n",
    "\n",
    "    if variable:\n",
    "        {do something}\n",
    "\n",
    "Another example...\n",
    "\n",
    "    if variable == {value}:\n",
    "        return True\n",
    "    else:\n",
    "        return False\n",
    "        \n",
    "So this code is part of a function. The function returns True is the variable is equal to some value and returns False otherwise. Just as before it is important to note that this code works, BUT, it can be rewritten like this:\n",
    "\n",
    "    return True if variable == {value} else False\n",
    "    \n",
    "But guess what, we can further refactor this code, since \"==\" always returns a boolean (ie. True/False) the \"True if\" is simply not necessary. So even better is: \n",
    "\n",
    "    return variable == {value}\n",
    "    \n",
    "Thats four lines of code condensed into one simple expression. Neat huh? Alright, that's enough about readability for today’s lecture, lets move on."
   ]
  },
  {
   "cell_type": "markdown",
   "metadata": {},
   "source": [
    "## Understanding the operators...\n",
    "\n",
    "In the code window below I have written a bit of code that will ask you for two variables (a, b) and an operator. It will then tell you whether that condition is True or False.\n",
    "\n",
    "For example:\n",
    "\n",
    "a is 10\n",
    "b is 16\n",
    "operator is >=\n",
    "\n",
    "In which case, the code will figure out whether 10 >= 16 is True or False. I'd recommend calling this code a few times with different inputs in order to get a proper feel for what's going on. "
   ]
  },
  {
   "cell_type": "code",
   "execution_count": 13,
   "metadata": {},
   "outputs": [
    {
     "name": "stdout",
     "output_type": "stream",
     "text": [
      "\n",
      "Give me variable 'a' 3\n",
      "Now give me variable 'b' 5\n",
      "give me an operator (e.g '==', '!=', '>', etc ==\n",
      "\n",
      "The statement is 3 == 5...\n",
      "   The statement is False\n"
     ]
    }
   ],
   "source": [
    "a = input(\"\\nGive me variable 'a' \")\n",
    "b = input(\"Now give me variable 'b' \")\n",
    "op = input(\"give me an operator (e.g '==', '!=', '>', etc \")\n",
    "\n",
    "string = \"{} {} {}\".format(a, op, b)\n",
    "print(\"\\nThe statement is {}...\".format(string), \"The statement is {}\".format(eval(string)), sep=\"\\n   \")"
   ]
  },
  {
   "attachments": {
    "Truth_table_for_AND,_OR,_and_NOT.png": {
     "image/png": "[encoded data removed]"
    }
   },
   "cell_type": "markdown",
   "metadata": {},
   "source": [
    "## And & Or\n",
    "\n",
    "Now we are going to add to the complexity a little by explaining how we can combine expressions into larger ones.\n",
    "Why might we want to do this? \n",
    "\n",
    "Well say for instance you want to write some code that returns a number that is divisible by 5 **OR** divisible by 10. Maybe you want to write some code that checks if a number is odd **AND** also a perfect square (eg. 9, 25). \n",
    "\n",
    "As it turns out, Python has the \"and\"/\"or\" commands and for the most part they will work mostly to how we understand them in English. But, perhaps we should make the effort to be precise. The table below tells you what the output of the operator is for all values of A and B.\n",
    "\n",
    "![Truth_table_for_AND,_OR,_and_NOT.png](attachment:Truth_table_for_AND,_OR,_and_NOT.png)\n",
    "\n",
    "Okay, cool. So how to we use and/or in Python? The good news is that syntax is super intuitive:\n",
    "\n",
    "    The Syntax:\n",
    "    {value} and {value_2}    returns True/False\n",
    "    {value} or  {value_2}    returns True/False\n",
    "    \n",
    "yes thats right, the keyword for \"and\" in Python is the word \"and\", 'or' in Python is also the same as English. Alright, lets run a few examples shall we:"
   ]
  },
  {
   "cell_type": "code",
   "execution_count": 14,
   "metadata": {},
   "outputs": [
    {
     "name": "stdout",
     "output_type": "stream",
     "text": [
      "True\n",
      "True\n",
      "True\n",
      "0\n",
      "1\n",
      "0\n",
      "0\n",
      "True\n",
      "False\n"
     ]
    }
   ],
   "source": [
    "x = 10\n",
    "print(x > 9 and x < 11)  # is x greater than 9 AND less than 11. \n",
    "# Note, we could refactor the above to: 11 > x > 9\n",
    "print( isinstance(x, str) or isinstance(x, int))   # is x a string OR a integer\n",
    "\n",
    "print(x % 5 == 0 and x % 2 ==0) # is x divisible by 5 AND 2\n",
    "\n",
    "# Once again, remember 0 = False and 1 = True\n",
    "print(0 or 0)  # False or False = False\n",
    "print(1 or 0)  # True or False  = True\n",
    "print(0 and 0) # False AND False = False\n",
    "print(0 and 1) # False AND True = False\n",
    "\n",
    "a = True\n",
    "# Basic logic...\n",
    "print(a or not a)  # Tautology, ALWAYS TRUE  (for any a)\n",
    "print(a and not a) # Contraction, AlWAYS FALSE (for any a)"
   ]
  },
  {
   "cell_type": "markdown",
   "metadata": {},
   "source": [
    "## A note on Python's \"Lazy\" evaluation...\n",
    "\n",
    "Lets play a simple game. The rules:\n",
    "1. I give you two statements, P, Q and an operator (operator will always be one of \"and/or\")\n",
    "1. Both statements are truth functional (i.e. statements that are True or False)\n",
    "1. Your job is to evaluate the expression (P operator Q) **in the fastest time possible.**\n",
    "1. You get to **choose what to evaluate first**, i.e. your options are P then Q, or Q then P.\n",
    "\n",
    "Alright, here's the first question:\n",
    "\n",
    "* P = \"There are an infinite number of twin primes\"  \n",
    "* Q = \"7 + 7 is an odd number\"\n",
    "* operator = And\n",
    "\n",
    "So, to once again reiterate the question:\n",
    "\n",
    "> Is (P and Q) True/False and what is the fastest strategy for solving it?\n",
    "\n",
    "Answer: \n",
    "    \n",
    "    The statement (P and Q) is False, and the fastest strategy is to calculate statement Q first.\n",
    "\n",
    "Why? Well, in order to prove that (P and Q) is False we only have to prove that either P or Q is False. In this case, its pretty easy to see that Q is false, therefore we know the answer of (P and Q) without having to prove the twin primes conjecture.\n",
    "\n",
    "Alright, lets try one more time.\n",
    "\n",
    "* P = 7 is a prime number\n",
    "* Q = \"NP = P\"  *([wiki entry for the np = p problem](https://en.wikipedia.org/wiki/P_versus_NP_problem))*\n",
    "* operator = or\n",
    "\n",
    "Answer:\n",
    "\n",
    "    “The statement (P or Q) is True, and the fastest strategy is to calculate statement P first.\"\n",
    "    \n",
    "Similar to the problem above, to prove (P or Q) is True we only have to prove either P or Q is True. In this case, we can quickly check 7 is prime and thus we can solve the problem without even attempting to solve the np=p problem *(which btw, has a million dollar prize for the first person to prove it)*.\n",
    "\n",
    "Okay, so how can we use this information in our Python programmes? Well Python uses the same \"lazy\" evaluation as we did above; if we know A is True we don't have to calculate B in order to know (A or B) is True. \n",
    "\n",
    "Okay, so how can we use this information in our Python programmes? Well Python uses the same \"lazy\" evaluation as we did above; if we know P is True we don't have to calculate Q in order to know (P or Q) is True. \n",
    "\n",
    "So how can we take advantage of this? Well, the syntax is simple, Python evaluates left-to-right. So in the case of P or Q Python ALWAYS checks P first. To take advantage then, what we should do is give Python the easiest statement first and then the slower one. \n",
    "\n",
    "In the case of the first problem all we would have to do to make Python solve it as fast as we did is to swap P with Q and we're done.\n",
    "\n",
    "The code below attempts to convince you of this. As a warning this is one of the longest code snippets we have seen in this lecture series, but try not to be put off by this, most of it is print statements and comments"
   ]
  },
  {
   "cell_type": "code",
   "execution_count": 15,
   "metadata": {},
   "outputs": [
    {
     "name": "stdout",
     "output_type": "stream",
     "text": [
      "Give me an integer (ideally larger than 10,000 but less than 500,000) 4\n",
      "\n",
      "Note: Times rounded to 4 decimal places, measured in secs...\n",
      "\n",
      "\n",
      "############ OR TESTS ####################\n",
      "This is the OR operator test where y is True\n",
      "Lazy is doing: 'True OR [Time sink]'. Worker is doing: '[Time sink] OR True'\n",
      "\n",
      "Time of 'Lazy_Eval': 0.0\n",
      "Time of 'Hard_worker': 0.0\n",
      "Difference (in secs, rounded 2 places): 0.0\n",
      "--------------------------\n",
      "This is the OR operator test where y is False\n",
      "Lazy is doing: 'False OR [Time sink]'. Worker is doing: '[Time sink] OR False'\n",
      "\n",
      "Time of 'Lazy_Eval': 0.0\n",
      "Time of 'Hard_worker': 0.0\n",
      "Difference (in secs, rounded 2 places): 0.0\n",
      "\n",
      "############ AND TESTS ###################\n",
      "This is the AND operator test where y is True\n",
      "Lazy is doing: 'True AND [Time sink]'. Worker is doing: '[Time sink] AND True'\n",
      "\n",
      "Time of 'Lazy_Eval': 0.0\n",
      "Time of 'Hard_worker': 0.0\n",
      "Difference (in secs, rounded 2 places): 0.0\n",
      "--------------------------\n",
      "This is the AND operator test where y is False\n",
      "Lazy is doing: 'False AND [Time sink]'. Worker is doing: '[Time sink] AND False'\n",
      "\n",
      "Time of 'Lazy_Eval': 0.0\n",
      "Time of 'Hard_worker': 0.0\n",
      "Difference (in secs, rounded 2 places): 0.0\n"
     ]
    }
   ],
   "source": [
    "from math import factorial # arbitary function that takes a good chunck of time to complete.\n",
    "from time import clock     # for timing...\n",
    "\n",
    "def time_or(x, lazy_eval=0, y=True):\n",
    "    if lazy_eval:\n",
    "            t1 = clock()\n",
    "            # If y is True...\n",
    "            # True or {something} is True regardless of what {something} is, \n",
    "            # Python doesn't even try to calculate x factorial > 2 here. \n",
    "            # and therefore, Python should be super fast here. \n",
    "            THE_IMPORTANT_LINE = y or factorial(x) > 2   \n",
    "            t2 = clock()\n",
    "    else:\n",
    "        t1 = clock()\n",
    "        # if y is False then 'hard worker' should be as fast as lazy eval\n",
    "        THE_IMPORTANT_LINE = factorial(x) > 2 or y\n",
    "        t2 = clock()\n",
    "\n",
    "    return round(t2-t1, 5) # returns the time difference between starting and finishing, rounded to 5 places.\n",
    "\n",
    "def time_and(x, lazy_eval=0,  y=True):\n",
    "    if lazy_eval:\n",
    "        t1 = clock()\n",
    "        # If y is False, Lazy eval should be super fast\n",
    "        # If y is True, lazy eval should be no faster than \"hard worker\".\n",
    "        THE_IMPORTANT_LINE = y and factorial(x) > 2   \n",
    "        t2 = clock()\n",
    "    else:\n",
    "        t1 = clock()\n",
    "        THE_IMPORTANT_LINE = factorial(x) > 2 and y\n",
    "        t2 = clock()\n",
    "\n",
    "    return round(t2-t1, 5) # returns the time difference between starting and finishing, rounded to 5 places.\n",
    "\n",
    "# Prints the results...\n",
    "def printer(lazy_eval, hard_worker, operator, y):\n",
    "    \n",
    "    print(\"This is the {} operator test where y is {}\".format(operator, y))\n",
    "    \n",
    "    print(\"Lazy is doing: '{0} {1} [Time sink]'. Worker is doing: '[Time sink] {1} {0}'\\n\".format(y, operator))\n",
    "\n",
    "    print(\"Time of 'Lazy_Eval': {}\\nTime of 'Hard_worker': {}\\nDifference (in secs, rounded 2 places): {}\".format(lazy_eval, hard_worker, \n",
    "                                                                                   round(abs(hard_worker - lazy_eval),2)))\n",
    "\n",
    "x = int(input(\"Give me an integer (ideally larger than 10,000 but less than 500,000) \"))\n",
    "print(\"\\nNote: Times rounded to 4 decimal places, measured in secs...\\n\")\n",
    "\n",
    "#### OR TESTS...\n",
    "# y \n",
    "lazy_eval_or = round(time_or(x, 1), 4) \n",
    "hard_worker_or = round(time_or(x), 4)\n",
    "# not y\n",
    "lazy_eval_or_fy = round(time_or(x, 1, y=False), 4)\n",
    "hard_worker_or_fy = round(time_or(x, y=False), 4)\n",
    "# Printing OR TESTS...\n",
    "print(\"\\n############ OR TESTS ####################\")\n",
    "printer(lazy_eval_or, hard_worker_or, \"OR\", True)\n",
    "print(\"--------------------------\")\n",
    "printer(lazy_eval_or_fy, hard_worker_or_fy, \"OR\", False)  # _fy means y=False\n",
    "\n",
    "#### And tests...\n",
    "# y\n",
    "lazy_eval_and = round(time_and(x, 1), 4)\n",
    "hard_worker_and = round(time_and(x,0), 4) \n",
    "# not y\n",
    "lazy_eval_and_fy = round(time_and(x, 1, y=False), 4)\n",
    "hard_worker_and_fy = round(time_and(x,0,y=False),4)\n",
    "# Printing AND TESTS...\n",
    "print(\"\\n############ AND TESTS ###################\")\n",
    "printer(lazy_eval_and, hard_worker_and, \"AND\", True)\n",
    "print(\"--------------------------\")\n",
    "printer(lazy_eval_and_fy, hard_worker_and_fy, \"AND\", False)"
   ]
  },
  {
   "cell_type": "markdown",
   "metadata": {},
   "source": [
    "Okay so lets talk about this code for a bit, we have four test cases: \n",
    "\n",
    "1. P or Q (where P is True)\n",
    "1. P or Q (where P is False)\n",
    "1. P and Q (where P is True)\n",
    "1. P and Q (where P is False)\n",
    "\n",
    "In all cases Q is some arbitrary function that evaluates to True but takes some time to calculate (in our particular case we used Factorial(X) > 2, where X is a large number), we call this function our “time sink”. \n",
    "\n",
    "For each test we have two solving strategies, and they only differ by what they calculate first:\n",
    "\n",
    "\tLazy does:        P or Q  \n",
    "\tHard worker does: Q or P\n",
    "\n",
    "Now, when we look at the output of our tests cases we should notice a pattern; ‘Lazy eval’ is considerably faster when we can 'escape' without evaluating factorial of a large number. If lazy has to calculate factorial(x) then takes the same amount of time as our 'hard-working' function. \n",
    "\n",
    "In short, understanding Python’s lazy evaluation can speed up you code considerably (without any cost to readability). I shared this feature basically because I thought it was cool. :P "
   ]
  }
 ],
 "metadata": {
  "kernelspec": {
   "display_name": "Python 3",
   "language": "python",
   "name": "python3"
  },
  "language_info": {
   "codemirror_mode": {
    "name": "ipython",
    "version": 3
   },
   "file_extension": ".py",
   "mimetype": "text/x-python",
   "name": "python",
   "nbconvert_exporter": "python",
   "pygments_lexer": "ipython3",
   "version": "3.5.2"
  }
 },
 "nbformat": 4,
 "nbformat_minor": 2
}
