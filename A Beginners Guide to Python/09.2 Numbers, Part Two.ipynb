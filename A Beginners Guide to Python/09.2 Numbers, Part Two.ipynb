{
 "cells": [
  {
   "cell_type": "markdown",
   "metadata": {},
   "source": [
    "# How Floats work (in a bit more depth)\n",
    "\n",
    "Let's start the discussion by stating that computers- at the fundamental level- work by flicking on and off trillions of little switches (transistors). When Python receives a number (in any base) it converts that number into base 2 (binary). By converting the number to a bunch of one's and zero's it makes it easier for the machine to calculate.\n",
    "\n",
    "So, at the fundamental level, Python is working out sums in base 2 and we puny mortals are thinking in base 10.  Long story short, Python will *round* numbers that cannot be easily expressed in base 2 but interestingly enough of those sums are easy in base 10. The net effect is that there are going to be cases where we feel python makes an “obvious” error in arithmetic; it might seem like a bug when it happens. But actually, these ‘quirks’ are just a consequence of how floats are implemented at the low level.  \n",
    "\n",
    "Let's take a look at a few examples..."
   ]
  },
  {
   "cell_type": "code",
   "execution_count": 6,
   "metadata": {},
   "outputs": [
    {
     "name": "stdout",
     "output_type": "stream",
     "text": [
      "0.2\n"
     ]
    }
   ],
   "source": [
    "print (0.1 + 0.1)"
   ]
  },
  {
   "cell_type": "markdown",
   "metadata": {},
   "source": [
    "0.1 + 0.1 = 0.2 Okay, no surprises here. But what about the following sum:"
   ]
  },
  {
   "cell_type": "code",
   "execution_count": 7,
   "metadata": {},
   "outputs": [
    {
     "name": "stdout",
     "output_type": "stream",
     "text": [
      "0.30000000000000004\n"
     ]
    }
   ],
   "source": [
    "print(0.1 + 0.1 + 0.1)"
   ]
  },
  {
   "cell_type": "markdown",
   "metadata": {},
   "source": [
    "This sum should equal 0.3, you don’t need to be a genius to figure that out. And we can see from what Python return its close to right answer but  nonetheless wrong. What happened? well 0.1 * 3 is easy for us to do in base 10 but in base 2 its a bit more tricky. Instead of trying to find the actual value Python \"gives up\" after a while and just does a bit of rounding.\n",
    "\n",
    "Similarly..."
   ]
  },
  {
   "cell_type": "code",
   "execution_count": 8,
   "metadata": {},
   "outputs": [
    {
     "name": "stdout",
     "output_type": "stream",
     "text": [
      "2.0999999999999996\n"
     ]
    }
   ],
   "source": [
    "print(0.7 + 0.7 + 0.7)"
   ]
  },
  {
   "cell_type": "markdown",
   "metadata": {},
   "source": [
    "2.099... isn't what we would expect (2.1)\n",
    "\n",
    "Alright, that just about wraps up this lecture on numbers. If you would like an even more in-depth explanation how floats works please [read this](https://docs.python.org/3/tutorial/floatingpoint.html)."
   ]
  }
 ],
 "metadata": {
  "kernelspec": {
   "display_name": "Python 3",
   "language": "python",
   "name": "python3"
  },
  "language_info": {
   "codemirror_mode": {
    "name": "ipython",
    "version": 3
   },
   "file_extension": ".py",
   "mimetype": "text/x-python",
   "name": "python",
   "nbconvert_exporter": "python",
   "pygments_lexer": "ipython3",
   "version": "3.5.2"
  }
 },
 "nbformat": 4,
 "nbformat_minor": 2
}
