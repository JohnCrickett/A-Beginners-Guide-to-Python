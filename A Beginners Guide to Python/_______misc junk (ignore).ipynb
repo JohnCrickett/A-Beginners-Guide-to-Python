{
 "cells": [
  {
   "cell_type": "markdown",
   "metadata": {
    "collapsed": true
   },
   "source": [
    "# notes to self. etc --- not intended to be read... :)"
   ]
  },
  {
   "cell_type": "markdown",
   "metadata": {},
   "source": [
    "To anyone reading this, this a collection of notes to myself, extra material to be added etc. "
   ]
  },
  {
   "cell_type": "code",
   "execution_count": null,
   "metadata": {
    "collapsed": true
   },
   "outputs": [],
   "source": []
  },
  {
   "cell_type": "markdown",
   "metadata": {},
   "source": [
    "\n",
    "\n",
    "\n",
    "## Assert\n",
    "\n",
    "Assert it used for raising errors. It takes True/False statement and a string (optional). If the statement is false assert raises the AssertionError and exits the code. If the assert statement is True everything continues as normal.\n",
    "\n",
    "\tThe Syntax:\n",
    "\tassert {True/False Condition}, {string, optional}\n",
    "  \n",
    "Yes guys, Python actually has a way to ‘break’ your own code with error messages. Why would you want to do that? Well, it helps safeguard against misuse and garbage output (defensive programming). Later in the course I’ll try to explain why getting garbage out is considerably worse than getting an error message, but until then you’ll just have to trust me. \n",
    "\n",
    "In this particular example, the first assert statement is asking if mass is a integer or a float. If it is neither we raise the AssertionError with the message “FUUUUUUUU”.\n",
    "\n",
    "The use of assert in the function helps make the code at lot more explicit than it previously was.\n",
    "\n",
    "\n",
    "\n",
    "## A Quick note about blank space...\n",
    "\n",
    "The last thing I want to point your attention to is the use of blank space. The above function has two assert statements followed by a blank line followed by the formula. Whats that all about? \n",
    "\n",
    "Well lets think about the English language for a moment. When writing, we use paragraphs to separate out content. \n",
    "\n",
    "If we create a new paragraph, then that tells the reader that the next chunk of text is a change of topic.\n",
    "\n",
    "The change of topic is too significant for a new sentence to handle, but its also too minor to require a new heading/chapter. \n",
    "\n",
    "And when we do not follow those basics guidelines and split text incorrectly and/or inconsistently it feels a bit weird.\n",
    "\n",
    "And it is much harder to understand what is going on.\n",
    "\n",
    "isn’t it? \n",
    "\n",
    "The point I'm making here is that it makes a lot sense within English to use blank space as a means of visually separating out our ideas. The result is more readable text. In the code above, I took principle of a 'paragraph' and applied it. More specifically, the first two lines are *about testing* whereas the last two lines are about *getting the stuff done.* And So, **a simple line-break helps visually separate the logically distinct bits of code(within the function).**   \n",
    "\n",
    "So at this point we have made several changes and now function is not considerably more verbose than once was, thats the trade-off we must make if we are to be explicit.\n",
    "\n",
    "But let's stop and think about this; what are we *really* doing here? It seems like we are adding bits of code that don't add anything logically necessary to the functioning of our code. Rather, we have added lines of code to essentially explain what the code does and how it should be used. And now I really hope you guys are thinking:\n",
    "\n",
    "    \"If that is all we are doing, wouldn't a comment suffice?\"\n",
    "\n",
    "I like your style batman!\n",
    "\n"
   ]
  },
  {
   "cell_type": "code",
   "execution_count": null,
   "metadata": {
    "collapsed": true
   },
   "outputs": [],
   "source": []
  },
  {
   "cell_type": "markdown",
   "metadata": {},
   "source": [
    "## Converting to a float\n",
    " \n",
    "In the function above the keyword 'float' is used. We shall cover floats in more detail later on, but for now I think it is suffice to say a float is a decimal number (Floats are not decimals! . The float keyword takes X as an input and returns X as a decimal. If we cannot convert X into a decimal, that means float(X) would return an error. Let’s see a few examples:\n",
    " \n",
    "print(float(10))       # 10 --> 10.0\n",
    "print(float(2.4))      # 2.4 is already a float, so it doesn't change.\n",
    "print(float(\"3.2\"))    # This string can be represented as a decimal number \"3.2\" --> 3.2\n",
    "print(float(\"hello\"))  # An error, we cannot convert a string like \"hello\" to a number.\n"
   ]
  },
  {
   "cell_type": "code",
   "execution_count": null,
   "metadata": {
    "collapsed": true
   },
   "outputs": [],
   "source": []
  },
  {
   "cell_type": "code",
   "execution_count": null,
   "metadata": {
    "collapsed": true
   },
   "outputs": [],
   "source": []
  }
 ],
 "metadata": {
  "kernelspec": {
   "display_name": "Python 3",
   "language": "python",
   "name": "python3"
  },
  "language_info": {
   "codemirror_mode": {
    "name": "ipython",
    "version": 3
   },
   "file_extension": ".py",
   "mimetype": "text/x-python",
   "name": "python",
   "nbconvert_exporter": "python",
   "pygments_lexer": "ipython3",
   "version": "3.6.3"
  }
 },
 "nbformat": 4,
 "nbformat_minor": 2
}
