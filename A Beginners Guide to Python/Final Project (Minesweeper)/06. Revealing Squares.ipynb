{
 "cells": [
  {
   "cell_type": "markdown",
   "metadata": {},
   "source": [
    "Okay so lets quickly recap where we are at with this project:\n",
    " \n",
    "* We have built the 'board function'\n",
    "* We can print the board(s)\n",
    "* We can set the board to display the correct number of neibour bombs.\n",
    "\n",
    "And finally, let's quickly checkout what we have left to do:\n",
    "\n",
    "* create a 'reveal square' function.\n",
    "* create a 'flag square' function.\n",
    "* Add win/loss checks, a UI, set-up functions, bling\n",
    "* Bring everything together\n",
    "\n",
    "Today we shall be focus on the reveal square function.\n",
    "\n",
    "## ToDo\n",
    "\n",
    "Okay, so here's the basic implementation idea. When we start a new game we create two boards:\n",
    "\n",
    "* The 'game board' (with bombs, and numbers) -- Hidden from player\n",
    "* The 'player board' (i.e. what the players sees during the game).\n",
    "\n",
    "The player board will have the same dimensions as the game board. This means that the square (0, 0) on the game board corressponds to same square on the player board. You may remember that when we wrote the 'build_board' function I advised you to make it generalisable. Well, the effort is about to pay-off right now; we can create both of our boards with just a few lines of code:"
   ]
  },
  {
   "cell_type": "code",
   "execution_count": null,
   "metadata": {
    "collapsed": true
   },
   "outputs": [],
   "source": [
    "# def build_board(row, col, bomb_count=0, non_bomb_character=\"-\"):\n",
    "# ^ I've included the first line of the build_board function just to 'jog your memory'\n",
    "# Some of you may have forgotten how we call it!\n",
    "\n",
    "ROWS  = 3\n",
    "COLS  = 3\n",
    "BOMBS = 2\n",
    "\n",
    "# Game board:\n",
    "game_board = build_board(ROWS, COLS, bomb_count = BOMBS)\n",
    "# Player board:\n",
    "player_board = build_board(ROWS, COLS, bomb_count=0)"
   ]
  },
  {
   "cell_type": "markdown",
   "metadata": {},
   "source": [
    "## Variables in ALL CAPS?\n",
    "\n",
    "You may remember in a previous lecture I mentioned that you **SHOULD NOT** use ALL CAPS for variable names *unless* you know what you are doing. At the time I didn't explain what I meant by that phrase but I might as well explain now…\n",
    "\n",
    "By convention, the only time you should use ALL CAPS for variables names is when you are defining variables that **DO NOT** change during the run-time of the program. And also, by convention, these variables are usually declared at top of your program (just below your ‘imports’). \n",
    "\n",
    "Imagine, for example we were running a physics simulation and in this simulation we have a variable called 'gravity' we can tinker with. Now it might be fun to run the simulation several times with different values for gravity; we can throw a ball under ‘earth-gravity’ or ‘moon-gravity’ and/or ‘zero g’ and observe what happens. However, we probably DON’T want to change the value of gravity during the run-time of the program. If we do change gravity during run-time then we are probably going to get meaningless results. I’m no physicist, but it is nonetheless fun to stop and think about what changing the value of gravity during program run-time might *actually simulate*\n",
    "\n",
    "Let’s suppose I throw a ball up in the air (on earth) under earth gravity. I then restart the program but multiply gravity by a billion. We can actually make sense of this; we started by modelling a ball on earth and then we modelled what would happen should we throw a ball near a blackhole. \n",
    "\n",
    "But here's the thing, suppose we start with earth gravity and then, during run-time we change the gravity a billion-fold. What real-world phenomenon could do something like that? I'd imagine the only 'life-like' cause of such a thing would be a black hole just 'magically' popping into existence. And if black hole did do that, I'd imagine most of current physics would break down in such circumstances. And that’s what a mean about meaningless results;  unless our program has the equations necessary to understand what would happen under such circumstances our data will simply fail to model reality. \n",
    "\n",
    "In this case our data is junk not because the program doesn’t work, rather, the data is junk because we tinkered with the program in ways in which we (probably) shouldn’t have. And so, in order to protect the integrity/reliability of the results we should probably rename 'gravity' to ‘GRAVITY’. By renaming our variable we gently remind the reader that this isn't a value you want to tinker with (during run-time) because if you do, **crazy-shit will happen!**\n",
    "\n",
    "In our particular case, what do you think happens when we start playing a game and then try to change the dimensions of the board, and/or change the number of bombs? I'll tell you what will probably happen: **A METRIC FUCK-TONNE OF BUGS!!!**\n",
    "\n",
    "Mess with these variables during a game and we are highly likely to break something. And so, for that very reason, I have followed Pythons style guide recommendations (Pep8 -- GOOGLE IT!) and used ALL CAPS to warn readers that such variables ought not to be tinkered with. \n",
    "\n",
    "In short, you should NEVER write code like this:"
   ]
  },
  {
   "cell_type": "code",
   "execution_count": null,
   "metadata": {
    "collapsed": true
   },
   "outputs": [],
   "source": [
    "BOMB += 10 ## BAD BAD BAD !!  Don't do this!!"
   ]
  },
  {
   "cell_type": "markdown",
   "metadata": {},
   "source": [
    "Either \"BOMB\" is a variable which should not be changed *(in which case, why the fuck are you adding 10 to it?)* Or you named a variable \"BOMB\" in breach of Python's style guide.\n",
    "\n",
    "## Getting back on topic; the reveal function\n",
    "\n",
    "Apologies, that was an unexpectedly long rant. Let's get back on topic and talk about the reveal function. This function should:\n",
    "\n",
    "* Take a square as input and reveal a square to the player (said square will be either a bomb or a number)\n",
    "* In the case of revealing a bomb, its game over.\n",
    "* If we reveal a number, it should say revealed until the end of the game. \n",
    "* If we highlight an aready selected square (e.g a number or the letter \"F\") we should do nothing. \n",
    "* Print the board.\n",
    "\n",
    "So yeah, that's what you have to do this week. As a heads up, I haven’t written any test cases this time, I HIGHLY RECOMMEND you take the time the time to write a few tests to ensure your solution works. "
   ]
  },
  {
   "cell_type": "code",
   "execution_count": null,
   "metadata": {
    "collapsed": true
   },
   "outputs": [],
   "source": [
    "def test():\n",
    "    # Your test cases here...\n",
    "    pass"
   ]
  },
  {
   "cell_type": "code",
   "execution_count": null,
   "metadata": {
    "collapsed": true
   },
   "outputs": [],
   "source": [
    "def reveal_square(row, col, player_board, game_board):\n",
    "    # Your code here...\n",
    "    pass\n",
    "\n",
    "# testing...\n",
    "test()"
   ]
  },
  {
   "cell_type": "markdown",
   "metadata": {},
   "source": [
    "## The Flag Function\n",
    "\n",
    "The flag function is highly similar to the reveal square function. The a few bits of functionality you have to incorporate:\n",
    "\n",
    "* Flag the selected square\n",
    "* If the selected square is flagged, de-flag it. \n",
    "* If the square is already revealed we should do nothing."
   ]
  },
  {
   "cell_type": "code",
   "execution_count": null,
   "metadata": {
    "collapsed": true
   },
   "outputs": [],
   "source": [
    "def flag_square(row, col, player_board):\n",
    "    # Your code here...\n",
    "    pass\n",
    "\n",
    "# testing...\n",
    "test()"
   ]
  }
 ],
 "metadata": {
  "kernelspec": {
   "display_name": "Python 3",
   "language": "python",
   "name": "python3"
  },
  "language_info": {
   "codemirror_mode": {
    "name": "ipython",
    "version": 3
   },
   "file_extension": ".py",
   "mimetype": "text/x-python",
   "name": "python",
   "nbconvert_exporter": "python",
   "pygments_lexer": "ipython3",
   "version": "3.5.2"
  }
 },
 "nbformat": 4,
 "nbformat_minor": 2
}
