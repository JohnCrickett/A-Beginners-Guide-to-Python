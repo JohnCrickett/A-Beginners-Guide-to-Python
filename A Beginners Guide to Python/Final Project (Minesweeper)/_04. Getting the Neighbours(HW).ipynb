{
 "cells": [
  {
   "cell_type": "markdown",
   "metadata": {},
   "source": [
    "## TEST CASES..."
   ]
  },
  {
   "cell_type": "code",
   "execution_count": 1,
   "metadata": {
    "collapsed": true
   },
   "outputs": [],
   "source": [
    "def test():\n",
    "    b = [[\"B\", \"B\", \"B\"],\n",
    "         [\"B\", \"B\", \"B\"],\n",
    "         [\"B\", \"B\", \"B\"]]\n",
    "    \n",
    "    test = get3x3(0,0,b)\n",
    "    assert len(test) == 4, \"4 values expected\"\n",
    "    assert test.count(\"B\") == 4, \"Incorrect number of bombs\"\n",
    "    \n",
    "    test2 = get3x3(1,1,b)\n",
    "    assert len(test2) == 9, \"9 values expected\"\n",
    "    assert test2.count(\"B\") == 9, \"Incorrect number of bombs\"\n",
    "    \n",
    "    test3 = get3x3(2,1,b)\n",
    "    assert len(test3) == 6, \"6 values expected\"\n",
    "    assert test3.count(\"B\") == 6, \"Incorrect number of bombs\"\n",
    "    \n",
    "    b2 = [[\"B\"],\n",
    "          [\"-\"],\n",
    "          [\"B\"]]\n",
    "    \n",
    "    test4 = get3x3(0,0,b2)\n",
    "    assert len(test4) == 2, \"2 values expected\"\n",
    "    assert test4.count(\"B\") == 1, \"Incorrect number of bombs\"\n",
    "    \n",
    "    test5 = get3x3(1,0,b2)\n",
    "    assert len(test5) == 3, \"3 values expected\"\n",
    "    assert test5.count(\"B\") == 2, \"Incorrect number of bombs\"\n",
    "    \n",
    "    b3 = [[\"B\",\"-\",\"-\",\"-\",\"B\",\"-\"]]\n",
    "    \n",
    "    test6 = get3x3(0,0,b3)\n",
    "    assert len(test6) == 2, \"2 values expected\"\n",
    "    assert test6.count(\"B\") == 1, \"Incorrect number of bombs\"\n",
    "    \n",
    "    test7 = get3x3(0,2,b3)\n",
    "    assert len(test7) == 3, \"2 values expected\"\n",
    "    assert test7.count(\"B\") == 0, \"Incorrect number of bombs\"\n",
    "    \n",
    "    test8 = get3x3(0,4,b3)\n",
    "    assert len(test8) == 3, \"3 values expected\"\n",
    "    assert test8.count(\"B\") == 1, \"Incorrect number of bombs\"\n",
    "    \n",
    "    b4 = [[\"B\"]]\n",
    "    \n",
    "    test9 = get3x3(0,0,b4)\n",
    "    assert len(test9) == 1, \"1 value expected\"\n",
    "    \n",
    "    print(\"Testing Complete\")"
   ]
  },
  {
   "cell_type": "markdown",
   "metadata": {},
   "source": [
    "## Possible Solution"
   ]
  },
  {
   "cell_type": "code",
   "execution_count": 7,
   "metadata": {},
   "outputs": [
    {
     "name": "stdout",
     "output_type": "stream",
     "text": [
      "Testing Complete\n"
     ]
    }
   ],
   "source": [
    "def get_square(x, y, board):\n",
    "    \"\"\"This function takes a board and returns the value at that square(x,y).\n",
    "    \"\"\"\n",
    "    return board[x][y]\n",
    "\n",
    "\n",
    "def get3x3(row, col, board):\n",
    "    offsets = [(-1,-1), (0,-1), (+1,-1),\n",
    "               (-1, 0), (0, 0), (+1, 0),\n",
    "               (-1,+1), (0,+1), (+1,+1)]\n",
    "    \n",
    "    result = []\n",
    "    for x, y in offsets:\n",
    "        if row + x >=0 and col + y >= 0: # This check prevents 'wrapping' arround the board.\n",
    "            try:\n",
    "                result.extend(get_square(row + x, col + y, board))\n",
    "            except IndexError:\n",
    "                pass\n",
    "    return result\n",
    "\n",
    "# Testing...\n",
    "test()"
   ]
  },
  {
   "cell_type": "markdown",
   "metadata": {},
   "source": [
    "Okay so let's explain this code a bit. \n",
    "\n",
    "The 'offsets' is a list of 9 values that is centered on the square (0,0). To reach the top-left square from (0,0) we would have to move one left(-1,0) and one up(0,-1). How we use these offsets is to take the real row, col values and add the offsets to row, col. If we do this for every offset we get the coridinates of every neighbour square *(please remember that adding a negetive number reduces the size of the number)*. Lets watch it in action:\n"
   ]
  },
  {
   "cell_type": "code",
   "execution_count": 11,
   "metadata": {},
   "outputs": [
    {
     "name": "stdout",
     "output_type": "stream",
     "text": [
      "[(-1, -1), (0, -1), (1, -1), (-1, 0), (0, 0), (1, 0), (-1, 1), (0, 1), (1, 1)]\n",
      "[(9, 4), (10, 4), (11, 4), (9, 5), (10, 5), (11, 5), (9, 6), (10, 6), (11, 6)]\n",
      "[(2, 2), (3, 2), (4, 2), (2, 3), (3, 3), (4, 3), (2, 4), (3, 4), (4, 4)]\n"
     ]
    }
   ],
   "source": [
    "offsets = [(-1,-1), (0,-1), (+1,-1), (-1, 0), (0, 0), (+1, 0), (-1,+1), (0,+1), (+1,+1)]\n",
    "\n",
    "# row = 0, col = 0\n",
    "print([(0 + x, 0 + y) for x, y in offsets])\n",
    "# row = 10, col = 5\n",
    "print([(10 + x, 5 + y) for x, y in offsets])\n",
    "# row = 3, col = 3\n",
    "print([(3 + x, 3 + y) for x, y in offsets])"
   ]
  },
  {
   "cell_type": "markdown",
   "metadata": {},
   "source": [
    "Okay, but what if we are at the edges of the board? Couldn't we get IndexErrors if row/col + offsets push us of the board couldn't we also have problems when the square is(0, 0), how do we stop it wrapping arround and connecting the first square on the board(0,0) with the very last(-1,-1)?\n",
    "\n",
    "The solution is to simple add a few checks:\n",
    "\n",
    "    if row + x >=0 and col + y >= 0: \n",
    "\n",
    "This line of code handles the 'wrapping' situation by forcing all our indexes to be greater than or equal to zero. To fix the issue in the other direction we use try/except to ensure we stay on the board.\n",
    "\n",
    "The final step is to get the value at that position on the board (I use the get_square function we defined earlier) and add it to our list of neibour squares. Once finished, we return said list."
   ]
  }
 ],
 "metadata": {
  "kernelspec": {
   "display_name": "Python 3",
   "language": "python",
   "name": "python3"
  },
  "language_info": {
   "codemirror_mode": {
    "name": "ipython",
    "version": 3
   },
   "file_extension": ".py",
   "mimetype": "text/x-python",
   "name": "python",
   "nbconvert_exporter": "python",
   "pygments_lexer": "ipython3",
   "version": "3.5.2"
  }
 },
 "nbformat": 4,
 "nbformat_minor": 2
}
