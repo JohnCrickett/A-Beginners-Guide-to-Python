{
 "cells": [
  {
   "cell_type": "markdown",
   "metadata": {},
   "source": [
    "## Loading Previous Functions..."
   ]
  },
  {
   "cell_type": "code",
   "execution_count": 7,
   "metadata": {
    "collapsed": true
   },
   "outputs": [],
   "source": [
    "import random\n",
    "\n",
    "def build_board(row, col, bomb_count=0, non_bomb_character=\"-\"):\n",
    "    board_temp = [\"B\"] * bomb_count + [non_bomb_character] * (row*col-bomb_count)\n",
    "\n",
    "    if bomb_count:\n",
    "        random.shuffle(board_temp)\n",
    "\n",
    "    board = []\n",
    "    for i in range(0, row*col, col):\n",
    "        board.append(board_temp[i:i+col])\n",
    "    return board\n",
    "\n",
    "def display_board(board):\n",
    "    print(*board, sep=\"\\n\")\n",
    "    \n",
    "def get_square(x, y, board):\n",
    "    return board[x][y]\n",
    "\n",
    "def set_square(x, y, new_val, board):\n",
    "    board[x][y] = new_val\n",
    "    \n",
    "def get3x3(row, col, board):\n",
    "    offsets = [(-1,-1), (0,-1), (+1,-1),\n",
    "               (-1, 0), (0, 0), (+1, 0),\n",
    "               (-1,+1), (0,+1), (+1,+1)]\n",
    "    \n",
    "    result = []\n",
    "    for x, y in offsets:\n",
    "        if row + x >=0 and col + y >= 0: # This check prevents 'wrapping' arround the board.\n",
    "            try:\n",
    "                result.extend(get_square(row + x, col + y, board))\n",
    "            except IndexError:\n",
    "                pass\n",
    "    return result\n",
    "\n",
    "def set_bomb_count(board):\n",
    "    r = len(board)\n",
    "    c = len(board[0])\n",
    "    \n",
    "    for row in range(r):\n",
    "        for col in range(c):\n",
    "            if get_square(row, col, board) != \"B\":\n",
    "                b_count = get3x3(row, col, board).count(\"B\")\n",
    "                set_square(row, col, str(b_count), board)\n",
    "    return board\n",
    "\n",
    "def reveal_square(row, col, player_board, game_board): \n",
    "    p_square = get_square(row, col, player_board)\n",
    "    if p_square in \"012345678F\":\n",
    "        pass\n",
    "    else:\n",
    "        g_square = get_square(row, col, game_board)\n",
    "        set_square(row, col, g_square, player_board)  \n",
    "        if g_square == \"B\":\n",
    "            return \"GAME OVER\"   \n",
    "\n",
    "def flag_square(row, col, player_board):\n",
    "    p_square = get_square(row, col, player_board)\n",
    "    if p_square == \"_\":\n",
    "        set_square(row, col, \"F\", player_board)\n",
    "    elif p_square == \"F\":\n",
    "        set_square(row, col, \"_\", player_board)"
   ]
  },
  {
   "cell_type": "markdown",
   "metadata": {},
   "source": [
    "## Won Game Function..."
   ]
  },
  {
   "cell_type": "code",
   "execution_count": 8,
   "metadata": {
    "collapsed": true
   },
   "outputs": [],
   "source": [
    "def is_won(g_board, player_board):\n",
    "\n",
    "    flags_total = 0\n",
    "    flags_correct = 0\n",
    "\n",
    "    for row in player_board:\n",
    "        for col in player_board:\n",
    "            p_square = get_square(row, col, p_board)\n",
    "            g_square = get_square(row, col, g_board)\n",
    "\n",
    "            if p_square == \"F\":\n",
    "                flags_total += 1\n",
    "                if g_square == \"B\":\n",
    "                    flags_correct += 1\n",
    "\n",
    "    return flags_total - flags_correct == 0 and flags_total == BOMBS"
   ]
  },
  {
   "cell_type": "markdown",
   "metadata": {},
   "source": [
    "## Won Game Explanation...\n",
    "\n",
    "    flags_total = 0\n",
    "    flags_correct = 0\n",
    "\n",
    "So our strategy here is to count the number of total flags and subtract from that the number of correct flags. We want this number to be exactly zero *(if you flag every single square on the board of course you are going to flag ever bomb)*.\n",
    "\n",
    "    return flags_total - flags_correct == 0 and flags_total == BOMBS\n",
    "\n",
    "This however, is not a sufficient condition, if someone flags just one bomb correctly then that would be considered a won game. Which is why we check the flags_total is equal to the number of bombs. Moving on...\n",
    "\n",
    "    for row in player_board:\n",
    "        for col in player_board:\n",
    "\n",
    "This for-loop plus inner-for-loop combo we iterate through every single square on the board.\n",
    "\n",
    "    if p_square == \"F\":\n",
    "        flags_total += 1\n",
    "\n",
    "If the p_board has an \"F\", we increase the total flag_count by one. \n",
    "\n",
    "    if g_square == \"B\":\n",
    "        flags_correct += 1\n",
    "\n",
    "And finally, if the square that the player has flagged is in fact a bomb we increment 'flags_correct' by one."
   ]
  },
  {
   "cell_type": "markdown",
   "metadata": {},
   "source": [
    "## Initialising..."
   ]
  },
  {
   "cell_type": "code",
   "execution_count": 6,
   "metadata": {},
   "outputs": [
    {
     "name": "stdout",
     "output_type": "stream",
     "text": [
      "['-', '-', '-', '-', '-', '-']\n",
      "['-', '-', '-', '-', '-', '-']\n",
      "['-', '-', '-', '-', '-', '-']\n",
      "['-', '-', '-', '-', '-', '-']\n",
      "['-', '-', '-', '-', '-', '-']\n",
      "['-', '-', '-', '-', '-', '-']\n"
     ]
    }
   ],
   "source": [
    "# Globals...\n",
    "ROWS  = 6\n",
    "COLS  = 6\n",
    "BOMBS = 12\n",
    "\n",
    "# Setting the game boards...\n",
    "g_board = set_bomb_count( build_board(ROWS, COLS, bomb_count = BOMBS) )\n",
    "p_board = build_board(ROWS, COLS, bomb_count = 0)\n",
    "\n",
    "display_board(p_board)"
   ]
  }
 ],
 "metadata": {
  "kernelspec": {
   "display_name": "Python 3",
   "language": "python",
   "name": "python3"
  },
  "language_info": {
   "codemirror_mode": {
    "name": "ipython",
    "version": 3
   },
   "file_extension": ".py",
   "mimetype": "text/x-python",
   "name": "python",
   "nbconvert_exporter": "python",
   "pygments_lexer": "ipython3",
   "version": "3.5.2"
  }
 },
 "nbformat": 4,
 "nbformat_minor": 2
}
