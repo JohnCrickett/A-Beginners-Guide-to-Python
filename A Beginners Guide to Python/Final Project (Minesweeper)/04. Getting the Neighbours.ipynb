{
 "cells": [
  {
   "cell_type": "markdown",
   "metadata": {},
   "source": [
    "Hi guys, so in this lecture we are going to look at how to work out how many bombs surround a given square. This problem might be best solved by splitting it into two parts. \n",
    "\n",
    "1. Create a function that takes position(x,y) on the board and returns all its niebours (e.g a 3x3 grid).\n",
    "1. Create a function that calls the above function for every square, updating said square to the number of bomb niegbours.\n",
    "\n",
    "for example:\n",
    "\n",
    "    [[-,B,-,-],\n",
    "     [Y,-,-,-],\n",
    "     [B,B,X,-],\n",
    "     [B,-,-,B]]\n",
    " \n",
    "Our first function when we give it the square(2,2) should return:\n",
    "\n",
    "    [-.-.-,B, X, -,-.-,B]\n",
    "    \n",
    "And if given the square(1,0) it should return:\n",
    "\n",
    "    [-,B,Y,-,B, B]\n",
    "    \n",
    "Notice that the 'Y' square yeilds is a smaller list than 'X'. This is because Y is at the edge of the board. The next step would be to replace Y with the number 3 (because it has 3 bomb neighbours) and X should change to the number 2 for the similar reasons. We should look at all squares on this board and and unless its a bomb, change its value to the number of bombs nearby. By the end of the process the above board should look like the following:\n",
    "\n",
    "    [[1,B,1,0],\n",
    "     [3,3,2,0],\n",
    "     [B,B,2,1],\n",
    "     [B,3,2,B]]\n",
    "     \n",
    "So yeah, today I want you to focus on returns the neighbours of a square. Next lecture we will solve the second part of the puzzle. \n",
    "\n",
    "A few hints:\n",
    "\n",
    "* Make sure you don't change the square if it is a bomb! \n",
    "* How do you want to handle IndexErrors?\n",
    "* Don't forget to use those helper functions we defined last time (get_square, set_square).\n",
    "    "
   ]
  },
  {
   "cell_type": "code",
   "execution_count": 29,
   "metadata": {
    "collapsed": true
   },
   "outputs": [],
   "source": [
    "def test():\n",
    "    b = [[\"B\", \"B\", \"B\"],\n",
    "         [\"B\", \"B\", \"B\"],\n",
    "         [\"B\", \"B\", \"B\"]]\n",
    "    \n",
    "    test = get3x3(0,0,b)\n",
    "    assert len(test) == 4, \"4 values expected\"\n",
    "    assert test.count(\"B\") == 4, \"Incorrect number of bombs\"\n",
    "    \n",
    "    test2 = get3x3(1,1,b)\n",
    "    assert len(test2) == 9, \"9 values expected\"\n",
    "    assert test2.count(\"B\") == 9, \"Incorrect number of bombs\"\n",
    "    \n",
    "    test3 = get3x3(2,1,b)\n",
    "    assert len(test3) == 6, \"6 values expected\"\n",
    "    assert test3.count(\"B\") == 6, \"Incorrect number of bombs\"\n",
    "    \n",
    "    b2 = [[\"B\"],\n",
    "          [\"-\"],\n",
    "          [\"B\"]]\n",
    "    \n",
    "    test4 = get3x3(0,0,b2)\n",
    "    assert len(test4) == 2, \"2 values expected\"\n",
    "    assert test4.count(\"B\") == 1, \"Incorrect number of bombs\"\n",
    "    \n",
    "    test5 = get3x3(1,0,b2)\n",
    "    assert len(test5) == 3, \"3 values expected\"\n",
    "    assert test5.count(\"B\") == 2, \"Incorrect number of bombs\"\n",
    "    \n",
    "    b3 = [[\"B\",\"-\",\"-\",\"-\",\"B\",\"-\"]]\n",
    "    \n",
    "    test6 = get3x3(0,0,b3)\n",
    "    assert len(test6) == 2, \"2 values expected\"\n",
    "    assert test6.count(\"B\") == 1, \"Incorrect number of bombs\"\n",
    "    \n",
    "    test7 = get3x3(0,2,b3)\n",
    "    assert len(test7) == 3, \"2 values expected\"\n",
    "    assert test7.count(\"B\") == 0, \"Incorrect number of bombs\"\n",
    "    \n",
    "    test8 = get3x3(0,4,b3)\n",
    "    assert len(test8) == 3, \"3 values expected\"\n",
    "    assert test8.count(\"B\") == 1, \"Incorrect number of bombs\"\n",
    "    \n",
    "    b4 = [[\"B\"]]\n",
    "    \n",
    "    test9 = get3x3(0,0,b4)\n",
    "    assert len(test9) == 1, \"1 value expected\"\n",
    "    \n",
    "    print(\"Testing Complete\")"
   ]
  },
  {
   "cell_type": "code",
   "execution_count": null,
   "metadata": {
    "collapsed": true
   },
   "outputs": [],
   "source": [
    "def get3x3(row, col, board):\n",
    "    # YOUR CODE HERE\n",
    "    pass\n",
    "\n",
    "test()"
   ]
  }
 ],
 "metadata": {
  "kernelspec": {
   "display_name": "Python 3",
   "language": "python",
   "name": "python3"
  },
  "language_info": {
   "codemirror_mode": {
    "name": "ipython",
    "version": 3
   },
   "file_extension": ".py",
   "mimetype": "text/x-python",
   "name": "python",
   "nbconvert_exporter": "python",
   "pygments_lexer": "ipython3",
   "version": "3.5.2"
  }
 },
 "nbformat": 4,
 "nbformat_minor": 2
}
