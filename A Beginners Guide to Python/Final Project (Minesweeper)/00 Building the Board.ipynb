{
 "cells": [
  {
   "cell_type": "markdown",
   "metadata": {},
   "source": [
    "## Building the Board\n",
    "\n",
    "Alright, so lets start with the big picture thinking. How to do represent the board itself? Well, as we saw the the chess program is seems like nested lists trump strings. So lets run with that.\n",
    "\n",
    "If we have a nested list structure can we forsee any problems with the 'number of neibour bombs' function? I dont think so, if we have a square and want to know how many bombs it has as neibours we can just index into the niebour squares and count. \n",
    "\n",
    "Revealing the board, how might we do that? Well, there are few ways, but here's a nice solution: we build two boards of the same size, one is the actual game board and the other is a board the we \"place over\" the game board. And because these boards are going to 'overlap' perfectly the position (x, y) for one board has a 1:1 correspondence with the other board. In other words, square X is directly above/below square X on the other board. Neat huh?\n",
    "\n",
    "Notice that spending some time now has potentically saved us a lot of time in the future; since we need to build two boards we want our \"build board\" function to be generalisble. \n",
    "\n",
    "As an aside, it seems like this project is going to involve a lot of indexing, and so therefore we might want to builder some \"helper functions\" to handle indexing for us. That sounds like a job to do after the board has been built. Alright, lets think about our board function in more detail, what do we want it to be able to handle?\n",
    "\n",
    "1. Can build a board of any dimension if we give it (x, y). E.g. x=5, y=5 = a 5x5 grid\n",
    "1. Can build the board with N bombs (where N can also be zero). \n",
    "1. Takes an optional argument which can be used to fill non-bomb squares. \n",
    "1. bombs should be denoted by the capital letter \"B\".\n",
    "1. bombs should be placed on random squares (hint; use random module).\n",
    "\n",
    "Okay, so thats a lot of stuff you have to think about. But before you start coding I want to briefly introduce you to Test Driven Development (or TDD for short).\n",
    "\n",
    "## TDD\n",
    "\n",
    "TDD stands for test driven development, its a software development paradigm that suggests we build tests BEFORE we build the actual function. But spending some time thinking up tests you can sometimes spot errors and difficulties ahead of time. \n",
    "\n",
    "So here's the deal; I'm going to give you some starter code and a bunch of tests (you should add your own tests, by the way) If you pass all my tests there is a good chance that code is working correctly, if not, see what test you failed and why. Alright, lets build some tests!"
   ]
  },
  {
   "cell_type": "code",
   "execution_count": null,
   "metadata": {
    "collapsed": true
   },
   "outputs": [],
   "source": [
    "def test_board():\n",
    "     \"\"\"\n",
    "    >>> build_board(1, 1, 1)\n",
    "    [['B']]\n",
    "    >>> build_board(1,3, 3)\n",
    "    [['B', 'B', 'B']]\n",
    "    >>> build_board(3, 1, 0, non_bomb_character = \"X\")\n",
    "    [['X'], ['X'], ['X']]\n",
    "    >>> build_board(3, 6, 0, non_bomb_character = \"y\")\n",
    "    [['y', 'y', 'y', 'y', 'y', 'y'], ['y', 'y', 'y', 'y', 'y', 'y'], ['y', 'y', 'y', 'y', 'y', 'y']]\n",
    "    >>> build_board(3, 3, 9)\n",
    "    [['B', 'B', 'B'], ['B', 'B', 'B'], ['B', 'B', 'B']]\n",
    "    >>> build_board(3, 3, 300)\n",
    "    [['B', 'B', 'B'], ['B', 'B', 'B'], ['B', 'B', 'B']]\n",
    "    >>> build_board(4, 3, 0)\n",
    "    [['-', '-', '-'], ['-', '-', '-'], ['-', '-', '-'], ['-', '-', '-']]\n",
    "    \"\"\"\n",
    "    import doctest\n",
    "    doctest.testmod()\n",
    "    print(\"TESTING COMPLETE... if you see nothing, (other than this message) that means all tests passed.\")"
   ]
  },
  {
   "cell_type": "markdown",
   "metadata": {},
   "source": [
    "So that is some basic tests you need to pass, I recommend you add some of your own. Basically, if you pass the tests above then that means your function appears to be building boards with the correct dimensions, is returning nested lists, and is capable of adding bombs and changing the non-bomb character. \n",
    "\n",
    "If you want to make your own tests for random bomb placement I would recommend you read up on the 'random.seed' method."
   ]
  },
  {
   "cell_type": "code",
   "execution_count": null,
   "metadata": {
    "collapsed": true
   },
   "outputs": [],
   "source": [
    "def build_board(row, col, bomb_count=0, non_bomb_character = \"-\"):\n",
    "    # Your code here\n",
    "    pass\n",
    "\n",
    "# Runing the tests...\n",
    "test_board()\n",
    "# Note if you recieve an error message saying test_board not found \n",
    "# try hitting the run button on the test_board cell and try again."
   ]
  }
 ],
 "metadata": {
  "kernelspec": {
   "display_name": "Python 3",
   "language": "python",
   "name": "python3"
  },
  "language_info": {
   "codemirror_mode": {
    "name": "ipython",
    "version": 3
   },
   "file_extension": ".py",
   "mimetype": "text/x-python",
   "name": "python",
   "nbconvert_exporter": "python",
   "pygments_lexer": "ipython3",
   "version": "3.5.2"
  }
 },
 "nbformat": 4,
 "nbformat_minor": 2
}
