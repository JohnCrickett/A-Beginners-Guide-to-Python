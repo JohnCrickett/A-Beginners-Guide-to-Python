{
 "cells": [
  {
   "cell_type": "markdown",
   "metadata": {},
   "source": [
    "## Loading our Previous Functions..."
   ]
  },
  {
   "cell_type": "code",
   "execution_count": 1,
   "metadata": {},
   "outputs": [],
   "source": [
    "def set_square(x, y, new_val, board):\n",
    "    \"\"\"This function indexes into the given board at position (x, y).\n",
    "    We then change that value to new_val. Returns nothing.\n",
    "    \"\"\"\n",
    "    board[x][y] = new_val\n",
    "\n",
    "def get_square(x, y, board):\n",
    "    \"\"\"This function takes a board and returns the value at that square(x,y).\n",
    "    \"\"\"\n",
    "    return board[x][y]\n",
    "\n",
    "def print_b(board):\n",
    "    print(*board, sep=\"\\n\")\n",
    "\n",
    "g_board =   [['B', '1', '1', 'B', '1'],\n",
    "             ['1', '2', '2', '2', '1'],\n",
    "             ['0', '2', 'B', '3', '1'],\n",
    "             ['1', '3', 'B', '5', 'B'],\n",
    "             ['1', 'B', '3', 'B', 'B']]\n",
    "\n",
    "p_board = [[\"_\" for i in range(5)] for i in range(5)]"
   ]
  },
  {
   "cell_type": "markdown",
   "metadata": {},
   "source": [
    "## Possible Solution:"
   ]
  },
  {
   "cell_type": "code",
   "execution_count": 2,
   "metadata": {},
   "outputs": [],
   "source": [
    "def reveal_square(row, col, player_board, game_board):\n",
    "    \n",
    "    p_square = get_square(row, col, player_board)\n",
    "    if p_square in \"012345678F\":\n",
    "        pass\n",
    "    \n",
    "    else:\n",
    "        g_square = get_square(row, col, game_board)\n",
    "        set_square(row, col, g_square, player_board)\n",
    "    \n",
    "        if g_square == \"B\":\n",
    "            return \"GAME OVER\"            "
   ]
  },
  {
   "cell_type": "code",
   "execution_count": 3,
   "metadata": {
    "scrolled": true
   },
   "outputs": [
    {
     "name": "stdout",
     "output_type": "stream",
     "text": [
      "['_', '1', '_', '_', '_']\n",
      "['_', '_', '_', '_', '_']\n",
      "['_', '_', '_', '_', '_']\n",
      "['_', '_', '_', '_', '_']\n",
      "['_', '_', '_', '_', '_']\n"
     ]
    }
   ],
   "source": [
    "reveal_square(0, 1, p_board, g_board) ## reveals number 1\n",
    "print_b(p_board)"
   ]
  },
  {
   "cell_type": "code",
   "execution_count": 4,
   "metadata": {},
   "outputs": [
    {
     "name": "stdout",
     "output_type": "stream",
     "text": [
      "['_', '1', '_', '_', '_']\n",
      "['_', '_', '_', '_', '_']\n",
      "['_', '_', '_', '_', '_']\n",
      "['_', '_', '_', '_', '_']\n",
      "['_', '_', '_', '_', '_']\n"
     ]
    }
   ],
   "source": [
    "reveal_square(0, 1, p_board, g_board) ## should do nothing, already selected this square.\n",
    "print_b(p_board)"
   ]
  },
  {
   "cell_type": "code",
   "execution_count": 5,
   "metadata": {},
   "outputs": [
    {
     "name": "stdout",
     "output_type": "stream",
     "text": [
      "['_', '1', '_', '_', '1']\n",
      "['_', '_', '_', '_', '_']\n",
      "['0', '_', '_', '_', '_']\n",
      "['_', '_', '_', '_', '_']\n",
      "['1', '_', '_', '_', '_']\n"
     ]
    }
   ],
   "source": [
    "reveal_square(0, 4, p_board, g_board)\n",
    "reveal_square(4, 0, p_board, g_board)\n",
    "reveal_square(2, 0, p_board, g_board)\n",
    "print_b(p_board)"
   ]
  },
  {
   "cell_type": "code",
   "execution_count": 6,
   "metadata": {},
   "outputs": [
    {
     "data": {
      "text/plain": [
       "'GAME OVER'"
      ]
     },
     "execution_count": 6,
     "metadata": {},
     "output_type": "execute_result"
    }
   ],
   "source": [
    "reveal_square(4, 4, p_board, g_board) ## A Bomb! Oh noes..."
   ]
  },
  {
   "cell_type": "code",
   "execution_count": 7,
   "metadata": {},
   "outputs": [
    {
     "name": "stdout",
     "output_type": "stream",
     "text": [
      "['_', '1', '_', '_', '1']\n",
      "['_', '_', '_', '_', '_']\n",
      "['0', '_', '_', '_', '_']\n",
      "['_', '_', '_', '_', '_']\n",
      "['1', '_', '_', '_', 'B']\n"
     ]
    }
   ],
   "source": [
    "print_b(p_board) ## Shows the bomb in the corner. "
   ]
  },
  {
   "cell_type": "markdown",
   "metadata": {},
   "source": [
    "## Solution Explanation\n",
    "\n",
    "So this code isn't too difficult to explain, and one of the reason my solution looks simple is because we made good use of a number of functions we have defined prevoiusly (eg. set_square, get_square). \n",
    "\n",
    "    p_square = get_square(row, col, player_board)\n",
    "    if p_square in \"012345678F\":\n",
    "        pass\n",
    "        \n",
    "So here we check if the player has (or has not) revealed the square already (\"F\" denotes a \"Flag\"). In which case, we should do nothing.  \n",
    "        \n",
    "\tsquare = get_square(row, col, game_board)\n",
    "\n",
    "This line simply checks what the value of square(row, col) is on the game board.  g_square should be either a number in the range 0-to-8 or a capital letter “B” for Bomb. \n",
    "\n",
    "    set_square(row, col, g_square, player_board)\n",
    "\n",
    "Here we set the player_board to the square “underneath”. \n",
    "\n",
    "    if g_square == \"B\":\n",
    "        return \"GAME OVER\"   \n",
    "\n",
    "If we reveal a bomb its game over. For now we are simply returning a string, but later on we could add a ‘game_over’ function to give the player more options (such as starting a new game, or maybe we want to show them the whole board, etc)."
   ]
  },
  {
   "cell_type": "markdown",
   "metadata": {},
   "source": [
    "## Flag Square Function, Possible Solution"
   ]
  },
  {
   "cell_type": "code",
   "execution_count": 8,
   "metadata": {
    "collapsed": true
   },
   "outputs": [],
   "source": [
    "def flag_square(row, col, player_board):\n",
    "    p_square = get_square(row, col, player_board)\n",
    "    if p_square == \"_\":\n",
    "        set_square(row, col, \"F\", player_board)\n",
    "    elif p_square == \"F\":\n",
    "        set_square(row, col, \"_\", player_board)\n",
    "        \n",
    "new_p_board = [[\"_\" for i in range(5)] for i in range(5)]"
   ]
  },
  {
   "cell_type": "code",
   "execution_count": 9,
   "metadata": {},
   "outputs": [
    {
     "name": "stdout",
     "output_type": "stream",
     "text": [
      "['F', '_', '_', '_', '_']\n",
      "['_', '_', '_', '_', '_']\n",
      "['_', '_', '_', '_', '_']\n",
      "['_', '_', '_', '_', '_']\n",
      "['_', '_', '_', '_', '_']\n"
     ]
    }
   ],
   "source": [
    "flag_square(0,0, new_p_board) ## Flags square (0,0).\n",
    "print_b(new_p_board)"
   ]
  },
  {
   "cell_type": "code",
   "execution_count": 10,
   "metadata": {},
   "outputs": [
    {
     "name": "stdout",
     "output_type": "stream",
     "text": [
      "['_', '_', '_', '_', '_']\n",
      "['_', '_', '_', '_', '_']\n",
      "['_', '_', '_', '_', '_']\n",
      "['_', '_', '_', '_', '_']\n",
      "['_', '_', '_', '_', '_']\n"
     ]
    }
   ],
   "source": [
    "flag_square(0,0, new_p_board) ## De-Flags square (0,0).\n",
    "print_b(new_p_board)"
   ]
  },
  {
   "cell_type": "code",
   "execution_count": 11,
   "metadata": {},
   "outputs": [
    {
     "name": "stdout",
     "output_type": "stream",
     "text": [
      "['_', '_', '1', '_', '_']\n",
      "['_', '_', '_', '_', '_']\n",
      "['_', '_', '_', '_', '_']\n",
      "['_', '_', '_', '_', '_']\n",
      "['_', '_', '_', '_', '_']\n"
     ]
    }
   ],
   "source": [
    "reveal_square(0,2, new_p_board, g_board)\n",
    "flag_square(0,2, new_p_board) ## should do nothing.\n",
    "print_b(new_p_board)"
   ]
  },
  {
   "cell_type": "markdown",
   "metadata": {},
   "source": [
    "## Solution Explanation\n",
    "\n",
    "Again, a fairly straight-forward function:\n",
    "\n",
    "    p_square = get_square(row, col, player_board)\n",
    "    if p_square == \"_\":\n",
    "        set_square(row, col, \"F\", player_board)\n",
    "   \n",
    "If the square in question (on the player board) has not already been selected previously then we set that square to an \"F\". \n",
    "\n",
    "    elif p_square == \"F\":\n",
    "        set_square(row, col, \"_\", player_board)\n",
    "        \n",
    "If the square in question is already an \"F\", we d-flag the square by changing it back to the \"_\" character. "
   ]
  }
 ],
 "metadata": {
  "kernelspec": {
   "display_name": "Python 3",
   "language": "python",
   "name": "python3"
  },
  "language_info": {
   "codemirror_mode": {
    "name": "ipython",
    "version": 3
   },
   "file_extension": ".py",
   "mimetype": "text/x-python",
   "name": "python",
   "nbconvert_exporter": "python",
   "pygments_lexer": "ipython3",
   "version": "3.5.2"
  }
 },
 "nbformat": 4,
 "nbformat_minor": 2
}
