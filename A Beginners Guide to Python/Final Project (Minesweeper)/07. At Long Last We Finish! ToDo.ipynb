{
 "cells": [
  {
   "cell_type": "markdown",
   "metadata": {
    "collapsed": true
   },
   "source": [
    "We are soooo close to the finish line! We basically have two more things to do in order to get our game functioning. Exciting huh?\n",
    "\n",
    "## Game Won Function\n",
    "\n",
    "The game won function will take two board as input and will check that the player has flagged all the bombs. Note: you should probably check that the players has not flagged every possible square on the board before declaring a winner!\n",
    "\n",
    "## Play Game Function\n",
    "\n",
    "This function should get the ball rolling! Create a function that calls all the other functions so that the players doesn't have to do it themselfs.\n",
    "\n",
    "## UI (optional)\n",
    "\n",
    "You don't have to build a UI (user-interface), but if you want your game to be more player-friendly it might be a good idea. Here's a hint: why not use the input built-in, rather then make the player call various functions?\n",
    "\n",
    "## Why so 'bare-bones' today?\n",
    "\n",
    "You may notice that this lecture is really really short; just two sentances explaining each task. Why did I do that? Well, as I mentioned numerous times by now programming isn't something you can be spoon-fed; rather, you learn by *struggling* with material.\n",
    "\n",
    "In the real world do you actually think people tell you how to solve every problem in detail? Of course they don't. In the real world you get given a problem and you in many cases very little guidance beyond a specification. \n",
    "\n",
    "The real struggle (and fun bit, if you ask me) of programming is not figuring out language syntax or whatever, no, the real struggle is trying to figure out a path through a dark dark forrest. \n",
    "\n",
    "I believe you have the skills to iplement these functions reasonable well, but I'm going to let you guys flonder and struggle a little as you try to figure out exactly *how* you should do it. \n",
    "\n",
    "Good luck!"
   ]
  }
 ],
 "metadata": {
  "kernelspec": {
   "display_name": "Python 3",
   "language": "python",
   "name": "python3"
  },
  "language_info": {
   "codemirror_mode": {
    "name": "ipython",
    "version": 3
   },
   "file_extension": ".py",
   "mimetype": "text/x-python",
   "name": "python",
   "nbconvert_exporter": "python",
   "pygments_lexer": "ipython3",
   "version": "3.5.2"
  }
 },
 "nbformat": 4,
 "nbformat_minor": 2
}
